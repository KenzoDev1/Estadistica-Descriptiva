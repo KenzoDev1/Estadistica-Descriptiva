{
 "cells": [
  {
   "cell_type": "markdown",
   "id": "db98e7ee",
   "metadata": {},
   "source": [
    "# Item 1\n",
    "\n",
    "Se debe realizar lo siguiente acerca de cualquier información de relevancia:\n",
    "* Gráficos.\n",
    "* Tablas de frecuencia, con una o más variables.\n",
    "* Medidas de tendencia central.\n",
    "* Percentiles.\n",
    "* Medidas de dispersión.\n",
    "* Otros resúmenes."
   ]
  },
  {
   "cell_type": "markdown",
   "id": "6fea1469",
   "metadata": {},
   "source": [
    "# Item 2\n",
    "\n",
    "Investigar y responder lo siguiente:\n",
    "\n",
    "1. ¿Hay áreas del conocimiento donde las carreras sean más caras? Expliquen qué criterio diseñaron para responder la pregunta.\n",
    "2. ¿Qué influencia tiene la edad en el tipo de institución a la que ingresan los estudiantes?\n",
    "3. ¿Hay carreras cuyo arancel sea sustantivamente más caro que la mayoría de los aranceles? ¿Qué explicación pueden encontrar? Consideren qué variables de la base de datos los puede ayudar y el contexto de la región que les tocó trabajar."
   ]
  }
 ],
 "metadata": {
  "language_info": {
   "name": "python"
  }
 },
 "nbformat": 4,
 "nbformat_minor": 5
}
