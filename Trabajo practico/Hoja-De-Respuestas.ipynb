{
 "cells": [
  {
   "cell_type": "code",
   "execution_count": 2,
   "id": "2cbaf48d",
   "metadata": {},
   "outputs": [],
   "source": [
    "import matplotlib.pyplot as plt\n",
    "import pandas as pd\n",
    "DB_Magallanes = pd.read_excel('16_MATRICULAS_ED_SUPERIOR_MAGALLANES_2021.xlsx')"
   ]
  },
  {
   "cell_type": "markdown",
   "id": "db98e7ee",
   "metadata": {},
   "source": [
    "# Item 1\n",
    "\n",
    "Se debe realizar lo siguiente acerca de cualquier información de relevancia:\n",
    "* Tablas de frecuencia, con una o más variables.\n",
    "* Gráficos.\n",
    "* Medidas de tendencia central.\n",
    "* Percentiles.\n",
    "* Medidas de dispersión.\n",
    "* Otros resúmenes."
   ]
  },
  {
   "cell_type": "code",
   "execution_count": 18,
   "id": "2bb1220a",
   "metadata": {},
   "outputs": [
    {
     "name": "stdout",
     "output_type": "stream",
     "text": [
      "\n",
      "      Se analizará la distribución de los estudiantes matriculados en educación superior \n",
      "      en la región de Magallanes y Antártica Chilena, según el tipo de institución a la que pertenecen \n",
      "      (Universidad, Instituto Profesional o Centro de Formación Técnica).\n"
     ]
    }
   ],
   "source": [
    "# ANALISIS DE LA BASE DE DATOS DE MATRICULAS DE EDUCACION SUPERIOR DE LA REGION DE MAGALLANES 2021\n",
    "print(\"\"\"\n",
    "      Se analizará la distribución de los estudiantes matriculados en educación superior \n",
    "      en la región de Magallanes y Antártica Chilena, según el tipo de institución a la que pertenecen \n",
    "      (Universidad, Instituto Profesional o Centro de Formación Técnica).\"\"\")"
   ]
  },
  {
   "cell_type": "code",
   "execution_count": null,
   "id": "065fba78",
   "metadata": {},
   "outputs": [
    {
     "data": {
      "text/html": [
       "<div>\n",
       "<style scoped>\n",
       "    .dataframe tbody tr th:only-of-type {\n",
       "        vertical-align: middle;\n",
       "    }\n",
       "\n",
       "    .dataframe tbody tr th {\n",
       "        vertical-align: top;\n",
       "    }\n",
       "\n",
       "    .dataframe thead th {\n",
       "        text-align: right;\n",
       "    }\n",
       "</style>\n",
       "<table border=\"1\" class=\"dataframe\">\n",
       "  <thead>\n",
       "    <tr style=\"text-align: right;\">\n",
       "      <th></th>\n",
       "      <th>Frecuencia Absoluta</th>\n",
       "      <th>Frecuencia Absoluta Acumulada</th>\n",
       "      <th>Frecuencia Relativa (%)</th>\n",
       "      <th>Frecuencia Relativa Acumulada (%)</th>\n",
       "    </tr>\n",
       "    <tr>\n",
       "      <th>TIPO DE INSTITUCION</th>\n",
       "      <th></th>\n",
       "      <th></th>\n",
       "      <th></th>\n",
       "      <th></th>\n",
       "    </tr>\n",
       "  </thead>\n",
       "  <tbody>\n",
       "    <tr>\n",
       "      <th>Universidades CRUCH</th>\n",
       "      <td>3294</td>\n",
       "      <td>3294</td>\n",
       "      <td>56.83</td>\n",
       "      <td>56.8</td>\n",
       "    </tr>\n",
       "    <tr>\n",
       "      <th>Centros de Formacion Tecnica</th>\n",
       "      <td>1480</td>\n",
       "      <td>4774</td>\n",
       "      <td>25.53</td>\n",
       "      <td>82.4</td>\n",
       "    </tr>\n",
       "    <tr>\n",
       "      <th>Institutos Profesionales</th>\n",
       "      <td>877</td>\n",
       "      <td>5651</td>\n",
       "      <td>15.13</td>\n",
       "      <td>97.5</td>\n",
       "    </tr>\n",
       "    <tr>\n",
       "      <th>Universidades Privadas</th>\n",
       "      <td>145</td>\n",
       "      <td>5796</td>\n",
       "      <td>2.50</td>\n",
       "      <td>100.0</td>\n",
       "    </tr>\n",
       "  </tbody>\n",
       "</table>\n",
       "</div>"
      ],
      "text/plain": [
       "                              Frecuencia Absoluta  \\\n",
       "TIPO DE INSTITUCION                                 \n",
       "Universidades CRUCH                          3294   \n",
       "Centros de Formacion Tecnica                 1480   \n",
       "Institutos Profesionales                      877   \n",
       "Universidades Privadas                        145   \n",
       "\n",
       "                              Frecuencia Absoluta Acumulada  \\\n",
       "TIPO DE INSTITUCION                                           \n",
       "Universidades CRUCH                                    3294   \n",
       "Centros de Formacion Tecnica                           4774   \n",
       "Institutos Profesionales                               5651   \n",
       "Universidades Privadas                                 5796   \n",
       "\n",
       "                              Frecuencia Relativa (%)  \\\n",
       "TIPO DE INSTITUCION                                     \n",
       "Universidades CRUCH                             56.83   \n",
       "Centros de Formacion Tecnica                    25.53   \n",
       "Institutos Profesionales                        15.13   \n",
       "Universidades Privadas                           2.50   \n",
       "\n",
       "                              Frecuencia Relativa Acumulada (%)  \n",
       "TIPO DE INSTITUCION                                              \n",
       "Universidades CRUCH                                        56.8  \n",
       "Centros de Formacion Tecnica                               82.4  \n",
       "Institutos Profesionales                                   97.5  \n",
       "Universidades Privadas                                    100.0  "
      ]
     },
     "execution_count": 14,
     "metadata": {},
     "output_type": "execute_result"
    }
   ],
   "source": [
    "# Tabla de frecuencia de la distribución de estudiantes por Tipo de Institución\n",
    "Tabla_frecuencia_absoluta_DB_Magallanes = DB_Magallanes['TIPO DE INSTITUCION'].value_counts()\n",
    "Tabla_frecuencia_absoluta_acumulado_DB_Magallanes = DB_Magallanes['TIPO DE INSTITUCION'].value_counts().cumsum()\n",
    "Tabla_frecuencia_relativa_DB_Magallanes = round((Tabla_frecuencia_absoluta_DB_Magallanes / Tabla_frecuencia_absoluta_DB_Magallanes.sum() * 100),2)\n",
    "Tabla_frecuencia_relativa_acumulada_DB_Magallanes = round((Tabla_frecuencia_relativa_DB_Magallanes.cumsum()),1)\n",
    "\n",
    "Tabla_fr_instituciones_DB_Magallanes = pd.DataFrame({\n",
    "    'Frecuencia Absoluta': Tabla_frecuencia_absoluta_DB_Magallanes,\n",
    "    'Frecuencia Absoluta Acumulada': Tabla_frecuencia_absoluta_acumulado_DB_Magallanes,\n",
    "    'Frecuencia Relativa (%)': Tabla_frecuencia_relativa_DB_Magallanes,\n",
    "    'Frecuencia Relativa Acumulada (%)': Tabla_frecuencia_relativa_acumulada_DB_Magallanes\n",
    "})\n",
    "\n",
    "Tabla_fr_instituciones_DB_Magallanes"
   ]
  },
  {
   "cell_type": "code",
   "execution_count": 15,
   "id": "24d00a7b",
   "metadata": {},
   "outputs": [
    {
     "data": {
      "image/png": "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",
      "text/plain": [
       "<Figure size 600x400 with 1 Axes>"
      ]
     },
     "metadata": {},
     "output_type": "display_data"
    }
   ],
   "source": [
    "# Gráfico de torta de la distribución de estudiantes por Tipo de Institución\n",
    "etiqueta_g_cicular = Tabla_fr_instituciones_DB_Magallanes.index\n",
    "datos = Tabla_fr_instituciones_DB_Magallanes['Frecuencia Absoluta']\n",
    "\n",
    "fig, ax = plt.subplots(figsize=(6,4))\n",
    "circular = ax.pie(datos, labels=etiqueta_g_cicular, autopct='%1.1f%%', startangle=90)\n",
    "ax.set_title('Distribución de Estudiantes por Tipo de Institución - Magallanes 2021', pad=20)\n",
    "plt.tight_layout()"
   ]
  },
  {
   "cell_type": "code",
   "execution_count": 20,
   "id": "42bf4231",
   "metadata": {},
   "outputs": [
    {
     "name": "stdout",
     "output_type": "stream",
     "text": [
      "\n",
      "      Medidas de tendencia central del Valor del Arancel (Pesos):\n",
      "      * Media: 2,693,403 pesos\n",
      "      * Mediana: 2,234,000 pesos\n",
      "      * Moda: 3,555,000 pesos\n",
      "      \n"
     ]
    }
   ],
   "source": [
    "# Medidas de tendencia central VALOR ARANCEL (PESOS)\n",
    "media_arancel = DB_Magallanes['VALOR ARANCEL (PESOS)'].mean()\n",
    "mediana_arancel = DB_Magallanes['VALOR ARANCEL (PESOS)'].median()\n",
    "moda_arancel = DB_Magallanes['VALOR ARANCEL (PESOS)'].mode()[0]\n",
    "print(f\"\"\"\n",
    "      Medidas de tendencia central del Valor del Arancel (Pesos):\n",
    "      * Media: {media_arancel:,.0f} pesos\n",
    "      * Mediana: {mediana_arancel:,.0f} pesos\n",
    "      * Moda: {moda_arancel:,.0f} pesos\n",
    "      \"\"\")"
   ]
  },
  {
   "cell_type": "code",
   "execution_count": 32,
   "id": "be054e21",
   "metadata": {},
   "outputs": [
    {
     "name": "stdout",
     "output_type": "stream",
     "text": [
      "\n",
      "      Medidas de dispersión del Valor del Arancel (Pesos):\n",
      "      * Varianza: 1,146,763,982,696 pesos\n",
      "      * Desviación Estándar: 1,070,871 pesos\n",
      "      * Rango: 5,011,000 pesos\n",
      "      * Rango Intercuartílico: 1,724,000 pesos\n",
      "        \n"
     ]
    }
   ],
   "source": [
    "# Medidas de dispersión VALOR ARANCEL (PESOS)\n",
    "\n",
    "# La varianza es la medida de cuánto varían los datos con respecto a la media.\n",
    "varianza_arancel = DB_Magallanes['VALOR ARANCEL (PESOS)'].var()\n",
    "\n",
    "# la desviación estándar es la raíz cuadrada de la varianza, es el promedio de qué tan lejos están los datos de la media.\n",
    "desviacion_estandar_arancel = DB_Magallanes['VALOR ARANCEL (PESOS)'].std()\n",
    "\n",
    "# El rango es la diferencia entre el valor máximo y el valor mínimo.\n",
    "rango_arancel = DB_Magallanes['VALOR ARANCEL (PESOS)'].max() - DB_Magallanes['VALOR ARANCEL (PESOS)'].min()\n",
    "\n",
    "# El rango intercuartílico (IQR) es la diferencia entre el tercer cuartil (Q3) y el primer cuartil (Q1).\n",
    "rango_intercuartilico_arancel = DB_Magallanes['VALOR ARANCEL (PESOS)'].quantile(0.75) - DB_Magallanes['VALOR ARANCEL (PESOS)'].quantile(0.25)\n",
    "\n",
    "print(f\"\"\"\n",
    "      Medidas de dispersión del Valor del Arancel (Pesos):\n",
    "      * Varianza: {varianza_arancel:,.0f} pesos\n",
    "      * Desviación Estándar: {desviacion_estandar_arancel:,.0f} pesos\n",
    "      * Rango: {rango_arancel:,.0f} pesos\n",
    "      * Rango Intercuartílico: {rango_intercuartilico_arancel:,.0f} pesos\n",
    "        \"\"\")\n",
    "\n",
    "# FORMA RAPIDA DE SACAR MEDIDAS \n",
    "# DB_Magallanes['VALOR ARANCEL (PESOS)'].describe().round(2)\n"
   ]
  },
  {
   "cell_type": "code",
   "execution_count": 22,
   "id": "9f1a006f",
   "metadata": {},
   "outputs": [
    {
     "name": "stdout",
     "output_type": "stream",
     "text": [
      "Primer quartil (Q1): 1,831,000 pesos\n",
      "Segundo quartil (Q2): 2,234,000 pesos\n",
      "Tercer quartil (Q3): 3,555,000 pesos\n"
     ]
    }
   ],
   "source": [
    "# Percentiles VALOR ARANCEL (PESOS)\n",
    "cuartiles_arancel = DB_Magallanes['VALOR ARANCEL (PESOS)'].quantile([0.25, 0.5, 0.75])\n",
    "\n",
    "print(f\"Primer quartil (Q1): {cuartiles_arancel[0.25]:,.0f} pesos\")\n",
    "print(f\"Segundo quartil (Q2): {cuartiles_arancel[0.5]:,.0f} pesos\")\n",
    "print(f\"Tercer quartil (Q3): {cuartiles_arancel[0.75]:,.0f} pesos\")"
   ]
  },
  {
   "cell_type": "code",
   "execution_count": 38,
   "id": "2c1f008d",
   "metadata": {},
   "outputs": [
    {
     "data": {
      "text/plain": [
       "count    5.796000e+03\n",
       "mean     2.693403e+06\n",
       "std      1.070871e+06\n",
       "min      8.000000e+04\n",
       "25%      1.831000e+06\n",
       "50%      2.234000e+06\n",
       "75%      3.555000e+06\n",
       "max      5.091000e+06\n",
       "Name: VALOR ARANCEL (PESOS), dtype: float64"
      ]
     },
     "execution_count": 38,
     "metadata": {},
     "output_type": "execute_result"
    }
   ],
   "source": [
    "DB_Magallanes['VALOR ARANCEL (PESOS)'].describe()"
   ]
  },
  {
   "cell_type": "code",
   "execution_count": 47,
   "id": "ec143106",
   "metadata": {},
   "outputs": [
    {
     "name": "stdout",
     "output_type": "stream",
     "text": [
      "Resumen estadístico del Valor del Arancel (Pesos):\n",
      "--------------------------------------------------\n",
      " * Total de registros (count): 5,796\n",
      " * Mínimo (min): 80,000\n",
      " * Máximo (max): 5,091,000\n",
      " * Media (mean): 2,693,403\n",
      " * Mediana (50%): 2,234,000\n",
      " * Moda: 3,555,000\n",
      " * Primer cuartil (25%): 1,831,000\n",
      " * Segundo cuartil (50%): 2,234,000\n",
      " * Tercer cuartil (75%): 3,555,000\n",
      " * Desviación Estándar (std): 1,070,871\n"
     ]
    }
   ],
   "source": [
    "# Otros resúmenes\n",
    "resumen_estadistico = DB_Magallanes['VALOR ARANCEL (PESOS)'].describe()\n",
    "print(\"Resumen estadístico del Valor del Arancel (Pesos):\")\n",
    "print(\"-\"*50)\n",
    "print(f\" * Total de registros (count): {resumen_estadistico['count']:,.0f}\")\n",
    "print(f\" * Mínimo (min): {resumen_estadistico['min']:,.0f}\")\n",
    "print(f\" * Máximo (max): {resumen_estadistico['max']:,.0f}\")\n",
    "print(f\" * Media (mean): {resumen_estadistico['mean']:,.0f}\")\n",
    "print(f\" * Mediana (50%): {resumen_estadistico['50%']:,.0f}\")\n",
    "print(f\" * Moda: {moda_arancel:,.0f}\")\n",
    "print(f\" * Primer cuartil (25%): {resumen_estadistico['25%']:,.0f}\")\n",
    "print(f\" * Segundo cuartil (50%): {resumen_estadistico['50%']:,.0f}\")\n",
    "print(f\" * Tercer cuartil (75%): {resumen_estadistico['75%']:,.0f}\")\n",
    "print(f\" * Desviación Estándar (std): {resumen_estadistico['std']:,.0f}\")"
   ]
  },
  {
   "cell_type": "markdown",
   "id": "6fea1469",
   "metadata": {},
   "source": [
    "# Item 2\n",
    "\n",
    "Investigar y responder lo siguiente:\n",
    "\n",
    "1. ¿Hay áreas del conocimiento donde las carreras sean más caras? Expliquen qué criterio diseñaron para responder la pregunta.\n",
    "2. ¿Qué influencia tiene la edad en el tipo de institución a la que ingresan los estudiantes?"
   ]
  },
  {
   "cell_type": "markdown",
   "id": "23709978",
   "metadata": {},
   "source": [
    "3. ¿Hay carreras cuyo arancel sea sustantivamente más caro que la mayoría de los aranceles? ¿Qué explicación pueden encontrar? Consideren qué variables de la base de datos los puede ayudar y el contexto de la región que les tocó trabajar."
   ]
  },
  {
   "cell_type": "code",
   "execution_count": null,
   "id": "b0fd8b98",
   "metadata": {},
   "outputs": [
    {
     "name": "stdout",
     "output_type": "stream",
     "text": [
      "3992669.1214246103\n"
     ]
    },
    {
     "data": {
      "text/plain": [
       "NOMBRE CARRERA\n",
       "MEDICINA                       5091000.0\n",
       "AUDITORIA                      4117000.0\n",
       "INGENIERIA CIVIL PLAN COMUN    4117000.0\n",
       "DERECHO                        4117000.0\n",
       "ARQUITECTURA                   4091000.0\n",
       "PSICOLOGIA                     4057000.0\n",
       "Name: VALOR ARANCEL (PESOS), dtype: float64"
      ]
     },
     "execution_count": 26,
     "metadata": {},
     "output_type": "execute_result"
    }
   ],
   "source": [
    "# Objetivo: Encontrar 2 o 3 carreras que sean las mas caras segun los demas aranceles\n",
    "import pandas as pd\n",
    "# Inicializar DataFrame\n",
    "df = pd.read_excel('16_MATRICULAS_ED_SUPERIOR_MAGALLANES_2021.xlsx')\n",
    "\n",
    "# Calcular la media de todos los aranceles por carrera y crear un nuevo DataFrame\n",
    "media_aranceles_por_carrera = round(df.groupby('NOMBRE CARRERA')['VALOR ARANCEL (PESOS)'].mean())\n",
    "# Calcular la media\n",
    "media = media_aranceles_por_carrera.mean()\n",
    "# Calcular desviacion estandar\n",
    "desviacion_estandar = media_aranceles_por_carrera.std()\n",
    "# Calcular el limite superior\n",
    "# Para calcular el limite superior existe diversas formulas, pero escogi \"El metodo de la desviacion estandar\"\n",
    "# Entonces asi no me salgo de lo que mas o menos conozco, y hemos pasado de materia\n",
    "# Limite superior = media + (3 * Desviacion estandar) puede ser 2 o 1, dependiendo de que tan alto o bajo es el limite\n",
    "# Este limite es aproximadamente de 95%\n",
    "limite_superior = media + (2 * desviacion_estandar)\n",
    "\n",
    "# Comparar las carreras para encontrar las carreras mas caras\n",
    "carreras_mas_caras = media_aranceles_por_carrera[media_aranceles_por_carrera > limite_superior].sort_values(ascending=False)\n",
    "\n",
    "print(\"Si hay carreras que sustantivamente sean mas caros en su arancel, que otras, se encuentran en este DataFrame\")\n",
    "print(\"Como se puede observar la moda, es claramente la carrera de Medicina\")\n",
    "print(\"La explicacion que podemos encontrar de porque estas carreras son mas caras y porque medicina es la carrera mas cara en la region de Magallanes\")\n",
    "print(\"Las variables de la base datos en las que nos basamos para encontrar esta respuesta fueron las 'NOMBRE CARRERA' y 'VALOR ARANCEL (PESOS)'\")\n",
    "print(\"Ya que habia que agrupar los aranceles por carrera, y sacar su promedio para poder saber que arancel de cierta carrera era la mas cara\")\n",
    "print('''La razon de porque es mas caro la carrera de medicina es porque tienen laboratorios muy avanzados y equipamientod de alta tecnologia\n",
    "        llevar todo este equipamiento a Punta Arenas es muy caro, no es lo mismo que llevarlo a Santiago por decirlo de una forma,\n",
    "        ademas en esa region no hay mucha competencia, entonces las universidades que hay pueden poner el precio que quieren, sin preocuparse\n",
    "        de la competencia con otras instituciones.\n",
    "      ''')\n",
    "# Esto porque son las 2 variables clave en este problema\n",
    "carreras_mas_caras"
   ]
  }
 ],
 "metadata": {
  "kernelspec": {
   "display_name": "Python 3",
   "language": "python",
   "name": "python3"
  },
  "language_info": {
   "codemirror_mode": {
    "name": "ipython",
    "version": 3
   },
   "file_extension": ".py",
   "mimetype": "text/x-python",
   "name": "python",
   "nbconvert_exporter": "python",
   "pygments_lexer": "ipython3",
   "version": "3.13.3"
=======
   "version": "3.11.9"
  }
 },
 "nbformat": 4,
 "nbformat_minor": 5
}
