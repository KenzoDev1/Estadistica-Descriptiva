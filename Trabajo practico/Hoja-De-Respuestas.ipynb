{
 "cells": [
  {
   "cell_type": "markdown",
   "id": "db98e7ee",
   "metadata": {},
   "source": [
    "# Item 1\n",
    "\n",
    "Se debe realizar lo siguiente acerca de cualquier información de relevancia:\n",
    "* Gráficos.\n",
    "* Tablas de frecuencia, con una o más variables.\n",
    "* Medidas de tendencia central.\n",
    "* Percentiles.\n",
    "* Medidas de dispersión.\n",
    "* Otros resúmenes."
   ]
  },
  {
   "cell_type": "markdown",
   "id": "6fea1469",
   "metadata": {},
   "source": [
    "# Item 2\n",
    "\n",
    "Investigar y responder lo siguiente:\n",
    "\n",
    "1. ¿Hay áreas del conocimiento donde las carreras sean más caras? Expliquen qué criterio diseñaron para responder la pregunta.\n",
    "2. ¿Qué influencia tiene la edad en el tipo de institución a la que ingresan los estudiantes?"
   ]
  },
  {
   "cell_type": "markdown",
   "id": "23709978",
   "metadata": {},
   "source": [
    "3. ¿Hay carreras cuyo arancel sea sustantivamente más caro que la mayoría de los aranceles? ¿Qué explicación pueden encontrar? Consideren qué variables de la base de datos los puede ayudar y el contexto de la región que les tocó trabajar."
   ]
  },
  {
   "cell_type": "code",
   "execution_count": null,
   "id": "b0fd8b98",
   "metadata": {},
   "outputs": [
    {
     "name": "stdout",
     "output_type": "stream",
     "text": [
      "3992669.1214246103\n"
     ]
    },
    {
     "data": {
      "text/plain": [
       "NOMBRE CARRERA\n",
       "MEDICINA                       5091000.0\n",
       "AUDITORIA                      4117000.0\n",
       "INGENIERIA CIVIL PLAN COMUN    4117000.0\n",
       "DERECHO                        4117000.0\n",
       "ARQUITECTURA                   4091000.0\n",
       "PSICOLOGIA                     4057000.0\n",
       "Name: VALOR ARANCEL (PESOS), dtype: float64"
      ]
     },
     "execution_count": 26,
     "metadata": {},
     "output_type": "execute_result"
    }
   ],
   "source": [
    "# Objetivo: Encontrar 2 o 3 carreras que sean las mas caras segun los demas aranceles\n",
    "import pandas as pd\n",
    "# Inicializar DataFrame\n",
    "df = pd.read_excel('16_MATRICULAS_ED_SUPERIOR_MAGALLANES_2021.xlsx')\n",
    "\n",
    "# Calcular la media de todos los aranceles por carrera y crear un nuevo DataFrame\n",
    "media_aranceles_por_carrera = round(df.groupby('NOMBRE CARRERA')['VALOR ARANCEL (PESOS)'].mean())\n",
    "# Calcular la media\n",
    "media = media_aranceles_por_carrera.mean()\n",
    "# Calcular desviacion estandar\n",
    "desviacion_estandar = media_aranceles_por_carrera.std()\n",
    "# Calcular el limite superior\n",
    "# Para calcular el limite superior existe diversas formulas, pero escogi \"El metodo de la desviacion estandar\"\n",
    "# Entonces asi no me salgo de lo que mas o menos conozco, y hemos pasado de materia\n",
    "# Limite superior = media + (3 * Desviacion estandar) puede ser 2 o 1, dependiendo de que tan alto o bajo es el limite\n",
    "# Este limite es aproximadamente de 95%\n",
    "limite_superior = media + (2 * desviacion_estandar)\n",
    "\n",
    "# Comparar las carreras para encontrar las carreras mas caras\n",
    "carreras_mas_caras = media_aranceles_por_carrera[media_aranceles_por_carrera > limite_superior].sort_values(ascending=False)\n",
    "\n",
    "print(\"Si hay carreras que sustantivamente sean mas caros en su arancel, que otras, se encuentran en este DataFrame\")\n",
    "print(\"Como se puede observar la moda, es claramente la carrera de Medicina\")\n",
    "print(\"La explicacion que podemos encontrar de porque estas carreras son mas caras y porque medicina es la carrera mas cara en la region de Magallanes\")\n",
    "print(\"Las variables de la base datos en las que nos basamos para encontrar esta respuesta fueron las 'NOMBRE CARRERA' y 'VALOR ARANCEL (PESOS)'\")\n",
    "print(\"Ya que habia que agrupar los aranceles por carrera, y sacar su promedio para poder saber que arancel de cierta carrera era la mas cara\")\n",
    "print('''La razon de porque es mas caro la carrera de medicina es porque tienen laboratorios muy avanzados y equipamientod de alta tecnologia\n",
    "        llevar todo este equipamiento a Punta Arenas es muy caro, no es lo mismo que llevarlo a Santiago por decirlo de una forma,\n",
    "        ademas en esa region no hay mucha competencia, entonces las universidades que hay pueden poner el precio que quieren, sin preocuparse\n",
    "        de la competencia con otras instituciones.\n",
    "      ''')\n",
    "# Esto porque son las 2 variables clave en este problema :)\n",
    "carreras_mas_caras"
   ]
  }
 ],
 "metadata": {
  "kernelspec": {
   "display_name": "Python 3",
   "language": "python",
   "name": "python3"
  },
  "language_info": {
   "codemirror_mode": {
    "name": "ipython",
    "version": 3
   },
   "file_extension": ".py",
   "mimetype": "text/x-python",
   "name": "python",
   "nbconvert_exporter": "python",
   "pygments_lexer": "ipython3",
   "version": "3.13.3"
  }
 },
 "nbformat": 4,
 "nbformat_minor": 5
}
