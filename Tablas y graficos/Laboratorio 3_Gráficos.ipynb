{
 "cells": [
  {
   "cell_type": "markdown",
   "metadata": {
    "id": "xOobbUyQ1Gcp"
   },
   "source": [
    "# Gráficos"
   ]
  },
  {
   "cell_type": "markdown",
   "metadata": {
    "id": "CyxBrTfM0fl7"
   },
   "source": [
    "## Objetivos:"
   ]
  },
  {
   "cell_type": "markdown",
   "metadata": {
    "id": "SecOQfVP0mA9"
   },
   "source": [
    "Representar variables estadísticas mediante gráficos adecuados según su clasificación y realizar análisis de la información presentada."
   ]
  },
  {
   "cell_type": "markdown",
   "metadata": {
    "id": "b-4eiQ2K04sv"
   },
   "source": [
    "*Nota: Este laboratorio está diseñado para desarrollar razonamiento estadístico. Evita el uso de herramientas de IA para responder las preguntas a menos que esto sea explícitamente sugerido* 🤖. *En su lugar, enfócate en aplicar los conceptos revisados.*"
   ]
  },
  {
   "cell_type": "markdown",
   "metadata": {
    "id": "GF6_K6jHQA1z"
   },
   "source": [
    "## Contexto actividades 1, 2 y 3:"
   ]
  },
  {
   "cell_type": "markdown",
   "metadata": {
    "id": "BcwQToS6QEs7"
   },
   "source": [
    "Una empresa consultora en tecnología desea realizar un estudio exploratorio sobre el perfil de profesionales del área de Tecnologías de la Información (TI). Para ello, recolectó datos de 100.000 trabajadores del sector, incluyendo su edad, ocupación y el lenguaje de programación que utilizan principalmente en su trabajo diario.\n",
    "\n",
    "Como analista de datos, te han encargado generar representaciones gráficas que permitan visualizar esta información de manera clara, elegir los tipos de gráficos más adecuados según las variables involucradas e interpretar los resultados para apoyar la toma de decisiones de la empresa.\n",
    "\n",
    "**Utiliza la siguiente base de datos para responder las actividades 1, 2 y 3.**\n",
    "\n",
    "Descarga la base de datos **<a href=\"https://docs.google.com/spreadsheets/d/1-oqPhxbNrN3c4BFQjTn_TgMrD67djWEW/export?format=xlsx\n",
    "\">aquí</a>**."
   ]
  },
  {
   "cell_type": "markdown",
   "metadata": {
    "id": "MOPpj52P1Jto"
   },
   "source": [
    "### Actividad 1"
   ]
  },
  {
   "cell_type": "markdown",
   "metadata": {
    "id": "kK4zvRwpU8Rj"
   },
   "source": [
    "1. Identifica la población y la muestra del estudio."
   ]
  },
  {
   "cell_type": "code",
   "execution_count": 13,
   "metadata": {},
   "outputs": [
    {
     "name": "stdout",
     "output_type": "stream",
     "text": [
      "La poblacion del estudio son los perfiles de profesionales del area de Tecnologias de la informacion (TI)\n",
      "La muestra del estudio son los 100.000 trabajadores del sector\n"
     ]
    }
   ],
   "source": [
    "print(\"La poblacion del estudio son los perfiles de profesionales del area de Tecnologias de la informacion (TI)\")\n",
    "print(\"La muestra del estudio son los 100.000 trabajadores del sector\")"
   ]
  },
  {
   "cell_type": "markdown",
   "metadata": {
    "id": "ZId1fOBocbFT"
   },
   "source": [
    "2. Importa la base de datos y muestra las primeras 5 filas y las últimas 5 filas del DataFrame."
   ]
  },
  {
   "cell_type": "code",
   "execution_count": 14,
   "metadata": {},
   "outputs": [
    {
     "data": {
      "text/html": [
       "<div>\n",
       "<style scoped>\n",
       "    .dataframe tbody tr th:only-of-type {\n",
       "        vertical-align: middle;\n",
       "    }\n",
       "\n",
       "    .dataframe tbody tr th {\n",
       "        vertical-align: top;\n",
       "    }\n",
       "\n",
       "    .dataframe thead th {\n",
       "        text-align: right;\n",
       "    }\n",
       "</style>\n",
       "<table border=\"1\" class=\"dataframe\">\n",
       "  <thead>\n",
       "    <tr style=\"text-align: right;\">\n",
       "      <th></th>\n",
       "      <th>PAÍS</th>\n",
       "      <th>POBLACIÓN (año 2017)</th>\n",
       "      <th>USUARIOS INTERNET(marzo 2017)</th>\n",
       "      <th>CONTINENTE</th>\n",
       "      <th>Porcentaje usuarios internet segun la poblacion</th>\n",
       "    </tr>\n",
       "  </thead>\n",
       "  <tbody>\n",
       "    <tr>\n",
       "      <th>188</th>\n",
       "      <td>Brasil</td>\n",
       "      <td>204259812</td>\n",
       "      <td>117653652</td>\n",
       "      <td>América</td>\n",
       "      <td>57.600000</td>\n",
       "    </tr>\n",
       "    <tr>\n",
       "      <th>189</th>\n",
       "      <td>Indonesia</td>\n",
       "      <td>248645008</td>\n",
       "      <td>55000000</td>\n",
       "      <td>Asia</td>\n",
       "      <td>22.119889</td>\n",
       "    </tr>\n",
       "    <tr>\n",
       "      <th>190</th>\n",
       "      <td>Estados Unidos</td>\n",
       "      <td>321362789</td>\n",
       "      <td>280742532</td>\n",
       "      <td>América</td>\n",
       "      <td>87.360000</td>\n",
       "    </tr>\n",
       "    <tr>\n",
       "      <th>191</th>\n",
       "      <td>India</td>\n",
       "      <td>1205073612</td>\n",
       "      <td>137000000</td>\n",
       "      <td>Asia</td>\n",
       "      <td>11.368600</td>\n",
       "    </tr>\n",
       "    <tr>\n",
       "      <th>192</th>\n",
       "      <td>China</td>\n",
       "      <td>1343239923</td>\n",
       "      <td>538000000</td>\n",
       "      <td>Asia</td>\n",
       "      <td>40.052413</td>\n",
       "    </tr>\n",
       "  </tbody>\n",
       "</table>\n",
       "</div>"
      ],
      "text/plain": [
       "               PAÍS  POBLACIÓN (año 2017)  USUARIOS INTERNET(marzo 2017)  \\\n",
       "188          Brasil             204259812                      117653652   \n",
       "189       Indonesia             248645008                       55000000   \n",
       "190  Estados Unidos             321362789                      280742532   \n",
       "191           India            1205073612                      137000000   \n",
       "192           China            1343239923                      538000000   \n",
       "\n",
       "    CONTINENTE  Porcentaje usuarios internet segun la poblacion  \n",
       "188    América                                        57.600000  \n",
       "189       Asia                                        22.119889  \n",
       "190    América                                        87.360000  \n",
       "191       Asia                                        11.368600  \n",
       "192       Asia                                        40.052413  "
      ]
     },
     "execution_count": 14,
     "metadata": {},
     "output_type": "execute_result"
    }
   ],
   "source": [
    "# Mostrar las ultimas 5 filas del DataFrame\n",
    "df_1.tail(5)"
   ]
  },
  {
   "cell_type": "markdown",
   "metadata": {
    "id": "BfDI3uuDVVd8"
   },
   "source": [
    "3. ¿Cuál es la clasificación de la variable *Ocupación*? ¿Qué tipo de gráfico es el más adecuado para este tipo de variable?"
   ]
  },
  {
   "cell_type": "code",
   "execution_count": 15,
   "metadata": {},
   "outputs": [],
   "source": [
    "# La clasificacion de la variable 'Ocupación' es cualitativa nominal\n",
    "# El tipo de grafico mas adecuado para una variable cualitativa nominal o cualitativa en general es el grafico circular/de torta"
   ]
  },
  {
   "cell_type": "markdown",
   "metadata": {
    "id": "5C6TgIW3bizY"
   },
   "source": [
    "4. Construye una tabla de frecuencias relativas para la variable *Ocupación* y luego visualízala mediante un gráfico circular."
   ]
  },
  {
   "cell_type": "code",
   "execution_count": 16,
   "metadata": {},
   "outputs": [
    {
     "data": {
      "image/png": "[encoded data removed]",
      "text/plain": [
       "<Figure size 600x400 with 1 Axes>"
      ]
     },
     "metadata": {},
     "output_type": "display_data"
    }
   ],
   "source": [
    "import pandas as pd\n",
    "import matplotlib.pyplot as plt\n",
    "df_1 = pd.read_excel('BDActividad_1_2_3L3.xlsx')\n",
    "\n",
    "# Total de filas del DataFrame\n",
    "tamaño = df_1.shape[0]\n",
    "# Calcular frecuencia relativa\n",
    "f = df_1['Ocupación'].value_counts().sort_index()\n",
    "h = f/tamaño*100\n",
    "# Crear tabla\n",
    "tabla = pd.DataFrame({\n",
    "    'Frec. Absoluta' : f,\n",
    "    'Frec. Relativa (%)' : h\n",
    "})\n",
    "\n",
    "# Etiquetas\n",
    "etiquetas_g_circular = tabla.index\n",
    "f_h_circular = tabla['Frec. Relativa (%)']\n",
    "\n",
    "# Grafico\n",
    "fig, ax = plt.subplots(figsize=(6,4))\n",
    "circular = ax.pie(f_h_circular, labels=etiquetas_g_circular, autopct='%.1f%%')\n",
    "\n",
    "# Personalizacion\n",
    "ax.set_title('Grafico Circular de la variable Ocupación')\n",
    "\n",
    "\n",
    "plt.show()\n"
   ]
  },
  {
   "cell_type": "markdown",
   "metadata": {
    "id": "-x0Nn526y6Q5"
   },
   "source": [
    "5. ¿Cuál es la ocupación más común en esta base de datos? ¿A qué piensas que se debe?"
   ]
  },
  {
   "cell_type": "code",
   "execution_count": 17,
   "metadata": {},
   "outputs": [
    {
     "name": "stdout",
     "output_type": "stream",
     "text": [
      "La ocupación más frecuente es: Programador\n",
      "Creo que se debe a factores como la demanda del mercado y la disponibilidad de habilidades en la población.\n"
     ]
    }
   ],
   "source": [
    "print(f\"La ocupación más frecuente es: {df_1['Ocupación'].mode()[0]}\")\n",
    "print(\"Creo que se debe a factores como la demanda del mercado y la disponibilidad de habilidades en la población.\")"
   ]
  },
  {
   "cell_type": "markdown",
   "metadata": {
    "id": "oNCkYK_Q0gbn"
   },
   "source": [
    "6. En el rol de analista de datos, ¿qué decisiones podrías tomar basándote en los resultados obtenidos?"
   ]
  },
  {
   "cell_type": "code",
   "execution_count": 18,
   "metadata": {},
   "outputs": [
    {
     "name": "stdout",
     "output_type": "stream",
     "text": [
      "Como existe un volumen alto de programadores y ingenieros en redes, habria que filtrar entre todos y encontrar\n",
      "a aquellos que mejor respondan a las necesidades del mercado.\n"
     ]
    }
   ],
   "source": [
    "print(\"Como existe un volumen alto de programadores y ingenieros en redes, habria que filtrar entre todos y encontrar\")\n",
    "print(\"a aquellos que mejor respondan a las necesidades del mercado.\")"
   ]
  },
  {
   "cell_type": "markdown",
   "metadata": {
    "id": "lbQZoGg6Ec0w"
   },
   "source": [
    "### Actividad 2"
   ]
  },
  {
   "cell_type": "markdown",
   "metadata": {
    "id": "ULCfoxbEEk24"
   },
   "source": [
    "Para responder esta actividad considera la base de datos entregada en la celda **Contexto actividades 1, 2 y 3**."
   ]
  },
  {
   "cell_type": "markdown",
   "metadata": {
    "id": "hMrZshj8E_bb"
   },
   "source": [
    "1. ¿Cuál es la clasificación de la variable *Lenguaje de programación*? *Puedes volver a consultar la base de datos con funciones como head() o tail()*"
   ]
  },
  {
   "cell_type": "code",
   "execution_count": 19,
   "metadata": {},
   "outputs": [
    {
     "name": "stdout",
     "output_type": "stream",
     "text": [
      "La variable 'Lenguaje de programación' es una variable cualitativa nominal.\n"
     ]
    }
   ],
   "source": [
    "print(\"La variable 'Lenguaje de programación' es una variable cualitativa nominal.\")"
   ]
  },
  {
   "cell_type": "markdown",
   "metadata": {
    "id": "QPDotOQoFU22"
   },
   "source": [
    "2. Crea una tabla que muestre las frecuencias absolutas y relativas de esta variable. Luego, visualiza apropiadamente la distribución de trabajadores según el lenguaje de programación más utilizado en su trabajo e interpreta lo observado."
   ]
  },
  {
   "cell_type": "code",
   "execution_count": 20,
   "metadata": {},
   "outputs": [
    {
     "data": {
      "image/png": "[encoded data removed]",
      "text/plain": [
       "<Figure size 1000x800 with 1 Axes>"
      ]
     },
     "metadata": {},
     "output_type": "display_data"
    }
   ],
   "source": [
    "# Calcular el nunmero de filas del Dataframe\n",
    "tamaño = df_1.shape[0]\n",
    "\n",
    "# Calcular las frecuencias\n",
    "f = df_1['Lenguaje de programación'].value_counts().sort_index()\n",
    "h = f/tamaño*100\n",
    "\n",
    "# Crear la tabla\n",
    "tabla = pd.DataFrame({\n",
    "    'Frec. Absoluta' : f,\n",
    "    'Frec. Relativa (%)' : h\n",
    "})\n",
    "\n",
    "# Etiquetas\n",
    "etiquetas_g_circular = tabla.index\n",
    "f_h_circular = tabla['Frec. Relativa (%)']\n",
    "\n",
    "# Grafico\n",
    "fig, ax = plt.subplots(figsize=(10,8))\n",
    "circular = ax.pie(f_h_circular, labels=etiquetas_g_circular, autopct='%.1f%%')\n",
    "\n",
    "# Personalizacion\n",
    "ax.set_title('Grafico Circular de la variable Lenguaje de programación')\n",
    "\n",
    "plt.show()\n"
   ]
  },
  {
   "cell_type": "markdown",
   "metadata": {
    "id": "LFpgTXndPUC9"
   },
   "source": [
    "3. ¿Qué conclusiones podrías sacar si este gráfico reflejara resultados de una encuesta nacional?"
   ]
  },
  {
   "cell_type": "code",
   "execution_count": 21,
   "metadata": {},
   "outputs": [
    {
     "name": "stdout",
     "output_type": "stream",
     "text": [
      "Se pueden sacar conclusiones sobre la moda de los lenguaje de programacion mas estudiados hoy en dia\n",
      "y la moda\n"
     ]
    }
   ],
   "source": [
    "print(\"Se pueden sacar conclusiones sobre la moda de los lenguaje de programacion mas estudiados hoy en dia\")\n",
    "print(\"y la moda\")"
   ]
  },
  {
   "cell_type": "markdown",
   "metadata": {
    "id": "oZ50yLv7R3NB"
   },
   "source": [
    "### Actividad 3"
   ]
  },
  {
   "cell_type": "markdown",
   "metadata": {
    "id": "52Wy8nuxTplL"
   },
   "source": [
    "Para responder esta actividad considera la base de datos entregada en la celda **Contexto actividades 1, 2 y 3**."
   ]
  },
  {
   "cell_type": "markdown",
   "metadata": {
    "id": "PAjRseaTSbXr"
   },
   "source": [
    "1. ¿Cuál es la clasificación de la variable *Edad* ? Justifica tu respuesta."
   ]
  },
  {
   "cell_type": "code",
   "execution_count": 22,
   "metadata": {},
   "outputs": [
    {
     "name": "stdout",
     "output_type": "stream",
     "text": [
      "La variable 'Edad' es una variable cuantitativa discreta porque es un conteo y no una medicion\n"
     ]
    }
   ],
   "source": [
    "print(\"La variable 'Edad' es una variable cuantitativa discreta porque es un conteo y no una medicion\")"
   ]
  },
  {
   "cell_type": "markdown",
   "metadata": {
    "id": "eMQhnIZkTlFR"
   },
   "source": [
    "2. Construye una tabla de frecuencias absolutas y relativas (puntuales y acumuladas) para la variable *Edad*, considera 10 intervalos."
   ]
  },
  {
   "cell_type": "code",
   "execution_count": 23,
   "metadata": {},
   "outputs": [
    {
     "data": {
      "text/html": [
       "<div>\n",
       "<style scoped>\n",
       "    .dataframe tbody tr th:only-of-type {\n",
       "        vertical-align: middle;\n",
       "    }\n",
       "\n",
       "    .dataframe tbody tr th {\n",
       "        vertical-align: top;\n",
       "    }\n",
       "\n",
       "    .dataframe thead th {\n",
       "        text-align: right;\n",
       "    }\n",
       "</style>\n",
       "<table border=\"1\" class=\"dataframe\">\n",
       "  <thead>\n",
       "    <tr style=\"text-align: right;\">\n",
       "      <th></th>\n",
       "      <th>Frec. Absoluta</th>\n",
       "      <th>Frec. Relativa (%)</th>\n",
       "      <th>Frec. Absoluta Acumulada</th>\n",
       "      <th>Frec. Relativa Acumulada (%)</th>\n",
       "    </tr>\n",
       "    <tr>\n",
       "      <th>Intervalos Edad</th>\n",
       "      <th></th>\n",
       "      <th></th>\n",
       "      <th></th>\n",
       "      <th></th>\n",
       "    </tr>\n",
       "  </thead>\n",
       "  <tbody>\n",
       "    <tr>\n",
       "      <th>(19.9, 24.0]</th>\n",
       "      <td>13057</td>\n",
       "      <td>13.057</td>\n",
       "      <td>13057</td>\n",
       "      <td>13.057</td>\n",
       "    </tr>\n",
       "    <tr>\n",
       "      <th>(24.0, 28.0]</th>\n",
       "      <td>13516</td>\n",
       "      <td>13.516</td>\n",
       "      <td>26573</td>\n",
       "      <td>26.573</td>\n",
       "    </tr>\n",
       "    <tr>\n",
       "      <th>(28.0, 32.0]</th>\n",
       "      <td>18417</td>\n",
       "      <td>18.417</td>\n",
       "      <td>44990</td>\n",
       "      <td>44.990</td>\n",
       "    </tr>\n",
       "    <tr>\n",
       "      <th>(32.0, 36.0]</th>\n",
       "      <td>19582</td>\n",
       "      <td>19.582</td>\n",
       "      <td>64572</td>\n",
       "      <td>64.572</td>\n",
       "    </tr>\n",
       "    <tr>\n",
       "      <th>(36.0, 40.0]</th>\n",
       "      <td>16215</td>\n",
       "      <td>16.215</td>\n",
       "      <td>80787</td>\n",
       "      <td>80.787</td>\n",
       "    </tr>\n",
       "    <tr>\n",
       "      <th>(40.0, 44.0]</th>\n",
       "      <td>10722</td>\n",
       "      <td>10.722</td>\n",
       "      <td>91509</td>\n",
       "      <td>91.509</td>\n",
       "    </tr>\n",
       "    <tr>\n",
       "      <th>(44.0, 48.0]</th>\n",
       "      <td>5436</td>\n",
       "      <td>5.436</td>\n",
       "      <td>96945</td>\n",
       "      <td>96.945</td>\n",
       "    </tr>\n",
       "    <tr>\n",
       "      <th>(48.0, 52.0]</th>\n",
       "      <td>2176</td>\n",
       "      <td>2.176</td>\n",
       "      <td>99121</td>\n",
       "      <td>99.121</td>\n",
       "    </tr>\n",
       "    <tr>\n",
       "      <th>(52.0, 56.0]</th>\n",
       "      <td>680</td>\n",
       "      <td>0.680</td>\n",
       "      <td>99801</td>\n",
       "      <td>99.801</td>\n",
       "    </tr>\n",
       "    <tr>\n",
       "      <th>(56.0, 60.0]</th>\n",
       "      <td>199</td>\n",
       "      <td>0.199</td>\n",
       "      <td>100000</td>\n",
       "      <td>100.000</td>\n",
       "    </tr>\n",
       "  </tbody>\n",
       "</table>\n",
       "</div>"
      ],
      "text/plain": [
       "                 Frec. Absoluta  Frec. Relativa (%)  Frec. Absoluta Acumulada  \\\n",
       "Intervalos Edad                                                                 \n",
       "(19.9, 24.0]              13057              13.057                     13057   \n",
       "(24.0, 28.0]              13516              13.516                     26573   \n",
       "(28.0, 32.0]              18417              18.417                     44990   \n",
       "(32.0, 36.0]              19582              19.582                     64572   \n",
       "(36.0, 40.0]              16215              16.215                     80787   \n",
       "(40.0, 44.0]              10722              10.722                     91509   \n",
       "(44.0, 48.0]               5436               5.436                     96945   \n",
       "(48.0, 52.0]               2176               2.176                     99121   \n",
       "(52.0, 56.0]                680               0.680                     99801   \n",
       "(56.0, 60.0]                199               0.199                    100000   \n",
       "\n",
       "                 Frec. Relativa Acumulada (%)  \n",
       "Intervalos Edad                                \n",
       "(19.9, 24.0]                           13.057  \n",
       "(24.0, 28.0]                           26.573  \n",
       "(28.0, 32.0]                           44.990  \n",
       "(32.0, 36.0]                           64.572  \n",
       "(36.0, 40.0]                           80.787  \n",
       "(40.0, 44.0]                           91.509  \n",
       "(44.0, 48.0]                           96.945  \n",
       "(48.0, 52.0]                           99.121  \n",
       "(52.0, 56.0]                           99.801  \n",
       "(56.0, 60.0]                          100.000  "
      ]
     },
     "execution_count": 23,
     "metadata": {},
     "output_type": "execute_result"
    }
   ],
   "source": [
    "# Calcula la cantidad de filas del Dataframe\n",
    "tamaño = df_1.shape[0]\n",
    "\n",
    "# Calcular intervalos\n",
    "\n",
    "df_1['Intervalos Edad'] = pd.cut(df_1['Edad'], bins=10, precision=1, include_lowest=True)\n",
    "\n",
    "# Calcular las frecuencias\n",
    "f = df_1['Intervalos Edad'].value_counts().sort_index()\n",
    "h = f / tamaño * 100\n",
    "F = f.cumsum()\n",
    "H = h.cumsum()\n",
    "\n",
    "# Crear tabla\n",
    "tabla = pd.DataFrame({\n",
    "    'Frec. Absoluta': f,\n",
    "    'Frec. Relativa (%)': h,\n",
    "    'Frec. Absoluta Acumulada': F,\n",
    "    'Frec. Relativa Acumulada (%)': H\n",
    "})\n",
    "\n",
    "tabla"
   ]
  },
  {
   "cell_type": "markdown",
   "metadata": {
    "id": "CgejGTobZ-h5"
   },
   "source": [
    "3. Interpreta las siguientes frecuencias:\n",
    "\n",
    "$\\hspace{1cm} f_{4}$:\n",
    "\n",
    "$\\hspace{1cm} F_{4}$:\n",
    "\n",
    "$\\hspace{1cm} h_{6}$:\n",
    "\n",
    "$\\hspace{1cm} H_{6}$:"
   ]
  },
  {
   "cell_type": "code",
   "execution_count": 24,
   "metadata": {},
   "outputs": [
    {
     "name": "stdout",
     "output_type": "stream",
     "text": [
      "f4 = 19582\n",
      "F4 = 64572\n",
      "h6 = 10.722\n",
      "H6 = 91.509\n"
     ]
    }
   ],
   "source": [
    "# .iloc[x] para indexar en tablas de frecuencia\n",
    "print(f\"f4 = {f.iloc[3]}\")\n",
    "print(f\"F4 = {F.iloc[3]}\")\n",
    "print(f\"h6 = {h.iloc[5]}\")\n",
    "print(f\"H6 = {H.iloc[5]}\")"
   ]
  },
  {
   "cell_type": "markdown",
   "metadata": {
    "id": "TavLdJyIbU06"
   },
   "source": [
    "4. Construye un gráfico apropiado para la variable *Edad* y justifica su elección. Luego, interpreta la mayor y menor frecuencia, y el rango del  histograma."
   ]
  },
  {
   "cell_type": "code",
   "execution_count": 25,
   "metadata": {},
   "outputs": [
    {
     "data": {
      "image/png": "[encoded data removed]",
      "text/plain": [
       "<Figure size 1000x600 with 1 Axes>"
      ]
     },
     "metadata": {},
     "output_type": "display_data"
    }
   ],
   "source": [
    "# Etiquetas\n",
    "etiquetas_g_columna = tabla.index\n",
    "f_a_columna = tabla['Frec. Absoluta']\n",
    "\n",
    "# Grafico\n",
    "fig, ax = plt.subplots(figsize=(10, 6))\n",
    "columnas_edad = ax.bar(etiquetas_g_columna.astype(str), f_a_columna, color='skyblue', edgecolor='black')\n",
    "\n",
    "# Personalizacion\n",
    "ax.bar_label(columnas_edad)\n",
    "ax.set_title(\"Distribuicion de edad\")\n",
    "ax.set_xlabel(\"Intervalos de Edad\")\n",
    "ax.set_ylabel(\"Frecuencia Absoluta\")\n",
    "\n",
    "plt.xticks(rotation=45, ha='right')\n",
    "\n",
    "plt.show()"
   ]
  },
  {
   "cell_type": "markdown",
   "metadata": {
    "id": "6II6PeYBkraJ"
   },
   "source": [
    "5. ¿Qué conclusiones puedes sacar del gráfico?"
   ]
  },
  {
   "cell_type": "code",
   "execution_count": 26,
   "metadata": {},
   "outputs": [
    {
     "name": "stdout",
     "output_type": "stream",
     "text": [
      "La moda de los intervalos de edad es el intervalo de [32.0, 36.0] osea que entre esas edades hay mas personas\n"
     ]
    }
   ],
   "source": [
    "print(\"La moda de los intervalos de edad es el intervalo de [32.0, 36.0] osea que entre esas edades hay mas personas\")"
   ]
  },
  {
   "cell_type": "markdown",
   "metadata": {
    "id": "vyBdoiiloEs_"
   },
   "source": [
    "6. ¿Qué decisiones podrías tomar si estuvieras reclutando talento para un proyecto de largo plazo?"
   ]
  },
  {
   "cell_type": "code",
   "execution_count": 27,
   "metadata": {},
   "outputs": [],
   "source": [
    "# Dado que el intervalo de edad más frecuente es de 32 a 36 años, \n",
    "# podrías enfocar tus esfuerzos de reclutamiento en este grupo demográfico, \n",
    "# ya que representan la mayor parte de los profesionales en el área."
   ]
  },
  {
   "cell_type": "markdown",
   "metadata": {
    "id": "c4Br9Aygpjgn"
   },
   "source": [
    "## Actividad 4"
   ]
  },
  {
   "cell_type": "markdown",
   "metadata": {
    "id": "pdaWS5W_qv7z"
   },
   "source": [
    "La siguiente base de datos contiene información correspondiente al año 2017 para todos los países del mundo. Incluye el número de habitantes, la cantidad de usuarios de internet y el continente al que pertenece cada país.\n",
    "\n",
    "Para responder las siguientes preguntas, descarga la base de datos **<a href=\"https://drive.google.com/uc?export=download&id=1s5Cm1m6xnZhAEqLVuwRba-RrPPX4ueOW\n",
    "\">aquí</a>**."
   ]
  },
  {
   "cell_type": "markdown",
   "metadata": {
    "id": "AyKm1jlyvI9s"
   },
   "source": [
    "1. Identifique la población y la muestra en estudio."
   ]
  },
  {
   "cell_type": "code",
   "execution_count": 28,
   "metadata": {},
   "outputs": [
    {
     "name": "stdout",
     "output_type": "stream",
     "text": [
      "La poblacion del estudio son todos los habitantes del mundo\n",
      "La muestra del estudio son 193 habitantes del mundo\n"
     ]
    }
   ],
   "source": [
    "import pandas as pd\n",
    "\n",
    "df_1 = pd.read_csv(\"BDActividad_4.csv\")\n",
    "\n",
    "print(\"La poblacion del estudio son todos los habitantes del mundo\")\n",
    "print(f\"La muestra del estudio son {df_1.shape[0]} habitantes del mundo\")"
   ]
  },
  {
   "cell_type": "markdown",
   "metadata": {
    "id": "upev5Yg_SErZ"
   },
   "source": [
    "2. Muestra las primeras 5 filas y las últimas 5 filas del DataFrame."
   ]
  },
  {
   "cell_type": "code",
   "execution_count": 29,
   "metadata": {},
   "outputs": [
    {
     "data": {
      "text/html": [
       "<div>\n",
       "<style scoped>\n",
       "    .dataframe tbody tr th:only-of-type {\n",
       "        vertical-align: middle;\n",
       "    }\n",
       "\n",
       "    .dataframe tbody tr th {\n",
       "        vertical-align: top;\n",
       "    }\n",
       "\n",
       "    .dataframe thead th {\n",
       "        text-align: right;\n",
       "    }\n",
       "</style>\n",
       "<table border=\"1\" class=\"dataframe\">\n",
       "  <thead>\n",
       "    <tr style=\"text-align: right;\">\n",
       "      <th></th>\n",
       "      <th>PAÍS</th>\n",
       "      <th>POBLACIÓN (año 2017)</th>\n",
       "      <th>USUARIOS INTERNET(marzo 2017)</th>\n",
       "      <th>CONTINENTE</th>\n",
       "    </tr>\n",
       "  </thead>\n",
       "  <tbody>\n",
       "    <tr>\n",
       "      <th>0</th>\n",
       "      <td>Niue</td>\n",
       "      <td>1311</td>\n",
       "      <td>1100</td>\n",
       "      <td>Oceanía</td>\n",
       "    </tr>\n",
       "    <tr>\n",
       "      <th>1</th>\n",
       "      <td>Tokelau</td>\n",
       "      <td>1384</td>\n",
       "      <td>800</td>\n",
       "      <td>Oceanía</td>\n",
       "    </tr>\n",
       "    <tr>\n",
       "      <th>2</th>\n",
       "      <td>Norfolk</td>\n",
       "      <td>2169</td>\n",
       "      <td>700</td>\n",
       "      <td>Oceanía</td>\n",
       "    </tr>\n",
       "    <tr>\n",
       "      <th>3</th>\n",
       "      <td>Islas Malvinas</td>\n",
       "      <td>2932</td>\n",
       "      <td>2862</td>\n",
       "      <td>América</td>\n",
       "    </tr>\n",
       "    <tr>\n",
       "      <th>4</th>\n",
       "      <td>Santa Helena (UK)</td>\n",
       "      <td>3687</td>\n",
       "      <td>1217</td>\n",
       "      <td>África</td>\n",
       "    </tr>\n",
       "  </tbody>\n",
       "</table>\n",
       "</div>"
      ],
      "text/plain": [
       "                PAÍS  POBLACIÓN (año 2017)  USUARIOS INTERNET(marzo 2017)  \\\n",
       "0               Niue                  1311                           1100   \n",
       "1            Tokelau                  1384                            800   \n",
       "2            Norfolk                  2169                            700   \n",
       "3     Islas Malvinas                  2932                           2862   \n",
       "4  Santa Helena (UK)                  3687                           1217   \n",
       "\n",
       "  CONTINENTE  \n",
       "0    Oceanía  \n",
       "1    Oceanía  \n",
       "2    Oceanía  \n",
       "3    América  \n",
       "4     África  "
      ]
     },
     "execution_count": 29,
     "metadata": {},
     "output_type": "execute_result"
    }
   ],
   "source": [
    "df_1.head(5)"
   ]
  },
  {
   "cell_type": "code",
   "execution_count": 30,
   "metadata": {},
   "outputs": [
    {
     "data": {
      "text/html": [
       "<div>\n",
       "<style scoped>\n",
       "    .dataframe tbody tr th:only-of-type {\n",
       "        vertical-align: middle;\n",
       "    }\n",
       "\n",
       "    .dataframe tbody tr th {\n",
       "        vertical-align: top;\n",
       "    }\n",
       "\n",
       "    .dataframe thead th {\n",
       "        text-align: right;\n",
       "    }\n",
       "</style>\n",
       "<table border=\"1\" class=\"dataframe\">\n",
       "  <thead>\n",
       "    <tr style=\"text-align: right;\">\n",
       "      <th></th>\n",
       "      <th>PAÍS</th>\n",
       "      <th>POBLACIÓN (año 2017)</th>\n",
       "      <th>USUARIOS INTERNET(marzo 2017)</th>\n",
       "      <th>CONTINENTE</th>\n",
       "    </tr>\n",
       "  </thead>\n",
       "  <tbody>\n",
       "    <tr>\n",
       "      <th>188</th>\n",
       "      <td>Brasil</td>\n",
       "      <td>204259812</td>\n",
       "      <td>117653652</td>\n",
       "      <td>América</td>\n",
       "    </tr>\n",
       "    <tr>\n",
       "      <th>189</th>\n",
       "      <td>Indonesia</td>\n",
       "      <td>248645008</td>\n",
       "      <td>55000000</td>\n",
       "      <td>Asia</td>\n",
       "    </tr>\n",
       "    <tr>\n",
       "      <th>190</th>\n",
       "      <td>Estados Unidos</td>\n",
       "      <td>321362789</td>\n",
       "      <td>280742532</td>\n",
       "      <td>América</td>\n",
       "    </tr>\n",
       "    <tr>\n",
       "      <th>191</th>\n",
       "      <td>India</td>\n",
       "      <td>1205073612</td>\n",
       "      <td>137000000</td>\n",
       "      <td>Asia</td>\n",
       "    </tr>\n",
       "    <tr>\n",
       "      <th>192</th>\n",
       "      <td>China</td>\n",
       "      <td>1343239923</td>\n",
       "      <td>538000000</td>\n",
       "      <td>Asia</td>\n",
       "    </tr>\n",
       "  </tbody>\n",
       "</table>\n",
       "</div>"
      ],
      "text/plain": [
       "               PAÍS  POBLACIÓN (año 2017)  USUARIOS INTERNET(marzo 2017)  \\\n",
       "188          Brasil             204259812                      117653652   \n",
       "189       Indonesia             248645008                       55000000   \n",
       "190  Estados Unidos             321362789                      280742532   \n",
       "191           India            1205073612                      137000000   \n",
       "192           China            1343239923                      538000000   \n",
       "\n",
       "    CONTINENTE  \n",
       "188    América  \n",
       "189       Asia  \n",
       "190    América  \n",
       "191       Asia  \n",
       "192       Asia  "
      ]
     },
     "execution_count": 30,
     "metadata": {},
     "output_type": "execute_result"
    }
   ],
   "source": [
    "df_1.tail(5)"
   ]
  },
  {
   "cell_type": "markdown",
   "metadata": {
    "id": "ZKkzUz5pvN-h"
   },
   "source": [
    "3. Identifica y clasifica las variables de la base de datos."
   ]
  },
  {
   "cell_type": "code",
   "execution_count": 31,
   "metadata": {},
   "outputs": [],
   "source": [
    "# Pais es una variable cualitativa nominal\n",
    "# Poblacion es una variable cuantitativa discreta\n",
    "# Usuarios es una variable cuantitativa discreta\n",
    "# Continente es una variable cualitativa nominal"
   ]
  },
  {
   "cell_type": "markdown",
   "metadata": {
    "id": "V9OzrwgivWxh"
   },
   "source": [
    "4. Crea una tabla de frecuencias absolutas y relativas que muestre la distribución de países por continente. Luego, construye un gráfico circular con las frecuencias relativas y uno de barras con las frecuencias absolutas de la tabla."
   ]
  },
  {
   "cell_type": "code",
   "execution_count": 32,
   "metadata": {},
   "outputs": [
    {
     "data": {
      "image/png": "[encoded data removed]",
      "text/plain": [
       "<Figure size 1000x800 with 1 Axes>"
      ]
     },
     "metadata": {},
     "output_type": "display_data"
    },
    {
     "data": {
      "text/html": [
       "<div>\n",
       "<style scoped>\n",
       "    .dataframe tbody tr th:only-of-type {\n",
       "        vertical-align: middle;\n",
       "    }\n",
       "\n",
       "    .dataframe tbody tr th {\n",
       "        vertical-align: top;\n",
       "    }\n",
       "\n",
       "    .dataframe thead th {\n",
       "        text-align: right;\n",
       "    }\n",
       "</style>\n",
       "<table border=\"1\" class=\"dataframe\">\n",
       "  <thead>\n",
       "    <tr style=\"text-align: right;\">\n",
       "      <th></th>\n",
       "      <th>Frecuencia absoluta</th>\n",
       "      <th>Frecuencia relativa (%)</th>\n",
       "      <th>Frecuencia absoluta acumulada</th>\n",
       "      <th>Frecuencia relativa acumulada (%)</th>\n",
       "    </tr>\n",
       "    <tr>\n",
       "      <th>CONTINENTE</th>\n",
       "      <th></th>\n",
       "      <th></th>\n",
       "      <th></th>\n",
       "      <th></th>\n",
       "    </tr>\n",
       "  </thead>\n",
       "  <tbody>\n",
       "    <tr>\n",
       "      <th>América</th>\n",
       "      <td>52</td>\n",
       "      <td>26.943005</td>\n",
       "      <td>52</td>\n",
       "      <td>26.943005</td>\n",
       "    </tr>\n",
       "    <tr>\n",
       "      <th>Asia</th>\n",
       "      <td>35</td>\n",
       "      <td>18.134715</td>\n",
       "      <td>87</td>\n",
       "      <td>45.077720</td>\n",
       "    </tr>\n",
       "    <tr>\n",
       "      <th>Europa</th>\n",
       "      <td>25</td>\n",
       "      <td>12.953368</td>\n",
       "      <td>112</td>\n",
       "      <td>58.031088</td>\n",
       "    </tr>\n",
       "    <tr>\n",
       "      <th>Oceanía</th>\n",
       "      <td>24</td>\n",
       "      <td>12.435233</td>\n",
       "      <td>136</td>\n",
       "      <td>70.466321</td>\n",
       "    </tr>\n",
       "    <tr>\n",
       "      <th>África</th>\n",
       "      <td>57</td>\n",
       "      <td>29.533679</td>\n",
       "      <td>193</td>\n",
       "      <td>100.000000</td>\n",
       "    </tr>\n",
       "  </tbody>\n",
       "</table>\n",
       "</div>"
      ],
      "text/plain": [
       "            Frecuencia absoluta  Frecuencia relativa (%)  \\\n",
       "CONTINENTE                                                 \n",
       "América                      52                26.943005   \n",
       "Asia                         35                18.134715   \n",
       "Europa                       25                12.953368   \n",
       "Oceanía                      24                12.435233   \n",
       "África                       57                29.533679   \n",
       "\n",
       "            Frecuencia absoluta acumulada  Frecuencia relativa acumulada (%)  \n",
       "CONTINENTE                                                                    \n",
       "América                                52                          26.943005  \n",
       "Asia                                   87                          45.077720  \n",
       "Europa                                112                          58.031088  \n",
       "Oceanía                               136                          70.466321  \n",
       "África                                193                         100.000000  "
      ]
     },
     "execution_count": 32,
     "metadata": {},
     "output_type": "execute_result"
    }
   ],
   "source": [
    "import matplotlib.pyplot as plt\n",
    "\n",
    "# Calcular filas del Dataframe\n",
    "tamaño = df_1.shape[0]\n",
    "\n",
    "# Calcular frecuencias\n",
    "f = df_1['CONTINENTE'].value_counts().sort_index()\n",
    "h = f / tamaño * 100\n",
    "F = f.cumsum()\n",
    "H = h.cumsum()\n",
    "\n",
    "# Crear tabla\n",
    "tabla = pd.DataFrame({\n",
    "    'Frecuencia absoluta': f,\n",
    "    'Frecuencia relativa (%)': h,\n",
    "    'Frecuencia absoluta acumulada': F,\n",
    "    'Frecuencia relativa acumulada (%)': H\n",
    "})\n",
    "\n",
    "# Etiquetas\n",
    "etiquetas_g_circular = tabla.index\n",
    "f_h_circular = tabla['Frecuencia relativa (%)']\n",
    "\n",
    "# Graficar en un grafico circular por frecuencias relativas\n",
    "fig, ax = plt.subplots(figsize=(10, 8))\n",
    "grafico_circular = ax.pie(f_h_circular, labels=etiquetas_g_circular, autopct='%.1f%%')\n",
    "\n",
    "# Personalizacion\n",
    "ax.set_title(\"Distribución de poblacion de paises por Continente\")\n",
    "plt.show()\n",
    "tabla\n"
   ]
  },
  {
   "cell_type": "markdown",
   "metadata": {
    "id": "DQfWmgJVvehl"
   },
   "source": [
    "5. ¿Qué aspectos le llaman la atención en estos gráficos? Describe por lo menos 3 aspectos."
   ]
  },
  {
   "cell_type": "code",
   "execution_count": 33,
   "metadata": {},
   "outputs": [],
   "source": [
    "# Me llama la atencion que Africa sea el continente con mas poblacion, pero sin embargo sea el continente con menor desarrollo humano."
   ]
  },
  {
   "cell_type": "markdown",
   "metadata": {
    "id": "HgPiyIgWvjLO"
   },
   "source": [
    "6. ¿Cuáles son los 10 países con mayor población? Construye un gráfico de barras considerando estos países y su cantidad de habitantes en porcentaje del total de la población mundial. Comenta lo observado."
   ]
  },
  {
   "cell_type": "code",
   "execution_count": 34,
   "metadata": {},
   "outputs": [
    {
     "ename": "KeyError",
     "evalue": "'POBLACION'",
     "output_type": "error",
     "traceback": [
      "\u001b[31m---------------------------------------------------------------------------\u001b[39m",
      "\u001b[31mKeyError\u001b[39m                                  Traceback (most recent call last)",
      "\u001b[32m~\\AppData\\Local\\Temp\\ipykernel_19764\\3229821174.py\u001b[39m in \u001b[36m?\u001b[39m\u001b[34m()\u001b[39m\n\u001b[32m----> \u001b[39m\u001b[32m1\u001b[39m df_ordenado = df_1.sort_values(by=\u001b[33m'POBLACION'\u001b[39m, ascending=\u001b[38;5;28;01mFalse\u001b[39;00m).head(\u001b[32m10\u001b[39m);\n",
      "\u001b[32m~\\AppData\\Roaming\\Python\\Python313\\site-packages\\pandas\\core\\frame.py\u001b[39m in \u001b[36m?\u001b[39m\u001b[34m(self, by, axis, ascending, inplace, kind, na_position, ignore_index, key)\u001b[39m\n\u001b[32m   7192\u001b[39m             )\n\u001b[32m   7193\u001b[39m         \u001b[38;5;28;01melif\u001b[39;00m len(by):\n\u001b[32m   7194\u001b[39m             \u001b[38;5;66;03m# len(by) == 1\u001b[39;00m\n\u001b[32m   7195\u001b[39m \n\u001b[32m-> \u001b[39m\u001b[32m7196\u001b[39m             k = self._get_label_or_level_values(by[\u001b[32m0\u001b[39m], axis=axis)\n\u001b[32m   7197\u001b[39m \n\u001b[32m   7198\u001b[39m             \u001b[38;5;66;03m# need to rewrap column in Series to apply key function\u001b[39;00m\n\u001b[32m   7199\u001b[39m             \u001b[38;5;28;01mif\u001b[39;00m key \u001b[38;5;28;01mis\u001b[39;00m \u001b[38;5;28;01mnot\u001b[39;00m \u001b[38;5;28;01mNone\u001b[39;00m:\n",
      "\u001b[32m~\\AppData\\Roaming\\Python\\Python313\\site-packages\\pandas\\core\\generic.py\u001b[39m in \u001b[36m?\u001b[39m\u001b[34m(self, key, axis)\u001b[39m\n\u001b[32m   1907\u001b[39m             values = self.xs(key, axis=other_axes[\u001b[32m0\u001b[39m])._values\n\u001b[32m   1908\u001b[39m         \u001b[38;5;28;01melif\u001b[39;00m self._is_level_reference(key, axis=axis):\n\u001b[32m   1909\u001b[39m             values = self.axes[axis].get_level_values(key)._values\n\u001b[32m   1910\u001b[39m         \u001b[38;5;28;01melse\u001b[39;00m:\n\u001b[32m-> \u001b[39m\u001b[32m1911\u001b[39m             \u001b[38;5;28;01mraise\u001b[39;00m KeyError(key)\n\u001b[32m   1912\u001b[39m \n\u001b[32m   1913\u001b[39m         \u001b[38;5;66;03m# Check for duplicates\u001b[39;00m\n\u001b[32m   1914\u001b[39m         \u001b[38;5;28;01mif\u001b[39;00m values.ndim > \u001b[32m1\u001b[39m:\n",
      "\u001b[31mKeyError\u001b[39m: 'POBLACION'"
     ]
    }
   ],
   "source": [
    "df_ordenado = df_1.sort_values(by='POBLACION', ascending=False).head(10);"
   ]
  },
  {
   "cell_type": "markdown",
   "metadata": {
    "id": "4j4diA8FvrpY"
   },
   "source": [
    "7. ¿En qué continente el porcentaje de personas que usa internet, respecto al total de su población, es el más alto? ¿Y en cuál es el más bajo? Conversa con tus compañeros, planifiquen una estrategia, y respondan las preguntas justificando su respuesta."
   ]
  },
  {
   "cell_type": "code",
   "execution_count": null,
   "metadata": {},
   "outputs": [
    {
     "data": {
      "text/html": [
       "<div>\n",
       "<style scoped>\n",
       "    .dataframe tbody tr th:only-of-type {\n",
       "        vertical-align: middle;\n",
       "    }\n",
       "\n",
       "    .dataframe tbody tr th {\n",
       "        vertical-align: top;\n",
       "    }\n",
       "\n",
       "    .dataframe thead th {\n",
       "        text-align: right;\n",
       "    }\n",
       "</style>\n",
       "<table border=\"1\" class=\"dataframe\">\n",
       "  <thead>\n",
       "    <tr style=\"text-align: right;\">\n",
       "      <th></th>\n",
       "      <th>PAÍS</th>\n",
       "      <th>Porcentaje usuarios internet segun la poblacion</th>\n",
       "    </tr>\n",
       "  </thead>\n",
       "  <tbody>\n",
       "    <tr>\n",
       "      <th>3</th>\n",
       "      <td>Islas Malvinas</td>\n",
       "      <td>97.612551</td>\n",
       "    </tr>\n",
       "  </tbody>\n",
       "</table>\n",
       "</div>"
      ],
      "text/plain": [
       "             PAÍS  Porcentaje usuarios internet segun la poblacion\n",
       "3  Islas Malvinas                                        97.612551"
      ]
     },
     "execution_count": 11,
     "metadata": {},
     "output_type": "execute_result"
    }
   ],
   "source": [
    "df_1['Porcentaje usuarios internet segun la poblacion'] = (df_1['USUARIOS INTERNET(marzo 2017)'] / df_1['POBLACIÓN (año 2017)']) * 100\n",
    "# Atributo ascending, ordena los datos segun el dato booleano que le otorgues,\n",
    "# por ej si es false sera de mayor a menor y si es true de menor a mayor\n",
    "df_1[['PAÍS','Porcentaje usuarios internet segun la poblacion']].sort_values(by='Porcentaje usuarios internet segun la poblacion', ascending=False).head(1)"
   ]
  },
  {
   "cell_type": "code",
   "execution_count": null,
   "metadata": {},
   "outputs": [
    {
     "data": {
      "text/html": [
       "<div>\n",
       "<style scoped>\n",
       "    .dataframe tbody tr th:only-of-type {\n",
       "        vertical-align: middle;\n",
       "    }\n",
       "\n",
       "    .dataframe tbody tr th {\n",
       "        vertical-align: top;\n",
       "    }\n",
       "\n",
       "    .dataframe thead th {\n",
       "        text-align: right;\n",
       "    }\n",
       "</style>\n",
       "<table border=\"1\" class=\"dataframe\">\n",
       "  <thead>\n",
       "    <tr style=\"text-align: right;\">\n",
       "      <th></th>\n",
       "      <th>PAÍS</th>\n",
       "      <th>Porcentaje usuarios internet segun la poblacion</th>\n",
       "    </tr>\n",
       "  </thead>\n",
       "  <tbody>\n",
       "    <tr>\n",
       "      <th>150</th>\n",
       "      <td>Corea del Norte</td>\n",
       "      <td>0.0</td>\n",
       "    </tr>\n",
       "  </tbody>\n",
       "</table>\n",
       "</div>"
      ],
      "text/plain": [
       "                PAÍS  Porcentaje usuarios internet segun la poblacion\n",
       "150  Corea del Norte                                              0.0"
      ]
     },
     "execution_count": 12,
     "metadata": {},
     "output_type": "execute_result"
    }
   ],
   "source": [
    "df_1['Porcentaje usuarios internet segun la poblacion'] = (df_1['USUARIOS INTERNET(marzo 2017)'] / df_1['POBLACIÓN (año 2017)']) * 100\n",
    "# cuando se ocupa sort_values() y hay 2 columnas selecccionadas en el data frame, hay que especificar\n",
    "# con by=\"\" la columna a ordenar\n",
    "df_1[['PAÍS','Porcentaje usuarios internet segun la poblacion']].sort_values(by='Porcentaje usuarios internet segun la poblacion', ascending=True).head(1)"
   ]
  },
  {
   "cell_type": "markdown",
   "metadata": {
    "id": "GbiPY0YMvyXD"
   },
   "source": [
    "8. Construye un gráfico apropiado para la tabla creada en el inciso anterior."
   ]
  },
  {
   "cell_type": "code",
   "execution_count": null,
   "metadata": {},
   "outputs": [
    {
     "ename": "NameError",
     "evalue": "name 'df_1' is not defined",
     "output_type": "error",
     "traceback": [
      "\u001b[31m---------------------------------------------------------------------------\u001b[39m",
      "\u001b[31mNameError\u001b[39m                                 Traceback (most recent call last)",
      "\u001b[36mCell\u001b[39m\u001b[36m \u001b[39m\u001b[32mIn[7]\u001b[39m\u001b[32m, line 1\u001b[39m\n\u001b[32m----> \u001b[39m\u001b[32m1\u001b[39m df_1[\u001b[33m'\u001b[39m\u001b[33mPorcentaje usuarios internet segun la poblacion\u001b[39m\u001b[33m'\u001b[39m] = (\u001b[43mdf_1\u001b[49m[\u001b[33m'\u001b[39m\u001b[33mUSUARIOS INTERNET(marzo 2017)\u001b[39m\u001b[33m'\u001b[39m] / df_1[\u001b[33m'\u001b[39m\u001b[33mPOBLACIÓN (año 2017)\u001b[39m\u001b[33m'\u001b[39m]) * \u001b[32m100\u001b[39m\n\u001b[32m      2\u001b[39m df_1[[\u001b[33m'\u001b[39m\u001b[33mPAÍS\u001b[39m\u001b[33m'\u001b[39m,\u001b[33m'\u001b[39m\u001b[33mPorcentaje usuarios internet segun la poblacion\u001b[39m\u001b[33m'\u001b[39m]].sort_values(by=\u001b[33m'\u001b[39m\u001b[33mPorcentaje usuarios internet segun la poblacion\u001b[39m\u001b[33m'\u001b[39m, ascending=\u001b[38;5;28;01mFalse\u001b[39;00m).head(\u001b[32m10\u001b[39m)\n",
      "\u001b[31mNameError\u001b[39m: name 'df_1' is not defined"
     ]
    }
   ],
   "source": []
  },
  {
   "cell_type": "markdown",
   "metadata": {
    "id": "TDxNH66awB2u"
   },
   "source": [
    "9. Calcula el porcentaje de personas que usa internet en cada país y clasifícalos en 9 intervalos. Luego, construye un histograma que muestre la distribución de países según ese porcentaje. ¿Qué observas?"
   ]
  }
 ],
 "metadata": {
  "colab": {
   "authorship_tag": "ABX9TyMf87qDh7oelaqGutaMXgDD",
   "collapsed_sections": [
    "MOPpj52P1Jto",
    "lbQZoGg6Ec0w",
    "oZ50yLv7R3NB",
    "c4Br9Aygpjgn"
   ],
   "provenance": [
    {
     "file_id": "1dDw_PkE3tRtT42h5U5Jp9maX2NH3YMwN",
     "timestamp": 1748051670071
    }
   ],
   "toc_visible": true
  },
  "kernelspec": {
   "display_name": "Python 3",
   "name": "python3"
  },
  "language_info": {
   "codemirror_mode": {
    "name": "ipython",
    "version": 3
   },
   "file_extension": ".py",
   "mimetype": "text/x-python",
   "name": "python",
   "nbconvert_exporter": "python",
   "pygments_lexer": "ipython3",
   "version": "3.13.3"
  }
 },
 "nbformat": 4,
 "nbformat_minor": 0
}
