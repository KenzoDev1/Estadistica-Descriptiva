{
 "cells": [
  {
   "cell_type": "markdown",
   "metadata": {
    "id": "dwyz6jkxT-15"
   },
   "source": [
    "# Tablas de frecuencias"
   ]
  },
  {
   "cell_type": "markdown",
   "metadata": {
    "id": "bDWXW90cUHNn"
   },
   "source": [
    "## Objetivos:"
   ]
  },
  {
   "cell_type": "markdown",
   "metadata": {
    "id": "OV9ck-zuUbp7"
   },
   "source": [
    "Aplicar el análisis de frecuencias en distintas variables según su clasificación e interpretar los resultados."
   ]
  },
  {
   "cell_type": "markdown",
   "metadata": {
    "id": "Yk31d_dnUu9-"
   },
   "source": [
    "*Nota: Este laboratorio está diseñado para desarrollar razonamiento estadístico. Evita el uso de herramientas de IA para responder las preguntas a menos que esto sea explícitamente sugerido* 🤖. *En su lugar, enfócate en aplicar los conceptos revisados.*"
   ]
  },
  {
   "cell_type": "markdown",
   "metadata": {
    "id": "YjIwdec0U9p8"
   },
   "source": [
    "## Actividad 1"
   ]
  },
  {
   "cell_type": "markdown",
   "metadata": {
    "id": "tXzTGb-aU_4j"
   },
   "source": [
    "Netflix es una de las plataformas de streaming más populares del mundo. En esta actividad, trabajarás con una base de datos real de títulos disponibles en Netflix. El objetivo es explorar algunas características del contenido y observar qué tan comunes son ciertos tipos de programas o películas.\n",
    "\n",
    "Descarga la base de datos <a href=\"https://docs.google.com/spreadsheets/d/1E9w_qc7U09eaEcybEw08SOB5-JuIvSlM/export?format=xlsx\">aquí</a> y responde las siguientes preguntas:"
   ]
  },
  {
   "cell_type": "markdown",
   "metadata": {
    "id": "PJHxWHRatuCN"
   },
   "source": [
    "1. Defina la población y muestra."
   ]
  },
  {
   "cell_type": "code",
   "execution_count": 2,
   "metadata": {},
   "outputs": [
    {
     "name": "stdout",
     "output_type": "stream",
     "text": [
      "La poblacion son los programas/peliculas\n",
      "La muestra son las 7095 programas/peliculas\n"
     ]
    }
   ],
   "source": [
    "import pandas as pd\n",
    "df_1=pd.read_excel('Base_Netflix.xlsx')\n",
    "\n",
    "print(\"La poblacion son los programas/peliculas\")\n",
    "print(f\"La muestra son las {df_1.shape[0]} programas/peliculas\")"
   ]
  },
  {
   "cell_type": "markdown",
   "metadata": {
    "id": "-o0vEZufLgeY"
   },
   "source": [
    "2. ¿Qué clasificación tiene la variable *Tipo*?"
   ]
  },
  {
   "cell_type": "code",
   "execution_count": null,
   "metadata": {},
   "outputs": [],
   "source": [
    "# La variable tipo es una variable cualitativa nominal"
   ]
  },
  {
   "cell_type": "markdown",
   "metadata": {
    "id": "JMum_Ii4kBuM"
   },
   "source": [
    "3. ¿Qué tipo de contenido es más frecuente en la plataforma: películas o TV show (series)?"
   ]
  },
  {
   "cell_type": "code",
   "execution_count": 7,
   "metadata": {},
   "outputs": [
    {
     "name": "stdout",
     "output_type": "stream",
     "text": [
      "El tipo de contenido mas frecuente en la plataforma es del tipo 'Película'\n"
     ]
    }
   ],
   "source": [
    "# Cual es la moda ¿Peliculas o TV show?\n",
    "print(f\"El tipo de contenido mas frecuente en la plataforma es del tipo '{df_1['Tipo'].mode()[0]}'\")"
   ]
  },
  {
   "cell_type": "markdown",
   "metadata": {
    "id": "cfUjItBKkKVv"
   },
   "source": [
    "5. ¿Cuál es la categoría de contenido más común? ¿A qué crees que se debe esto?"
   ]
  },
  {
   "cell_type": "code",
   "execution_count": 3,
   "metadata": {},
   "outputs": [
    {
     "name": "stdout",
     "output_type": "stream",
     "text": [
      "La categoría de contenido mas comun es la categoría Dramas\n",
      "Creo que se debe a que la gente empatiza mas con los personajes de esta categoría.\n"
     ]
    }
   ],
   "source": [
    "# Cual es la moda de la variable Categoría\n",
    "print(f\"La categoría de contenido mas comun es la categoría {df_1['Categoría'].mode()[0]}\")\n",
    "print(\"Creo que se debe a que la gente empatiza mas con los personajes de esta categoría.\")"
   ]
  },
  {
   "cell_type": "markdown",
   "metadata": {
    "id": "-rXAMEZ9kQk1"
   },
   "source": [
    "6. Crea una tabla que contenga las frecuencias absolutas y relativas de la cantidad de títulos por categoría, luego interpreta el porcentaje de títulos clasificados como *Documental* y *Comedia*. ¿Qué diferencias observas?"
   ]
  },
  {
   "cell_type": "code",
   "execution_count": 34,
   "metadata": {},
   "outputs": [
    {
     "name": "stdout",
     "output_type": "stream",
     "text": [
      "Se observa que se prefiere muchas mas la Comedia que los Documentales por una diferencia de 7.1 %\n"
     ]
    },
    {
     "data": {
      "text/html": [
       "<div>\n",
       "<style scoped>\n",
       "    .dataframe tbody tr th:only-of-type {\n",
       "        vertical-align: middle;\n",
       "    }\n",
       "\n",
       "    .dataframe tbody tr th {\n",
       "        vertical-align: top;\n",
       "    }\n",
       "\n",
       "    .dataframe thead th {\n",
       "        text-align: right;\n",
       "    }\n",
       "</style>\n",
       "<table border=\"1\" class=\"dataframe\">\n",
       "  <thead>\n",
       "    <tr style=\"text-align: right;\">\n",
       "      <th></th>\n",
       "      <th>Frec. Absoluta</th>\n",
       "      <th>Frec. Relativa (%)</th>\n",
       "    </tr>\n",
       "    <tr>\n",
       "      <th>Categoría</th>\n",
       "      <th></th>\n",
       "      <th></th>\n",
       "    </tr>\n",
       "  </thead>\n",
       "  <tbody>\n",
       "    <tr>\n",
       "      <th>Dramas</th>\n",
       "      <td>1593</td>\n",
       "      <td>22.5</td>\n",
       "    </tr>\n",
       "    <tr>\n",
       "      <th>Comedia</th>\n",
       "      <td>1266</td>\n",
       "      <td>17.8</td>\n",
       "    </tr>\n",
       "    <tr>\n",
       "      <th>Acción y Aventura</th>\n",
       "      <td>856</td>\n",
       "      <td>12.1</td>\n",
       "    </tr>\n",
       "    <tr>\n",
       "      <th>Documental</th>\n",
       "      <td>759</td>\n",
       "      <td>10.7</td>\n",
       "    </tr>\n",
       "    <tr>\n",
       "      <th>Películas familiares</th>\n",
       "      <td>500</td>\n",
       "      <td>7.0</td>\n",
       "    </tr>\n",
       "    <tr>\n",
       "      <th>Crimen</th>\n",
       "      <td>358</td>\n",
       "      <td>5.0</td>\n",
       "    </tr>\n",
       "    <tr>\n",
       "      <th>Stand-Up Comedy</th>\n",
       "      <td>334</td>\n",
       "      <td>4.7</td>\n",
       "    </tr>\n",
       "    <tr>\n",
       "      <th>Niños</th>\n",
       "      <td>318</td>\n",
       "      <td>4.5</td>\n",
       "    </tr>\n",
       "    <tr>\n",
       "      <th>Horror</th>\n",
       "      <td>273</td>\n",
       "      <td>3.8</td>\n",
       "    </tr>\n",
       "    <tr>\n",
       "      <th>Docuseries</th>\n",
       "      <td>175</td>\n",
       "      <td>2.5</td>\n",
       "    </tr>\n",
       "    <tr>\n",
       "      <th>Anime</th>\n",
       "      <td>173</td>\n",
       "      <td>2.4</td>\n",
       "    </tr>\n",
       "    <tr>\n",
       "      <th>Películas</th>\n",
       "      <td>165</td>\n",
       "      <td>2.3</td>\n",
       "    </tr>\n",
       "    <tr>\n",
       "      <th>Clásicos</th>\n",
       "      <td>100</td>\n",
       "      <td>1.4</td>\n",
       "    </tr>\n",
       "    <tr>\n",
       "      <th>Reality Show</th>\n",
       "      <td>99</td>\n",
       "      <td>1.4</td>\n",
       "    </tr>\n",
       "    <tr>\n",
       "      <th>Thrillers</th>\n",
       "      <td>62</td>\n",
       "      <td>0.9</td>\n",
       "    </tr>\n",
       "    <tr>\n",
       "      <th>Romántico</th>\n",
       "      <td>35</td>\n",
       "      <td>0.5</td>\n",
       "    </tr>\n",
       "    <tr>\n",
       "      <th>Musical</th>\n",
       "      <td>15</td>\n",
       "      <td>0.2</td>\n",
       "    </tr>\n",
       "    <tr>\n",
       "      <th>Ciencia Ficción</th>\n",
       "      <td>14</td>\n",
       "      <td>0.2</td>\n",
       "    </tr>\n",
       "  </tbody>\n",
       "</table>\n",
       "</div>"
      ],
      "text/plain": [
       "                      Frec. Absoluta  Frec. Relativa (%)\n",
       "Categoría                                               \n",
       "Dramas                          1593                22.5\n",
       "Comedia                         1266                17.8\n",
       "Acción y Aventura                856                12.1\n",
       "Documental                       759                10.7\n",
       "Películas familiares             500                 7.0\n",
       "Crimen                           358                 5.0\n",
       "Stand-Up Comedy                  334                 4.7\n",
       "Niños                            318                 4.5\n",
       "Horror                           273                 3.8\n",
       "Docuseries                       175                 2.5\n",
       "Anime                            173                 2.4\n",
       "Películas                        165                 2.3\n",
       "Clásicos                         100                 1.4\n",
       "Reality Show                      99                 1.4\n",
       "Thrillers                         62                 0.9\n",
       "Romántico                         35                 0.5\n",
       "Musical                           15                 0.2\n",
       "Ciencia Ficción                   14                 0.2"
      ]
     },
     "execution_count": 34,
     "metadata": {},
     "output_type": "execute_result"
    }
   ],
   "source": [
    "# Frecuencias absolutas y relativas, de titulos por Categoría\n",
    "tamaño = df_1.shape[0]\n",
    "f=df_1['Categoría'].value_counts()\n",
    "h=round((f/tamaño)*100,1)\n",
    "tabla = pd.DataFrame({'Frec. Absoluta': f, 'Frec. Relativa (%)': h})\n",
    "print(f\"Se observa que se prefiere muchas mas la Comedia que los Documentales por una diferencia de {round(17.8-10.7,1)} %\")\n",
    "tabla"
   ]
  },
  {
   "cell_type": "markdown",
   "metadata": {
    "id": "lrVkaikakaff"
   },
   "source": [
    "7. Considerando los 10 países con mayor cantidad de títulos, ¿cuál es el país con más presencia en la plataforma? ¿Qué inferencias puedes hacer al respecto? Para responder, crea una tabla de frecuencias absolutas y relativas."
   ]
  },
  {
   "cell_type": "code",
   "execution_count": 38,
   "metadata": {},
   "outputs": [
    {
     "name": "stdout",
     "output_type": "stream",
     "text": [
      "El pais con mas frecuencia en la plataforma es United States\n"
     ]
    },
    {
     "data": {
      "text/html": [
       "<div>\n",
       "<style scoped>\n",
       "    .dataframe tbody tr th:only-of-type {\n",
       "        vertical-align: middle;\n",
       "    }\n",
       "\n",
       "    .dataframe tbody tr th {\n",
       "        vertical-align: top;\n",
       "    }\n",
       "\n",
       "    .dataframe thead th {\n",
       "        text-align: right;\n",
       "    }\n",
       "</style>\n",
       "<table border=\"1\" class=\"dataframe\">\n",
       "  <thead>\n",
       "    <tr style=\"text-align: right;\">\n",
       "      <th></th>\n",
       "      <th>Frec. Absoluta</th>\n",
       "      <th>Frec. Relativa (%)</th>\n",
       "    </tr>\n",
       "    <tr>\n",
       "      <th>País</th>\n",
       "      <th></th>\n",
       "      <th></th>\n",
       "    </tr>\n",
       "  </thead>\n",
       "  <tbody>\n",
       "    <tr>\n",
       "      <th>United States</th>\n",
       "      <td>2779</td>\n",
       "      <td>39.2</td>\n",
       "    </tr>\n",
       "    <tr>\n",
       "      <th>India</th>\n",
       "      <td>918</td>\n",
       "      <td>12.9</td>\n",
       "    </tr>\n",
       "    <tr>\n",
       "      <th>United Kingdom</th>\n",
       "      <td>221</td>\n",
       "      <td>3.1</td>\n",
       "    </tr>\n",
       "    <tr>\n",
       "      <th>Japan</th>\n",
       "      <td>213</td>\n",
       "      <td>3.0</td>\n",
       "    </tr>\n",
       "    <tr>\n",
       "      <th>Canada</th>\n",
       "      <td>166</td>\n",
       "      <td>2.3</td>\n",
       "    </tr>\n",
       "    <tr>\n",
       "      <th>Spain</th>\n",
       "      <td>120</td>\n",
       "      <td>1.7</td>\n",
       "    </tr>\n",
       "    <tr>\n",
       "      <th>France</th>\n",
       "      <td>106</td>\n",
       "      <td>1.5</td>\n",
       "    </tr>\n",
       "    <tr>\n",
       "      <th>Mexico</th>\n",
       "      <td>96</td>\n",
       "      <td>1.4</td>\n",
       "    </tr>\n",
       "    <tr>\n",
       "      <th>Egypt</th>\n",
       "      <td>94</td>\n",
       "      <td>1.3</td>\n",
       "    </tr>\n",
       "    <tr>\n",
       "      <th>Nigeria</th>\n",
       "      <td>87</td>\n",
       "      <td>1.2</td>\n",
       "    </tr>\n",
       "  </tbody>\n",
       "</table>\n",
       "</div>"
      ],
      "text/plain": [
       "                Frec. Absoluta  Frec. Relativa (%)\n",
       "País                                              \n",
       "United States             2779                39.2\n",
       "India                      918                12.9\n",
       "United Kingdom             221                 3.1\n",
       "Japan                      213                 3.0\n",
       "Canada                     166                 2.3\n",
       "Spain                      120                 1.7\n",
       "France                     106                 1.5\n",
       "Mexico                      96                 1.4\n",
       "Egypt                       94                 1.3\n",
       "Nigeria                     87                 1.2"
      ]
     },
     "execution_count": 38,
     "metadata": {},
     "output_type": "execute_result"
    }
   ],
   "source": [
    "tamaño = df_1.shape[0]\n",
    "# Frecuencia absoluta y frecuencia relativa de los 10 paises con mayor cantidad de titulos\n",
    "f = df_1['País'].value_counts().head(10)\n",
    "\n",
    "h = round((f / tamaño) * 100, 1)\n",
    "\n",
    "tabla_paises = pd.DataFrame({'Frec. Absoluta': f, 'Frec. Relativa (%)': h})\n",
    "\n",
    "print(\"El pais con mas frecuencia en la plataforma es United States\")\n",
    "tabla_paises"
   ]
  },
  {
   "cell_type": "markdown",
   "metadata": {
    "id": "1I3j1U6v48gh"
   },
   "source": [
    "## Actividad 2"
   ]
  },
  {
   "cell_type": "markdown",
   "metadata": {
    "id": "Rov2-I_k5FaV"
   },
   "source": [
    "La siguiente base de datos contiene información de estudiantes pertenecientes a un Instituto Profesional. Con el fin de tomar decisiones institucionales, como reforzar asignaturas o rediseñar horarios se registraron datos sobre su rendimiento académico, género, jornada y número de asignaturas reprobadas.\n",
    "\n",
    "Para responder las siguientes preguntas, descarga la base de datos **<a href=\"https://drive.google.com/uc?export=download&id=1Z2mrhxQnGgEfMqKrPyXBBPLnFPg52Woz\n",
    "\">aquí</a>**."
   ]
  },
  {
   "cell_type": "markdown",
   "metadata": {},
   "source": []
  },
  {
   "cell_type": "markdown",
   "metadata": {
    "id": "bWeeEEKa6KPj"
   },
   "source": [
    "1. Define la población y la muestra del estudio."
   ]
  },
  {
   "cell_type": "code",
   "execution_count": 10,
   "metadata": {},
   "outputs": [
    {
     "name": "stdout",
     "output_type": "stream",
     "text": [
      "La poblacion son los estudiantes y la muestra del estudio son los 1000 estudiantes que participaron en el estudio\n"
     ]
    }
   ],
   "source": [
    "import pandas as pd\n",
    "df_1 = pd.read_csv(\"Calificaciones.csv\")\n",
    "print(f\"La poblacion son los estudiantes y la muestra del estudio son los {df_1.shape[0]} estudiantes que participaron en el estudio\")"
   ]
  },
  {
   "cell_type": "markdown",
   "metadata": {
    "id": "Eue6OZo8OoOl"
   },
   "source": [
    "2. ¿Cuál es la clasificación de las variables presentes en el estudio?"
   ]
  },
  {
   "cell_type": "code",
   "execution_count": null,
   "metadata": {},
   "outputs": [],
   "source": [
    "# id : Variable cuantitativa discreta\n",
    "# Genero : Variable cualitativa nominal\n",
    "# Jornada : Variable cualitativa nominal\n",
    "# Asignaturas reprobadas : Variable cuantitativa continua\n",
    "# Semestre de ingreso : Variable cualitativa ordinal"
   ]
  },
  {
   "cell_type": "markdown",
   "metadata": {
    "id": "qgHIubkB6O7G"
   },
   "source": [
    "3. ¿Cuál es el género más común entre los estudiantes? ¿Qué porcentaje representa?"
   ]
  },
  {
   "cell_type": "code",
   "execution_count": 21,
   "metadata": {},
   "outputs": [
    {
     "name": "stdout",
     "output_type": "stream",
     "text": [
      "El genero mas comun es Femenino que tiene un porcentaje de 50.5 %\n"
     ]
    },
    {
     "name": "stderr",
     "output_type": "stream",
     "text": [
      "C:\\Users\\Magol\\AppData\\Local\\Temp\\ipykernel_1872\\798371777.py:9: FutureWarning: Series.__getitem__ treating keys as positions is deprecated. In a future version, integer keys will always be treated as labels (consistent with DataFrame behavior). To access a value by position, use `ser.iloc[pos]`\n",
      "  print(f\"El genero mas comun es {genero_mas_comun} que tiene un porcentaje de {h[0]} %\")\n"
     ]
    }
   ],
   "source": [
    "genero_mas_comun = df_1['Género'].mode()[0]\n",
    "\n",
    "tamaño = df_1.shape[0]\n",
    "\n",
    "f = df_1['Género'].value_counts()\n",
    "\n",
    "h = f/tamaño*100\n",
    "\n",
    "print(f\"El genero mas comun es {genero_mas_comun} que tiene un porcentaje de {h[0]} %\")"
   ]
  },
  {
   "cell_type": "markdown",
   "metadata": {
    "id": "zKCEdbZG6RFE"
   },
   "source": [
    "4. ¿Qué jornada tiene mayor representación en la muestra? ¿Hay alguna diferencia relevante entre ambas?"
   ]
  },
  {
   "cell_type": "code",
   "execution_count": 25,
   "metadata": {},
   "outputs": [
    {
     "name": "stdout",
     "output_type": "stream",
     "text": [
      "La jornada con mayor representacion es Diuna\n",
      "La diferencia mas relevante es que hay una diferencia de 298 entre la jornada con mayor representacion y la segunda.\n"
     ]
    },
    {
     "name": "stderr",
     "output_type": "stream",
     "text": [
      "C:\\Users\\Magol\\AppData\\Local\\Temp\\ipykernel_1872\\101382507.py:4: FutureWarning: Series.__getitem__ treating keys as positions is deprecated. In a future version, integer keys will always be treated as labels (consistent with DataFrame behavior). To access a value by position, use `ser.iloc[pos]`\n",
      "  print(f\"La diferencia mas relevante es que hay una diferencia de {jornadas[0] - jornadas[1]} entre la jornada con mayor representacion y la segunda.\")\n"
     ]
    },
    {
     "data": {
      "text/plain": [
       "Jornada\n",
       "Diuna         649\n",
       "Vespertina    351\n",
       "Name: count, dtype: int64"
      ]
     },
     "execution_count": 25,
     "metadata": {},
     "output_type": "execute_result"
    }
   ],
   "source": [
    "mayor_representacion = df_1['Jornada'].mode()[0]\n",
    "jornadas = df_1['Jornada'].value_counts()\n",
    "print(f\"La jornada con mayor representacion es {mayor_representacion}\")\n",
    "print(f\"La diferencia mas relevante es que hay una diferencia de {jornadas[0] - jornadas[1]} entre la jornada con mayor representacion y la segunda.\")\n",
    "df_1['Jornada'].value_counts()"
   ]
  },
  {
   "cell_type": "markdown",
   "metadata": {
    "id": "7BZlt2dR6ehR"
   },
   "source": [
    "5. Realiza una tabla de frecuencias para la variable Asignaturas reprobadas. La tabla debe mostrar las frecuencias puntuales y acumuladas, luego responde las siguientes preguntas:"
   ]
  },
  {
   "cell_type": "code",
   "execution_count": 26,
   "metadata": {},
   "outputs": [
    {
     "data": {
      "text/html": [
       "<div>\n",
       "<style scoped>\n",
       "    .dataframe tbody tr th:only-of-type {\n",
       "        vertical-align: middle;\n",
       "    }\n",
       "\n",
       "    .dataframe tbody tr th {\n",
       "        vertical-align: top;\n",
       "    }\n",
       "\n",
       "    .dataframe thead th {\n",
       "        text-align: right;\n",
       "    }\n",
       "</style>\n",
       "<table border=\"1\" class=\"dataframe\">\n",
       "  <thead>\n",
       "    <tr style=\"text-align: right;\">\n",
       "      <th></th>\n",
       "      <th>Frec. Absoluta</th>\n",
       "      <th>Frec. Relativa (%)</th>\n",
       "    </tr>\n",
       "    <tr>\n",
       "      <th>Asignaturas reprobadas</th>\n",
       "      <th></th>\n",
       "      <th></th>\n",
       "    </tr>\n",
       "  </thead>\n",
       "  <tbody>\n",
       "    <tr>\n",
       "      <th>0</th>\n",
       "      <td>81</td>\n",
       "      <td>8.1</td>\n",
       "    </tr>\n",
       "    <tr>\n",
       "      <th>1</th>\n",
       "      <td>200</td>\n",
       "      <td>20.0</td>\n",
       "    </tr>\n",
       "    <tr>\n",
       "      <th>2</th>\n",
       "      <td>211</td>\n",
       "      <td>21.1</td>\n",
       "    </tr>\n",
       "    <tr>\n",
       "      <th>3</th>\n",
       "      <td>199</td>\n",
       "      <td>19.9</td>\n",
       "    </tr>\n",
       "    <tr>\n",
       "      <th>4</th>\n",
       "      <td>209</td>\n",
       "      <td>20.9</td>\n",
       "    </tr>\n",
       "    <tr>\n",
       "      <th>5 o más</th>\n",
       "      <td>100</td>\n",
       "      <td>10.0</td>\n",
       "    </tr>\n",
       "  </tbody>\n",
       "</table>\n",
       "</div>"
      ],
      "text/plain": [
       "                        Frec. Absoluta  Frec. Relativa (%)\n",
       "Asignaturas reprobadas                                    \n",
       "0                                   81                 8.1\n",
       "1                                  200                20.0\n",
       "2                                  211                21.1\n",
       "3                                  199                19.9\n",
       "4                                  209                20.9\n",
       "5 o más                            100                10.0"
      ]
     },
     "execution_count": 26,
     "metadata": {},
     "output_type": "execute_result"
    }
   ],
   "source": [
    "tamaño = df_1.shape[0]\n",
    "\n",
    "# Frec. absoluta, Frec. relativa, Frec. absoluta acumulada, Frec. relativa acumulada\n",
    "\n",
    "f = df_1['Asignaturas reprobadas'].value_counts().sort_index()\n",
    "\n",
    "h = f / tamaño * 100\n",
    "\n",
    "tabla = pd.DataFrame({'Frec. Absoluta': f, 'Frec. Relativa (%)': h})\n",
    "\n",
    "tabla"
   ]
  },
  {
   "cell_type": "markdown",
   "metadata": {
    "id": "MmHowsKJ6ysH"
   },
   "source": [
    "  $\\hspace{1cm}$ 5.1 ¿Cuál es la cantidad más común de asignaturas reprobadas?"
   ]
  },
  {
   "cell_type": "code",
   "execution_count": 27,
   "metadata": {},
   "outputs": [
    {
     "name": "stdout",
     "output_type": "stream",
     "text": [
      "La cantidad mas comun de asignaturas reprobadas son 2\n"
     ]
    }
   ],
   "source": [
    "print(f\"La cantidad mas comun de asignaturas reprobadas son {df_1['Asignaturas reprobadas'].mode()[0]}\")"
   ]
  },
  {
   "cell_type": "markdown",
   "metadata": {
    "id": "nBfmU9Nr60tv"
   },
   "source": [
    "$\\hspace{1cm}$ 5.2. ¿Qué porcentaje de estudiantes ha reprobado 3 asignaturas o menos?"
   ]
  },
  {
   "cell_type": "code",
   "execution_count": 32,
   "metadata": {},
   "outputs": [
    {
     "name": "stdout",
     "output_type": "stream",
     "text": [
      "El porcentaje de estudiantes que repobrado 3 asignaturas o menos 69.1 %\n"
     ]
    },
    {
     "name": "stderr",
     "output_type": "stream",
     "text": [
      "C:\\Users\\Magol\\AppData\\Local\\Temp\\ipykernel_1872\\3140467454.py:1: FutureWarning: Series.__getitem__ treating keys as positions is deprecated. In a future version, integer keys will always be treated as labels (consistent with DataFrame behavior). To access a value by position, use `ser.iloc[pos]`\n",
      "  print(f\"El porcentaje de estudiantes que repobrado 3 asignaturas o menos {round(h.cumsum()[3], 1)} %\")\n"
     ]
    }
   ],
   "source": [
    "print(f\"El porcentaje de estudiantes que repobrado 3 asignaturas o menos {round(h.cumsum()[3], 1)} %\")"
   ]
  },
  {
   "cell_type": "markdown",
   "metadata": {
    "id": "oB1SF5Kd68fN"
   },
   "source": [
    "$\\hspace{1cm}$ 5.3. Interpreta las siguientes frecuencias:"
   ]
  },
  {
   "cell_type": "code",
   "execution_count": 34,
   "metadata": {},
   "outputs": [
    {
     "data": {
      "text/html": [
       "<div>\n",
       "<style scoped>\n",
       "    .dataframe tbody tr th:only-of-type {\n",
       "        vertical-align: middle;\n",
       "    }\n",
       "\n",
       "    .dataframe tbody tr th {\n",
       "        vertical-align: top;\n",
       "    }\n",
       "\n",
       "    .dataframe thead th {\n",
       "        text-align: right;\n",
       "    }\n",
       "</style>\n",
       "<table border=\"1\" class=\"dataframe\">\n",
       "  <thead>\n",
       "    <tr style=\"text-align: right;\">\n",
       "      <th></th>\n",
       "      <th>Frec. Absoluta</th>\n",
       "      <th>Frec. Relativa (%)</th>\n",
       "      <th>Frec. Absoluta Acumulada</th>\n",
       "      <th>Frec. Relativa Acumulada (%)</th>\n",
       "    </tr>\n",
       "    <tr>\n",
       "      <th>Asignaturas reprobadas</th>\n",
       "      <th></th>\n",
       "      <th></th>\n",
       "      <th></th>\n",
       "      <th></th>\n",
       "    </tr>\n",
       "  </thead>\n",
       "  <tbody>\n",
       "    <tr>\n",
       "      <th>0</th>\n",
       "      <td>81</td>\n",
       "      <td>8.1</td>\n",
       "      <td>81</td>\n",
       "      <td>8.1</td>\n",
       "    </tr>\n",
       "    <tr>\n",
       "      <th>1</th>\n",
       "      <td>200</td>\n",
       "      <td>20.0</td>\n",
       "      <td>281</td>\n",
       "      <td>28.1</td>\n",
       "    </tr>\n",
       "    <tr>\n",
       "      <th>2</th>\n",
       "      <td>211</td>\n",
       "      <td>21.1</td>\n",
       "      <td>492</td>\n",
       "      <td>49.2</td>\n",
       "    </tr>\n",
       "    <tr>\n",
       "      <th>3</th>\n",
       "      <td>199</td>\n",
       "      <td>19.9</td>\n",
       "      <td>691</td>\n",
       "      <td>69.1</td>\n",
       "    </tr>\n",
       "    <tr>\n",
       "      <th>4</th>\n",
       "      <td>209</td>\n",
       "      <td>20.9</td>\n",
       "      <td>900</td>\n",
       "      <td>90.0</td>\n",
       "    </tr>\n",
       "    <tr>\n",
       "      <th>5 o más</th>\n",
       "      <td>100</td>\n",
       "      <td>10.0</td>\n",
       "      <td>1000</td>\n",
       "      <td>100.0</td>\n",
       "    </tr>\n",
       "  </tbody>\n",
       "</table>\n",
       "</div>"
      ],
      "text/plain": [
       "                        Frec. Absoluta  Frec. Relativa (%)  \\\n",
       "Asignaturas reprobadas                                       \n",
       "0                                   81                 8.1   \n",
       "1                                  200                20.0   \n",
       "2                                  211                21.1   \n",
       "3                                  199                19.9   \n",
       "4                                  209                20.9   \n",
       "5 o más                            100                10.0   \n",
       "\n",
       "                        Frec. Absoluta Acumulada  Frec. Relativa Acumulada (%)  \n",
       "Asignaturas reprobadas                                                          \n",
       "0                                             81                           8.1  \n",
       "1                                            281                          28.1  \n",
       "2                                            492                          49.2  \n",
       "3                                            691                          69.1  \n",
       "4                                            900                          90.0  \n",
       "5 o más                                     1000                         100.0  "
      ]
     },
     "execution_count": 34,
     "metadata": {},
     "output_type": "execute_result"
    }
   ],
   "source": [
    "tamaño = df_1.shape[0]\n",
    "\n",
    "# Frec. absoluta, Frec. relativa, Frec. absoluta acumulada, Frec. relativa acumulada\n",
    "\n",
    "f = df_1['Asignaturas reprobadas'].value_counts().sort_index()\n",
    "\n",
    "F = f.cumsum()\n",
    "\n",
    "h = f / tamaño * 100\n",
    "\n",
    "H = h.cumsum()\n",
    "\n",
    "tabla = pd.DataFrame({'Frec. Absoluta': f, 'Frec. Relativa (%)': h, 'Frec. Absoluta Acumulada': F, 'Frec. Relativa Acumulada (%)': H})\n",
    "\n",
    "tabla"
   ]
  },
  {
   "cell_type": "markdown",
   "metadata": {
    "id": "UuQr4u5RQT4l"
   },
   "source": [
    "## Actividad 3"
   ]
  },
  {
   "cell_type": "markdown",
   "metadata": {
    "id": "N8MCBVdd9ULi"
   },
   "source": [
    "La base de datos utilizada en esta actividad corresponde al Informe Mundial de la Felicidad publicado por la ONU del año 2024. Contiene información de 140 países y evalúa el nivel de felicidad de sus habitantes en una escala continua (de 0 a 10), así como otros indicadores como el PIB per cápita, apoyo social, esperanza de vida saludable, percepción de corrupción y libertad para tomar decisiones de vida.\n",
    "\n",
    "Para responder las siguientes preguntas, descarga la base de datos **<a href=\"https://drive.google.com/uc?export=download&id=1bKzL1MFdbfXMy9aYpGNt-SXlTrxEEL_9\n",
    "\">aquí</a>**.\n",
    "\n",
    "*Log PIB per cápita, corresponde al logaritmo del Producto Interno Bruto per cápita. Esta transformación se usa para reducir la asimetría de la distribución del PIB per cápita y facilitar comparaciones cuando hay grandes diferencias entre países.*\n"
   ]
  },
  {
   "cell_type": "markdown",
   "metadata": {
    "id": "JmqUSobF9_ka"
   },
   "source": [
    "1. Define la población y muestra del estudio."
   ]
  },
  {
   "cell_type": "code",
   "execution_count": 9,
   "metadata": {},
   "outputs": [
    {
     "name": "stdout",
     "output_type": "stream",
     "text": [
      "La poblacion del estudio son todos los paises del mundo\n",
      "La muestra del estudio son 140 paises incluidos en el informe Mundial de la Felicidad publicado por la ONU en 2024\n"
     ]
    }
   ],
   "source": [
    "import pandas as pd\n",
    "\n",
    "df_1 = pd.read_csv(\"Reporte_felicidad_2024.csv\")\n",
    "\n",
    "print(\"La poblacion del estudio son todos los paises del mundo\")\n",
    "print(\"La muestra del estudio son 140 paises incluidos en el informe Mundial de la Felicidad publicado por la ONU en 2024\")"
   ]
  },
  {
   "cell_type": "markdown",
   "metadata": {
    "id": "hjYnL6tESGDB"
   },
   "source": [
    "2. ¿Cuál es la clasificación de la variable *Puntaje de felicidad*?"
   ]
  },
  {
   "cell_type": "code",
   "execution_count": 10,
   "metadata": {},
   "outputs": [],
   "source": [
    "# La variable Calificacion es una variable cuantitativa continua"
   ]
  },
  {
   "cell_type": "markdown",
   "metadata": {
    "id": "66HgR_Ou-DBx"
   },
   "source": [
    "3. Crea una tabla de frecuencias puntuales y acumuladas utilizando la variable *Puntaje de felicidad*. Considera crear la tabla de frecuencias con 8 intervalos."
   ]
  },
  {
   "cell_type": "code",
   "execution_count": 11,
   "metadata": {},
   "outputs": [
    {
     "name": "stderr",
     "output_type": "stream",
     "text": [
      "C:\\Users\\Magol\\AppData\\Local\\Temp\\ipykernel_6404\\4223041221.py:9: FutureWarning: The default of observed=False is deprecated and will be changed to True in a future version of pandas. Pass observed=False to retain current behavior or observed=True to adopt the future default and silence this warning.\n",
      "  f = df_1.groupby('Intervalos').size()\n"
     ]
    },
    {
     "data": {
      "text/html": [
       "<div>\n",
       "<style scoped>\n",
       "    .dataframe tbody tr th:only-of-type {\n",
       "        vertical-align: middle;\n",
       "    }\n",
       "\n",
       "    .dataframe tbody tr th {\n",
       "        vertical-align: top;\n",
       "    }\n",
       "\n",
       "    .dataframe thead th {\n",
       "        text-align: right;\n",
       "    }\n",
       "</style>\n",
       "<table border=\"1\" class=\"dataframe\">\n",
       "  <thead>\n",
       "    <tr style=\"text-align: right;\">\n",
       "      <th></th>\n",
       "      <th>Frec. Absoluta</th>\n",
       "      <th>Frec. Absoluta Acumulada</th>\n",
       "      <th>Frec. Relativa (%)</th>\n",
       "      <th>Frec. Relativa Acumulada (%)</th>\n",
       "    </tr>\n",
       "    <tr>\n",
       "      <th>Intervalos</th>\n",
       "      <th></th>\n",
       "      <th></th>\n",
       "      <th></th>\n",
       "      <th></th>\n",
       "    </tr>\n",
       "  </thead>\n",
       "  <tbody>\n",
       "    <tr>\n",
       "      <th>(1.5999999999999999, 2.5]</th>\n",
       "      <td>1</td>\n",
       "      <td>1</td>\n",
       "      <td>0.7</td>\n",
       "      <td>0.7</td>\n",
       "    </tr>\n",
       "    <tr>\n",
       "      <th>(2.5, 3.2]</th>\n",
       "      <td>2</td>\n",
       "      <td>3</td>\n",
       "      <td>1.4</td>\n",
       "      <td>2.1</td>\n",
       "    </tr>\n",
       "    <tr>\n",
       "      <th>(3.2, 4.0]</th>\n",
       "      <td>14</td>\n",
       "      <td>17</td>\n",
       "      <td>10.0</td>\n",
       "      <td>12.1</td>\n",
       "    </tr>\n",
       "    <tr>\n",
       "      <th>(4.0, 4.7]</th>\n",
       "      <td>19</td>\n",
       "      <td>36</td>\n",
       "      <td>13.6</td>\n",
       "      <td>25.7</td>\n",
       "    </tr>\n",
       "    <tr>\n",
       "      <th>(4.7, 5.5]</th>\n",
       "      <td>25</td>\n",
       "      <td>61</td>\n",
       "      <td>17.9</td>\n",
       "      <td>43.6</td>\n",
       "    </tr>\n",
       "    <tr>\n",
       "      <th>(5.5, 6.2]</th>\n",
       "      <td>34</td>\n",
       "      <td>95</td>\n",
       "      <td>24.3</td>\n",
       "      <td>67.9</td>\n",
       "    </tr>\n",
       "    <tr>\n",
       "      <th>(6.2, 7.0]</th>\n",
       "      <td>34</td>\n",
       "      <td>129</td>\n",
       "      <td>24.3</td>\n",
       "      <td>92.2</td>\n",
       "    </tr>\n",
       "    <tr>\n",
       "      <th>(7.0, 7.7]</th>\n",
       "      <td>11</td>\n",
       "      <td>140</td>\n",
       "      <td>7.9</td>\n",
       "      <td>100.1</td>\n",
       "    </tr>\n",
       "  </tbody>\n",
       "</table>\n",
       "</div>"
      ],
      "text/plain": [
       "                           Frec. Absoluta  Frec. Absoluta Acumulada  \\\n",
       "Intervalos                                                            \n",
       "(1.5999999999999999, 2.5]               1                         1   \n",
       "(2.5, 3.2]                              2                         3   \n",
       "(3.2, 4.0]                             14                        17   \n",
       "(4.0, 4.7]                             19                        36   \n",
       "(4.7, 5.5]                             25                        61   \n",
       "(5.5, 6.2]                             34                        95   \n",
       "(6.2, 7.0]                             34                       129   \n",
       "(7.0, 7.7]                             11                       140   \n",
       "\n",
       "                           Frec. Relativa (%)  Frec. Relativa Acumulada (%)  \n",
       "Intervalos                                                                   \n",
       "(1.5999999999999999, 2.5]                 0.7                           0.7  \n",
       "(2.5, 3.2]                                1.4                           2.1  \n",
       "(3.2, 4.0]                               10.0                          12.1  \n",
       "(4.0, 4.7]                               13.6                          25.7  \n",
       "(4.7, 5.5]                               17.9                          43.6  \n",
       "(5.5, 6.2]                               24.3                          67.9  \n",
       "(6.2, 7.0]                               24.3                          92.2  \n",
       "(7.0, 7.7]                                7.9                         100.1  "
      ]
     },
     "execution_count": 11,
     "metadata": {},
     "output_type": "execute_result"
    }
   ],
   "source": [
    "tamaño = df_1.shape[0]\n",
    "\n",
    "# Se agrega una nueva columna para los 8 intervalos\n",
    "\n",
    "df_1['Intervalos'] = pd.cut(df_1['Puntaje de felicidad'], bins = 8, precision = 1, include_lowest=True)\n",
    "\n",
    "#Se realizan los calculos de las frecuencias puntuales y acumuladas\n",
    "\n",
    "f = df_1.groupby('Intervalos').size()\n",
    "\n",
    "F = f.cumsum()\n",
    "\n",
    "h = round(f/tamaño*100, 1)\n",
    "\n",
    "H = h.cumsum()\n",
    "\n",
    "# Se crea la tabla de frecuencias puntuales y acumuladas\n",
    "\n",
    "tabla = pd.DataFrame({\n",
    "    'Frec. Absoluta': f,\n",
    "    'Frec. Absoluta Acumulada': F,\n",
    "    'Frec. Relativa (%)': h,\n",
    "    'Frec. Relativa Acumulada (%)': H\n",
    "})\n",
    "tabla\n"
   ]
  },
  {
   "cell_type": "markdown",
   "metadata": {
    "id": "UyOIB9_wNoYF"
   },
   "source": [
    "4. Interpreta las siguientes frecuencias:\n",
    "\n",
    "$\\hspace{1cm}$ $f_{3}$:\n",
    "\n",
    "$\\hspace{1cm}$ $F_{5}$:\n",
    "\n",
    "$\\hspace{1cm}$ $h_{4}$:\n",
    "\n",
    "$\\hspace{1cm}$ $H_{6}$:"
   ]
  },
  {
   "cell_type": "code",
   "execution_count": 12,
   "metadata": {},
   "outputs": [
    {
     "name": "stdout",
     "output_type": "stream",
     "text": [
      "f3 = 14\n",
      "F5 = 61\n",
      "h4 = 13.6\n",
      "H6 = 67.89999999999999\n"
     ]
    }
   ],
   "source": [
    "print(f\"f3 = {tabla['Frec. Absoluta'].iloc[2]}\")\n",
    "print(f\"F5 = {tabla['Frec. Absoluta Acumulada'].iloc[4]}\")\n",
    "print(f\"h4 = {tabla['Frec. Relativa (%)'].iloc[3]}\")\n",
    "print(f\"H6 = {tabla['Frec. Relativa Acumulada (%)'].iloc[5]}\")"
   ]
  },
  {
   "cell_type": "markdown",
   "metadata": {
    "id": "KH2yXEwv-f7a"
   },
   "source": [
    "5. ¿Qué puedes concluir sobre la concentración de países según su nivel de felicidad? Para responder considera las siguientes categorías de nivel de felicidad:\n",
    "\n",
    "* Baja: (1,70; 3,23]\n",
    "* Media: (3,23; 4,73]\n",
    "* Media-alta: (4,73; 6,24]\n",
    "* Alta: (6,24; 7,74]"
   ]
  },
  {
   "cell_type": "code",
   "execution_count": 13,
   "metadata": {},
   "outputs": [
    {
     "name": "stdout",
     "output_type": "stream",
     "text": [
      "                 Frec. Absoluta  Frec. Relativa (%)\n",
      "Nivel felicidad                                    \n",
      "Baja                          3                 2.1\n",
      "Media                        33                23.6\n",
      "Media-alta                   59                42.1\n",
      "Alta                         44                31.4\n"
     ]
    }
   ],
   "source": [
    "# Definir los intervalos y etiquetas\n",
    "bins = [1.70, 3.23, 4.73, 6.24, 7.74]\n",
    "labels = ['Baja', 'Media', 'Media-alta', 'Alta']\n",
    "\n",
    "# Crear la nueva columna de categorías\n",
    "df_1['Nivel felicidad'] = pd.cut(df_1['Puntaje de felicidad'], bins=bins, labels=labels, include_lowest=True)\n",
    "\n",
    "# Contar países por categoría\n",
    "f = df_1['Nivel felicidad'].value_counts().sort_index()\n",
    "h = round(f / df_1.shape[0] * 100, 1)\n",
    "\n",
    "# Mostrar resultados\n",
    "tabla = pd.DataFrame({'Frec. Absoluta': f, 'Frec. Relativa (%)': h})\n",
    "print(tabla)"
   ]
  },
  {
   "cell_type": "markdown",
   "metadata": {
    "id": "4OqPp7JsH2Nh"
   },
   "source": [
    "6. ¿Cómo se distribuyen los países según su PIB per cápita? Construye una tabla de frecuencias considerando 8 intervalos."
   ]
  },
  {
   "cell_type": "code",
   "execution_count": 14,
   "metadata": {},
   "outputs": [
    {
     "data": {
      "text/html": [
       "<div>\n",
       "<style scoped>\n",
       "    .dataframe tbody tr th:only-of-type {\n",
       "        vertical-align: middle;\n",
       "    }\n",
       "\n",
       "    .dataframe tbody tr th {\n",
       "        vertical-align: top;\n",
       "    }\n",
       "\n",
       "    .dataframe thead th {\n",
       "        text-align: right;\n",
       "    }\n",
       "</style>\n",
       "<table border=\"1\" class=\"dataframe\">\n",
       "  <thead>\n",
       "    <tr style=\"text-align: right;\">\n",
       "      <th></th>\n",
       "      <th>Frec. Absoluta</th>\n",
       "      <th>Frec. Relativa (%)</th>\n",
       "      <th>Frec. Acumulada</th>\n",
       "      <th>Frec. Acumulada (%)</th>\n",
       "    </tr>\n",
       "    <tr>\n",
       "      <th>Intervalos PIB</th>\n",
       "      <th></th>\n",
       "      <th></th>\n",
       "      <th></th>\n",
       "      <th></th>\n",
       "    </tr>\n",
       "  </thead>\n",
       "  <tbody>\n",
       "    <tr>\n",
       "      <th>(-0.10200000000000001, 0.3]</th>\n",
       "      <td>1</td>\n",
       "      <td>0.714286</td>\n",
       "      <td>1</td>\n",
       "      <td>0.714286</td>\n",
       "    </tr>\n",
       "    <tr>\n",
       "      <th>(0.3, 0.5]</th>\n",
       "      <td>1</td>\n",
       "      <td>0.714286</td>\n",
       "      <td>2</td>\n",
       "      <td>1.428571</td>\n",
       "    </tr>\n",
       "    <tr>\n",
       "      <th>(0.5, 0.8]</th>\n",
       "      <td>17</td>\n",
       "      <td>12.142857</td>\n",
       "      <td>19</td>\n",
       "      <td>13.571429</td>\n",
       "    </tr>\n",
       "    <tr>\n",
       "      <th>(0.8, 1.1]</th>\n",
       "      <td>15</td>\n",
       "      <td>10.714286</td>\n",
       "      <td>34</td>\n",
       "      <td>24.285714</td>\n",
       "    </tr>\n",
       "    <tr>\n",
       "      <th>(1.1, 1.3]</th>\n",
       "      <td>23</td>\n",
       "      <td>16.428571</td>\n",
       "      <td>57</td>\n",
       "      <td>40.714286</td>\n",
       "    </tr>\n",
       "    <tr>\n",
       "      <th>(1.3, 1.6]</th>\n",
       "      <td>33</td>\n",
       "      <td>23.571429</td>\n",
       "      <td>90</td>\n",
       "      <td>64.285714</td>\n",
       "    </tr>\n",
       "    <tr>\n",
       "      <th>(1.6, 1.9]</th>\n",
       "      <td>37</td>\n",
       "      <td>26.428571</td>\n",
       "      <td>127</td>\n",
       "      <td>90.714286</td>\n",
       "    </tr>\n",
       "    <tr>\n",
       "      <th>(1.9, 2.1]</th>\n",
       "      <td>13</td>\n",
       "      <td>9.285714</td>\n",
       "      <td>140</td>\n",
       "      <td>100.000000</td>\n",
       "    </tr>\n",
       "  </tbody>\n",
       "</table>\n",
       "</div>"
      ],
      "text/plain": [
       "                             Frec. Absoluta  Frec. Relativa (%)  \\\n",
       "Intervalos PIB                                                    \n",
       "(-0.10200000000000001, 0.3]               1            0.714286   \n",
       "(0.3, 0.5]                                1            0.714286   \n",
       "(0.5, 0.8]                               17           12.142857   \n",
       "(0.8, 1.1]                               15           10.714286   \n",
       "(1.1, 1.3]                               23           16.428571   \n",
       "(1.3, 1.6]                               33           23.571429   \n",
       "(1.6, 1.9]                               37           26.428571   \n",
       "(1.9, 2.1]                               13            9.285714   \n",
       "\n",
       "                             Frec. Acumulada  Frec. Acumulada (%)  \n",
       "Intervalos PIB                                                     \n",
       "(-0.10200000000000001, 0.3]                1             0.714286  \n",
       "(0.3, 0.5]                                 2             1.428571  \n",
       "(0.5, 0.8]                                19            13.571429  \n",
       "(0.8, 1.1]                                34            24.285714  \n",
       "(1.1, 1.3]                                57            40.714286  \n",
       "(1.3, 1.6]                                90            64.285714  \n",
       "(1.6, 1.9]                               127            90.714286  \n",
       "(1.9, 2.1]                               140           100.000000  "
      ]
     },
     "execution_count": 14,
     "metadata": {},
     "output_type": "execute_result"
    }
   ],
   "source": [
    "tamaño = df_1.shape[0]\n",
    "# Creacion de 8 intervalos\n",
    "df_1['Intervalos PIB'] = pd.cut(df_1['Log PIB per cápita'], bins=8, precision=1, include_lowest=True)\n",
    "\n",
    "# Calcular frecuencias puntuales\n",
    "f = df_1['Intervalos PIB'].value_counts().sort_index()\n",
    "h = f/tamaño*100\n",
    "F = f.cumsum()\n",
    "H = h.cumsum()\n",
    "\n",
    "# Crear un DataFrame con los resultados\n",
    "tabla = pd.DataFrame({\n",
    "    'Frec. Absoluta': f,\n",
    "    'Frec. Relativa (%)': h,\n",
    "    'Frec. Acumulada': F,\n",
    "    'Frec. Acumulada (%)': H\n",
    "})\n",
    "\n",
    "tabla"
   ]
  },
  {
   "cell_type": "markdown",
   "metadata": {
    "id": "nQjG4L2XtOdc"
   },
   "source": [
    "7. Considera las siguientes categorías de nivel de PIB per cápita:\n",
    "* Baja: (-0,0121; 0,54]\n",
    "* Media: (0,54; 1,07]\n",
    "* Media-alta: (1,07; 1,61]\n",
    "* Alta: (1,61; 2,14]\n",
    "\n",
    "Con base en la tabla de frecuencias del inciso anterior, ¿en qué categoría se concentra la mayoría de los países y qué conclusiones puedes extraer sobre su desarrollo económico?"
   ]
  },
  {
   "cell_type": "code",
   "execution_count": 15,
   "metadata": {},
   "outputs": [
    {
     "data": {
      "text/html": [
       "<div>\n",
       "<style scoped>\n",
       "    .dataframe tbody tr th:only-of-type {\n",
       "        vertical-align: middle;\n",
       "    }\n",
       "\n",
       "    .dataframe tbody tr th {\n",
       "        vertical-align: top;\n",
       "    }\n",
       "\n",
       "    .dataframe thead th {\n",
       "        text-align: right;\n",
       "    }\n",
       "</style>\n",
       "<table border=\"1\" class=\"dataframe\">\n",
       "  <thead>\n",
       "    <tr style=\"text-align: right;\">\n",
       "      <th></th>\n",
       "      <th>Frec. Absoluta</th>\n",
       "      <th>Frec. Relativa (%)</th>\n",
       "      <th>Frec. Acumulada</th>\n",
       "      <th>Frec. Acumulada (%)</th>\n",
       "    </tr>\n",
       "    <tr>\n",
       "      <th>Nivel PIB</th>\n",
       "      <th></th>\n",
       "      <th></th>\n",
       "      <th></th>\n",
       "      <th></th>\n",
       "    </tr>\n",
       "  </thead>\n",
       "  <tbody>\n",
       "    <tr>\n",
       "      <th>Baja</th>\n",
       "      <td>2</td>\n",
       "      <td>1.428571</td>\n",
       "      <td>2</td>\n",
       "      <td>1.428571</td>\n",
       "    </tr>\n",
       "    <tr>\n",
       "      <th>Media</th>\n",
       "      <td>32</td>\n",
       "      <td>22.857143</td>\n",
       "      <td>34</td>\n",
       "      <td>24.285714</td>\n",
       "    </tr>\n",
       "    <tr>\n",
       "      <th>Media-alta</th>\n",
       "      <td>56</td>\n",
       "      <td>40.000000</td>\n",
       "      <td>90</td>\n",
       "      <td>64.285714</td>\n",
       "    </tr>\n",
       "    <tr>\n",
       "      <th>Alta</th>\n",
       "      <td>49</td>\n",
       "      <td>35.000000</td>\n",
       "      <td>139</td>\n",
       "      <td>99.285714</td>\n",
       "    </tr>\n",
       "  </tbody>\n",
       "</table>\n",
       "</div>"
      ],
      "text/plain": [
       "            Frec. Absoluta  Frec. Relativa (%)  Frec. Acumulada  \\\n",
       "Nivel PIB                                                         \n",
       "Baja                     2            1.428571                2   \n",
       "Media                   32           22.857143               34   \n",
       "Media-alta              56           40.000000               90   \n",
       "Alta                    49           35.000000              139   \n",
       "\n",
       "            Frec. Acumulada (%)  \n",
       "Nivel PIB                        \n",
       "Baja                   1.428571  \n",
       "Media                 24.285714  \n",
       "Media-alta            64.285714  \n",
       "Alta                  99.285714  "
      ]
     },
     "execution_count": 15,
     "metadata": {},
     "output_type": "execute_result"
    }
   ],
   "source": [
    "tamaño = df_1.shape[0]\n",
    "# Definir los intervalos y las etiquetas\n",
    "bins = [-0.0121, 0.54, 1.07, 1.61, 2.14]\n",
    "labels = ['Baja', 'Media', 'Media-alta', 'Alta']\n",
    "\n",
    "# Crear la nueva columna\n",
    "df_1['Nivel PIB'] = pd.cut(df_1['Log PIB per cápita'], bins = bins, labels = labels, include_lowest = True);\n",
    "\n",
    "# Calcular frecuencias puntuales y acumuladas\n",
    "f = df_1['Nivel PIB'].value_counts().sort_index()\n",
    "h = f / tamaño * 100\n",
    "F = f.cumsum()\n",
    "H = h.cumsum()\n",
    "\n",
    "# Crear un DataFrame con los resultados\n",
    "tabla = pd.DataFrame({\n",
    "    'Frec. Absoluta': f,\n",
    "    'Frec. Relativa (%)': h,\n",
    "    'Frec. Acumulada': F,\n",
    "    'Frec. Acumulada (%)': H\n",
    "})\n",
    "\n",
    "tabla"
   ]
  },
  {
   "cell_type": "markdown",
   "metadata": {
    "id": "-Dr4p2W6-0Nm"
   },
   "source": [
    "8. ¿Hay relación entre un mayor PIB per cápita y un mayor puntaje de felicidad? Utiliza la IA Gemini para generar un gráfico de dispersión y analiza si hay una tendencia clara entre ambas variables. Explica tus conclusiones con tus propias palabras."
   ]
  },
  {
   "cell_type": "code",
   "execution_count": 19,
   "metadata": {},
   "outputs": [
    {
     "data": {
      "image/png": "[encoded data removed]",
      "text/plain": [
       "<Figure size 1000x600 with 1 Axes>"
      ]
     },
     "metadata": {},
     "output_type": "display_data"
    },
    {
     "name": "stdout",
     "output_type": "stream",
     "text": [
      "Se puede observar una relacion positiva entre el PIB per cápita y el Puntaje de Felicidad. osea que mientras mayor PIB\n",
      "mayor es el Puntaje de Felicidad\n"
     ]
    }
   ],
   "source": [
    "import matplotlib.pyplot as plt\n",
    "\n",
    "# Crear el gráfico de dispersión\n",
    "plt.figure(figsize=(10, 6))\n",
    "plt.scatter(df_1['Log PIB per cápita'], df_1['Puntaje de felicidad'], alpha=0.5)\n",
    "plt.title('Relación entre PIB per cápita y Puntaje de Felicidad')\n",
    "plt.xlabel('Log PIB per cápita')\n",
    "plt.ylabel('Puntaje de Felicidad')\n",
    "plt.grid(True)\n",
    "plt.show()\n",
    "print(\"Se puede observar una relacion positiva entre el PIB per cápita y el Puntaje de Felicidad. osea que mientras mayor PIB\")\n",
    "print(\"mayor es el Puntaje de Felicidad\")"
   ]
  },
  {
   "cell_type": "markdown",
   "metadata": {
    "id": "ke3TY8E1QkCg"
   },
   "source": [
    "## Actividad 4"
   ]
  },
  {
   "cell_type": "markdown",
   "metadata": {
    "id": "c9p56uvMI8Cm"
   },
   "source": [
    "Para describir un conjunto de llamadas telefónicas se trabajará con una base de datos que contiene información del tiempo de duración y destino de 250  llamadas realizadas a algún país de América del Norte.\n",
    "\n",
    "Descarga la base de datos **<a href=\"https://docs.google.com/spreadsheets/d/1KtiWhqgBecg_sKsGur_OCog5a0sU69NQ/export?format=xlsx\n",
    "\">aquí</a>**.\n"
   ]
  },
  {
   "cell_type": "markdown",
   "metadata": {
    "id": "OkpEiSTqJ82-"
   },
   "source": [
    "1. Define la población y la muestra del estudio."
   ]
  },
  {
   "cell_type": "code",
   "execution_count": 23,
   "metadata": {},
   "outputs": [
    {
     "name": "stdout",
     "output_type": "stream",
     "text": [
      "La poblacion son las llamadas realizadas a algun pais de America del Norte\n",
      "y la muestra del estudio son las 250 llamadas registradas en la base de datos\n"
     ]
    }
   ],
   "source": [
    "import pandas as pd\n",
    "df_1 = pd.read_excel(\"Llamadas.xlsx\")\n",
    "print(\"La poblacion son las llamadas realizadas a algun pais de America del Norte\")\n",
    "print(\"y la muestra del estudio son las 250 llamadas registradas en la base de datos\")"
   ]
  },
  {
   "cell_type": "markdown",
   "metadata": {
    "id": "vcxyMBeRyq34"
   },
   "source": [
    "2. Muestra las tres primeras filas y tres últimas filas de DataFrame."
   ]
  },
  {
   "cell_type": "code",
   "execution_count": 25,
   "metadata": {},
   "outputs": [
    {
     "data": {
      "text/html": [
       "<div>\n",
       "<style scoped>\n",
       "    .dataframe tbody tr th:only-of-type {\n",
       "        vertical-align: middle;\n",
       "    }\n",
       "\n",
       "    .dataframe tbody tr th {\n",
       "        vertical-align: top;\n",
       "    }\n",
       "\n",
       "    .dataframe thead th {\n",
       "        text-align: right;\n",
       "    }\n",
       "</style>\n",
       "<table border=\"1\" class=\"dataframe\">\n",
       "  <thead>\n",
       "    <tr style=\"text-align: right;\">\n",
       "      <th></th>\n",
       "      <th>Registro llamada</th>\n",
       "      <th>Destino</th>\n",
       "      <th>Tiempo (en minutos)</th>\n",
       "    </tr>\n",
       "  </thead>\n",
       "  <tbody>\n",
       "    <tr>\n",
       "      <th>0</th>\n",
       "      <td>150131774</td>\n",
       "      <td>Canadá</td>\n",
       "      <td>35.3</td>\n",
       "    </tr>\n",
       "    <tr>\n",
       "      <th>1</th>\n",
       "      <td>150131698</td>\n",
       "      <td>Canadá</td>\n",
       "      <td>19.4</td>\n",
       "    </tr>\n",
       "    <tr>\n",
       "      <th>2</th>\n",
       "      <td>150131725</td>\n",
       "      <td>Estados Unidos</td>\n",
       "      <td>50.4</td>\n",
       "    </tr>\n",
       "  </tbody>\n",
       "</table>\n",
       "</div>"
      ],
      "text/plain": [
       "   Registro llamada         Destino  Tiempo (en minutos)\n",
       "0         150131774          Canadá                 35.3\n",
       "1         150131698          Canadá                 19.4\n",
       "2         150131725  Estados Unidos                 50.4"
      ]
     },
     "execution_count": 25,
     "metadata": {},
     "output_type": "execute_result"
    }
   ],
   "source": [
    "# Las primeras 3 filas del DataFrame\n",
    "df_1.head(3)"
   ]
  },
  {
   "cell_type": "code",
   "execution_count": 26,
   "metadata": {},
   "outputs": [
    {
     "data": {
      "text/html": [
       "<div>\n",
       "<style scoped>\n",
       "    .dataframe tbody tr th:only-of-type {\n",
       "        vertical-align: middle;\n",
       "    }\n",
       "\n",
       "    .dataframe tbody tr th {\n",
       "        vertical-align: top;\n",
       "    }\n",
       "\n",
       "    .dataframe thead th {\n",
       "        text-align: right;\n",
       "    }\n",
       "</style>\n",
       "<table border=\"1\" class=\"dataframe\">\n",
       "  <thead>\n",
       "    <tr style=\"text-align: right;\">\n",
       "      <th></th>\n",
       "      <th>Registro llamada</th>\n",
       "      <th>Destino</th>\n",
       "      <th>Tiempo (en minutos)</th>\n",
       "    </tr>\n",
       "  </thead>\n",
       "  <tbody>\n",
       "    <tr>\n",
       "      <th>247</th>\n",
       "      <td>150131799</td>\n",
       "      <td>México</td>\n",
       "      <td>39.1</td>\n",
       "    </tr>\n",
       "    <tr>\n",
       "      <th>248</th>\n",
       "      <td>150131663</td>\n",
       "      <td>México</td>\n",
       "      <td>20.3</td>\n",
       "    </tr>\n",
       "    <tr>\n",
       "      <th>249</th>\n",
       "      <td>150131624</td>\n",
       "      <td>Estados Unidos</td>\n",
       "      <td>34.8</td>\n",
       "    </tr>\n",
       "  </tbody>\n",
       "</table>\n",
       "</div>"
      ],
      "text/plain": [
       "     Registro llamada         Destino  Tiempo (en minutos)\n",
       "247         150131799          México                 39.1\n",
       "248         150131663          México                 20.3\n",
       "249         150131624  Estados Unidos                 34.8"
      ]
     },
     "execution_count": 26,
     "metadata": {},
     "output_type": "execute_result"
    }
   ],
   "source": [
    "# Las ultimas 3 filas del DataFrame\n",
    "df_1.tail(3)"
   ]
  },
  {
   "cell_type": "markdown",
   "metadata": {
    "id": "eRuEDF9nKD5E"
   },
   "source": [
    "3. Clasifica las variables relevantes en el estudio."
   ]
  },
  {
   "cell_type": "code",
   "execution_count": null,
   "metadata": {},
   "outputs": [],
   "source": [
    "# Registro de llamadas es una variable cuantitativa discreta (Revisar!!!)\n",
    "# Destino es una variable cualitativa nominal\n",
    "# Tiempo (en minutos) es una variable cuantitativa continua"
   ]
  },
  {
   "cell_type": "markdown",
   "metadata": {
    "id": "H3hG3vZeKQC1"
   },
   "source": [
    "4. Construye una tabla de distribución de frecuencias para la variable tiempo de duración de las llamadas considerando frecuencias puntuales y acumuladas. Para la construcción de la tabla considera 9 intervalos."
   ]
  },
  {
   "cell_type": "code",
   "execution_count": 28,
   "metadata": {},
   "outputs": [
    {
     "data": {
      "text/html": [
       "<div>\n",
       "<style scoped>\n",
       "    .dataframe tbody tr th:only-of-type {\n",
       "        vertical-align: middle;\n",
       "    }\n",
       "\n",
       "    .dataframe tbody tr th {\n",
       "        vertical-align: top;\n",
       "    }\n",
       "\n",
       "    .dataframe thead th {\n",
       "        text-align: right;\n",
       "    }\n",
       "</style>\n",
       "<table border=\"1\" class=\"dataframe\">\n",
       "  <thead>\n",
       "    <tr style=\"text-align: right;\">\n",
       "      <th></th>\n",
       "      <th>Frec. Absoluta</th>\n",
       "      <th>Frec. Relativa (%)</th>\n",
       "      <th>Frec. Absoluta Acumulada</th>\n",
       "      <th>Frec. Relativa Acumulada (%)</th>\n",
       "    </tr>\n",
       "    <tr>\n",
       "      <th>Tiempo de duracion</th>\n",
       "      <th></th>\n",
       "      <th></th>\n",
       "      <th></th>\n",
       "      <th></th>\n",
       "    </tr>\n",
       "  </thead>\n",
       "  <tbody>\n",
       "    <tr>\n",
       "      <th>(3.9999999999999996, 10.0]</th>\n",
       "      <td>12</td>\n",
       "      <td>4.8</td>\n",
       "      <td>12</td>\n",
       "      <td>4.8</td>\n",
       "    </tr>\n",
       "    <tr>\n",
       "      <th>(10.0, 15.7]</th>\n",
       "      <td>17</td>\n",
       "      <td>6.8</td>\n",
       "      <td>29</td>\n",
       "      <td>11.6</td>\n",
       "    </tr>\n",
       "    <tr>\n",
       "      <th>(15.7, 21.5]</th>\n",
       "      <td>32</td>\n",
       "      <td>12.8</td>\n",
       "      <td>61</td>\n",
       "      <td>24.4</td>\n",
       "    </tr>\n",
       "    <tr>\n",
       "      <th>(21.5, 27.2]</th>\n",
       "      <td>57</td>\n",
       "      <td>22.8</td>\n",
       "      <td>118</td>\n",
       "      <td>47.2</td>\n",
       "    </tr>\n",
       "    <tr>\n",
       "      <th>(27.2, 33.0]</th>\n",
       "      <td>56</td>\n",
       "      <td>22.4</td>\n",
       "      <td>174</td>\n",
       "      <td>69.6</td>\n",
       "    </tr>\n",
       "    <tr>\n",
       "      <th>(33.0, 38.7]</th>\n",
       "      <td>34</td>\n",
       "      <td>13.6</td>\n",
       "      <td>208</td>\n",
       "      <td>83.2</td>\n",
       "    </tr>\n",
       "    <tr>\n",
       "      <th>(38.7, 44.5]</th>\n",
       "      <td>25</td>\n",
       "      <td>10.0</td>\n",
       "      <td>233</td>\n",
       "      <td>93.2</td>\n",
       "    </tr>\n",
       "    <tr>\n",
       "      <th>(44.5, 50.2]</th>\n",
       "      <td>10</td>\n",
       "      <td>4.0</td>\n",
       "      <td>243</td>\n",
       "      <td>97.2</td>\n",
       "    </tr>\n",
       "    <tr>\n",
       "      <th>(50.2, 56.0]</th>\n",
       "      <td>7</td>\n",
       "      <td>2.8</td>\n",
       "      <td>250</td>\n",
       "      <td>100.0</td>\n",
       "    </tr>\n",
       "  </tbody>\n",
       "</table>\n",
       "</div>"
      ],
      "text/plain": [
       "                            Frec. Absoluta  Frec. Relativa (%)  \\\n",
       "Tiempo de duracion                                               \n",
       "(3.9999999999999996, 10.0]              12                 4.8   \n",
       "(10.0, 15.7]                            17                 6.8   \n",
       "(15.7, 21.5]                            32                12.8   \n",
       "(21.5, 27.2]                            57                22.8   \n",
       "(27.2, 33.0]                            56                22.4   \n",
       "(33.0, 38.7]                            34                13.6   \n",
       "(38.7, 44.5]                            25                10.0   \n",
       "(44.5, 50.2]                            10                 4.0   \n",
       "(50.2, 56.0]                             7                 2.8   \n",
       "\n",
       "                            Frec. Absoluta Acumulada  \\\n",
       "Tiempo de duracion                                     \n",
       "(3.9999999999999996, 10.0]                        12   \n",
       "(10.0, 15.7]                                      29   \n",
       "(15.7, 21.5]                                      61   \n",
       "(21.5, 27.2]                                     118   \n",
       "(27.2, 33.0]                                     174   \n",
       "(33.0, 38.7]                                     208   \n",
       "(38.7, 44.5]                                     233   \n",
       "(44.5, 50.2]                                     243   \n",
       "(50.2, 56.0]                                     250   \n",
       "\n",
       "                            Frec. Relativa Acumulada (%)  \n",
       "Tiempo de duracion                                        \n",
       "(3.9999999999999996, 10.0]                           4.8  \n",
       "(10.0, 15.7]                                        11.6  \n",
       "(15.7, 21.5]                                        24.4  \n",
       "(21.5, 27.2]                                        47.2  \n",
       "(27.2, 33.0]                                        69.6  \n",
       "(33.0, 38.7]                                        83.2  \n",
       "(38.7, 44.5]                                        93.2  \n",
       "(44.5, 50.2]                                        97.2  \n",
       "(50.2, 56.0]                                       100.0  "
      ]
     },
     "execution_count": 28,
     "metadata": {},
     "output_type": "execute_result"
    }
   ],
   "source": [
    "# Se calcula el tamaño\n",
    "tamaño = df_1.shape[0]\n",
    "\n",
    "# Se crea la nueva columna considerando los 9 intervalos\n",
    "df_1['Tiempo de duracion'] = pd.cut(df_1['Tiempo (en minutos)'], bins=9, precision = 1, include_lowest=True)\n",
    "\n",
    "# Calcular frecuencias puntuales y discretas\n",
    "f = df_1['Tiempo de duracion'].value_counts().sort_index()\n",
    "h = f/tamaño*100\n",
    "F = f.cumsum()\n",
    "H = h.cumsum()\n",
    "\n",
    "# Se crea el DataFrame\n",
    "tabla = pd.DataFrame({\n",
    "    'Frec. Absoluta': f,\n",
    "    'Frec. Relativa (%)': h,\n",
    "    'Frec. Absoluta Acumulada': F,\n",
    "    'Frec. Relativa Acumulada (%)': H\n",
    "})\n",
    "\n",
    "# Se visualiza la tabla\n",
    "tabla\n"
   ]
  },
  {
   "cell_type": "markdown",
   "metadata": {
    "id": "yNjR6FZnK6Aw"
   },
   "source": [
    "5. A partir de la pregunta anterior, interpreta las siguientes frecuencias:\n",
    "\n",
    "$\\hspace{1cm}$ $f_{6}$:\n",
    "\n",
    "$\\hspace{1cm}$ $h_{2}$:\n",
    "\n",
    "$\\hspace{1cm}$ $F_{4}$:\n",
    "\n",
    "$\\hspace{1cm}$ $H_{3}$:"
   ]
  },
  {
   "cell_type": "code",
   "execution_count": 30,
   "metadata": {},
   "outputs": [
    {
     "name": "stdout",
     "output_type": "stream",
     "text": [
      "f6=34\n",
      "h2=6.800000000000001\n",
      "F4=118\n",
      "H3=24.400000000000002\n"
     ]
    }
   ],
   "source": [
    "print(f\"f6={f.iloc[5]}\")\n",
    "print(f\"h2={h.iloc[1]}\")\n",
    "print(f\"F4={F.iloc[3]}\")\n",
    "print(f\"H3={H.iloc[2]}\")"
   ]
  },
  {
   "cell_type": "markdown",
   "metadata": {
    "id": "KVCqofHKRVxp"
   },
   "source": [
    "## Actividad 5"
   ]
  },
  {
   "cell_type": "markdown",
   "metadata": {
    "id": "_B5yrNnKRmC6"
   },
   "source": [
    "A continuación, se presentan datos nacionales por comuna de la medición SIMCE de octavo básico rendida en el año 2015.\n",
    "\n",
    "Descarga la base de datos <a href=\"https://docs.google.com/spreadsheets/d/1fIGstVw-dQfA5WMq9mvhx3wVOHCXbrpj/export?format=xlsx\">aquí</a> y responde las siguientes preguntas:"
   ]
  },
  {
   "cell_type": "markdown",
   "metadata": {
    "id": "KhfKymwJR4Cq"
   },
   "source": [
    "1. Construye una tabla de distribución de frecuencias (absolutas y porcentuales incluyendo las acumuladas) que resuma los puntajes obtenidos en la prueba SIMCE de Matemática. Considera 9 intervalos para la construcción de la tabla.\n",
    "\n",
    "$\\hspace{1cm}$*Observaciones: Se debe escoger la variable prom_mate8b_com*"
   ]
  },
  {
   "cell_type": "code",
   "execution_count": 31,
   "metadata": {},
   "outputs": [
    {
     "data": {
      "text/html": [
       "<div>\n",
       "<style scoped>\n",
       "    .dataframe tbody tr th:only-of-type {\n",
       "        vertical-align: middle;\n",
       "    }\n",
       "\n",
       "    .dataframe tbody tr th {\n",
       "        vertical-align: top;\n",
       "    }\n",
       "\n",
       "    .dataframe thead th {\n",
       "        text-align: right;\n",
       "    }\n",
       "</style>\n",
       "<table border=\"1\" class=\"dataframe\">\n",
       "  <thead>\n",
       "    <tr style=\"text-align: right;\">\n",
       "      <th></th>\n",
       "      <th>Frec. Absoluta</th>\n",
       "      <th>Frec. Relativa (%)</th>\n",
       "      <th>Frec. Absoluta Acumulada</th>\n",
       "      <th>Frec. Relativa Acumulada (%)</th>\n",
       "    </tr>\n",
       "    <tr>\n",
       "      <th>intervalos_mate</th>\n",
       "      <th></th>\n",
       "      <th></th>\n",
       "      <th></th>\n",
       "      <th></th>\n",
       "    </tr>\n",
       "  </thead>\n",
       "  <tbody>\n",
       "    <tr>\n",
       "      <th>(193.8, 207.1]</th>\n",
       "      <td>2</td>\n",
       "      <td>0.581395</td>\n",
       "      <td>2</td>\n",
       "      <td>0.581395</td>\n",
       "    </tr>\n",
       "    <tr>\n",
       "      <th>(207.1, 220.2]</th>\n",
       "      <td>4</td>\n",
       "      <td>1.162791</td>\n",
       "      <td>6</td>\n",
       "      <td>1.744186</td>\n",
       "    </tr>\n",
       "    <tr>\n",
       "      <th>(220.2, 233.3]</th>\n",
       "      <td>29</td>\n",
       "      <td>8.430233</td>\n",
       "      <td>35</td>\n",
       "      <td>10.174419</td>\n",
       "    </tr>\n",
       "    <tr>\n",
       "      <th>(233.3, 246.4]</th>\n",
       "      <td>88</td>\n",
       "      <td>25.581395</td>\n",
       "      <td>123</td>\n",
       "      <td>35.755814</td>\n",
       "    </tr>\n",
       "    <tr>\n",
       "      <th>(246.4, 259.6]</th>\n",
       "      <td>118</td>\n",
       "      <td>34.302326</td>\n",
       "      <td>241</td>\n",
       "      <td>70.058140</td>\n",
       "    </tr>\n",
       "    <tr>\n",
       "      <th>(259.6, 272.7]</th>\n",
       "      <td>80</td>\n",
       "      <td>23.255814</td>\n",
       "      <td>321</td>\n",
       "      <td>93.313953</td>\n",
       "    </tr>\n",
       "    <tr>\n",
       "      <th>(272.7, 285.8]</th>\n",
       "      <td>16</td>\n",
       "      <td>4.651163</td>\n",
       "      <td>337</td>\n",
       "      <td>97.965116</td>\n",
       "    </tr>\n",
       "    <tr>\n",
       "      <th>(285.8, 298.9]</th>\n",
       "      <td>2</td>\n",
       "      <td>0.581395</td>\n",
       "      <td>339</td>\n",
       "      <td>98.546512</td>\n",
       "    </tr>\n",
       "    <tr>\n",
       "      <th>(298.9, 312.0]</th>\n",
       "      <td>5</td>\n",
       "      <td>1.453488</td>\n",
       "      <td>344</td>\n",
       "      <td>100.000000</td>\n",
       "    </tr>\n",
       "  </tbody>\n",
       "</table>\n",
       "</div>"
      ],
      "text/plain": [
       "                 Frec. Absoluta  Frec. Relativa (%)  Frec. Absoluta Acumulada  \\\n",
       "intervalos_mate                                                                 \n",
       "(193.8, 207.1]                2            0.581395                         2   \n",
       "(207.1, 220.2]                4            1.162791                         6   \n",
       "(220.2, 233.3]               29            8.430233                        35   \n",
       "(233.3, 246.4]               88           25.581395                       123   \n",
       "(246.4, 259.6]              118           34.302326                       241   \n",
       "(259.6, 272.7]               80           23.255814                       321   \n",
       "(272.7, 285.8]               16            4.651163                       337   \n",
       "(285.8, 298.9]                2            0.581395                       339   \n",
       "(298.9, 312.0]                5            1.453488                       344   \n",
       "\n",
       "                 Frec. Relativa Acumulada (%)  \n",
       "intervalos_mate                                \n",
       "(193.8, 207.1]                       0.581395  \n",
       "(207.1, 220.2]                       1.744186  \n",
       "(220.2, 233.3]                      10.174419  \n",
       "(233.3, 246.4]                      35.755814  \n",
       "(246.4, 259.6]                      70.058140  \n",
       "(259.6, 272.7]                      93.313953  \n",
       "(272.7, 285.8]                      97.965116  \n",
       "(285.8, 298.9]                      98.546512  \n",
       "(298.9, 312.0]                     100.000000  "
      ]
     },
     "execution_count": 31,
     "metadata": {},
     "output_type": "execute_result"
    }
   ],
   "source": [
    "import pandas as pd\n",
    "df_1 = pd.read_excel(\"SIMCE.xlsx\")\n",
    "\n",
    "# Se declara el tamaño\n",
    "tamaño = df_1.shape[0]\n",
    "\n",
    "# Crear columna intervalos mate\n",
    "df_1['intervalos_mate'] = pd.cut(df_1['prom_mate8b_com'], bins=9, precision=1, include_lowest=True)\n",
    "\n",
    "# Se calculan las frecuencias absolutas, porcentuales y acumuladas\n",
    "f = df_1['intervalos_mate'].value_counts().sort_index()\n",
    "h = f/tamaño*100\n",
    "F = f.cumsum()\n",
    "H = h.cumsum()\n",
    "\n",
    "# Se crea el DataFrame\n",
    "tabla = pd.DataFrame({\n",
    "    'Frec. Absoluta': f,\n",
    "    'Frec. Relativa (%)': h,\n",
    "    'Frec. Absoluta Acumulada': F,\n",
    "    'Frec. Relativa Acumulada (%)': H\n",
    "})\n",
    "\n",
    "tabla"
   ]
  },
  {
   "cell_type": "markdown",
   "metadata": {
    "id": "Nji9BHSNVa-n"
   },
   "source": [
    "2. ¿Es correcto afirmar que los resultados de Matemática se concentran en los puntajes más bajos? Justifica tu respuesta."
   ]
  },
  {
   "cell_type": "code",
   "execution_count": 32,
   "metadata": {},
   "outputs": [
    {
     "name": "stdout",
     "output_type": "stream",
     "text": [
      "Es incorrecto ya que los puntajes de matematicas son relativamente bajos o promedio, ya que la moda\n",
      "esta justo en el intervalo medio, por ende no se concentra en los mas bajos\n"
     ]
    }
   ],
   "source": [
    "print(\"Es incorrecto ya que los puntajes de matematicas son relativamente bajos o promedio, ya que la moda\")\n",
    "print(\"esta justo en el intervalo medio, por ende no se concentra en los mas bajos\")"
   ]
  },
  {
   "cell_type": "markdown",
   "metadata": {
    "id": "vvIzPpjvVkEi"
   },
   "source": [
    "3.  Diseñe una tabla de frecuencias relativas que resuma la información de la cantidad de comunas por región. Realice observaciones de los datos de la tabla y construya una hipótesis al respecto."
   ]
  },
  {
   "cell_type": "code",
   "execution_count": 36,
   "metadata": {},
   "outputs": [
    {
     "data": {
      "text/html": [
       "<div>\n",
       "<style scoped>\n",
       "    .dataframe tbody tr th:only-of-type {\n",
       "        vertical-align: middle;\n",
       "    }\n",
       "\n",
       "    .dataframe tbody tr th {\n",
       "        vertical-align: top;\n",
       "    }\n",
       "\n",
       "    .dataframe thead th {\n",
       "        text-align: right;\n",
       "    }\n",
       "</style>\n",
       "<table border=\"1\" class=\"dataframe\">\n",
       "  <thead>\n",
       "    <tr style=\"text-align: right;\">\n",
       "      <th></th>\n",
       "      <th>Frec. Relativa (%)</th>\n",
       "      <th>Frec. Relativa Acumulada (%)</th>\n",
       "    </tr>\n",
       "    <tr>\n",
       "      <th>nom_com</th>\n",
       "      <th></th>\n",
       "      <th></th>\n",
       "    </tr>\n",
       "  </thead>\n",
       "  <tbody>\n",
       "    <tr>\n",
       "      <th>AISÉN</th>\n",
       "      <td>0.3</td>\n",
       "      <td>0.3</td>\n",
       "    </tr>\n",
       "    <tr>\n",
       "      <th>ALGARROBO</th>\n",
       "      <td>0.3</td>\n",
       "      <td>0.6</td>\n",
       "    </tr>\n",
       "    <tr>\n",
       "      <th>ALHUÉ</th>\n",
       "      <td>0.3</td>\n",
       "      <td>0.9</td>\n",
       "    </tr>\n",
       "    <tr>\n",
       "      <th>ALTO BIOBÍO</th>\n",
       "      <td>0.3</td>\n",
       "      <td>1.2</td>\n",
       "    </tr>\n",
       "    <tr>\n",
       "      <th>ALTO DEL CARMEN</th>\n",
       "      <td>0.3</td>\n",
       "      <td>1.5</td>\n",
       "    </tr>\n",
       "    <tr>\n",
       "      <th>...</th>\n",
       "      <td>...</td>\n",
       "      <td>...</td>\n",
       "    </tr>\n",
       "    <tr>\n",
       "      <th>YUMBEL</th>\n",
       "      <td>0.3</td>\n",
       "      <td>102.0</td>\n",
       "    </tr>\n",
       "    <tr>\n",
       "      <th>YUNGAY</th>\n",
       "      <td>0.3</td>\n",
       "      <td>102.3</td>\n",
       "    </tr>\n",
       "    <tr>\n",
       "      <th>ZAPALLAR</th>\n",
       "      <td>0.3</td>\n",
       "      <td>102.6</td>\n",
       "    </tr>\n",
       "    <tr>\n",
       "      <th>ÑIQUÉN</th>\n",
       "      <td>0.3</td>\n",
       "      <td>102.9</td>\n",
       "    </tr>\n",
       "    <tr>\n",
       "      <th>ÑUÑOA</th>\n",
       "      <td>0.3</td>\n",
       "      <td>103.2</td>\n",
       "    </tr>\n",
       "  </tbody>\n",
       "</table>\n",
       "<p>344 rows × 2 columns</p>\n",
       "</div>"
      ],
      "text/plain": [
       "                 Frec. Relativa (%)  Frec. Relativa Acumulada (%)\n",
       "nom_com                                                          \n",
       "AISÉN                           0.3                           0.3\n",
       "ALGARROBO                       0.3                           0.6\n",
       "ALHUÉ                           0.3                           0.9\n",
       "ALTO BIOBÍO                     0.3                           1.2\n",
       "ALTO DEL CARMEN                 0.3                           1.5\n",
       "...                             ...                           ...\n",
       "YUMBEL                          0.3                         102.0\n",
       "YUNGAY                          0.3                         102.3\n",
       "ZAPALLAR                        0.3                         102.6\n",
       "ÑIQUÉN                          0.3                         102.9\n",
       "ÑUÑOA                           0.3                         103.2\n",
       "\n",
       "[344 rows x 2 columns]"
      ]
     },
     "execution_count": 36,
     "metadata": {},
     "output_type": "execute_result"
    }
   ],
   "source": [
    "# Calcular las frecuencias relativas\n",
    "f = df_1['nom_com'].value_counts().sort_index()\n",
    "h = round(f / tamaño * 100,1)\n",
    "H = h.cumsum()\n",
    "\n",
    "# Crear DataFrame\n",
    "tabla = pd.DataFrame({\n",
    "    'Frec. Relativa (%)': h,\n",
    "    'Frec. Relativa Acumulada (%)': H\n",
    "})\n",
    "\n",
    "tabla"
   ]
  }
 ],
 "metadata": {
  "colab": {
   "authorship_tag": "ABX9TyO2HQgmCZ7ylX6MRGfO01mA",
   "collapsed_sections": [
    "YjIwdec0U9p8",
    "1I3j1U6v48gh",
    "UuQr4u5RQT4l",
    "ke3TY8E1QkCg",
    "KVCqofHKRVxp"
   ],
   "provenance": [
    {
     "file_id": "1MgmRjFpo85TnfwKBlb3bmPT3qZ7OYS9r",
     "timestamp": 1747698835662
    }
   ],
   "toc_visible": true
  },
  "kernelspec": {
   "display_name": "Python 3",
   "name": "python3"
  },
  "language_info": {
   "codemirror_mode": {
    "name": "ipython",
    "version": 3
   },
   "file_extension": ".py",
   "mimetype": "text/x-python",
   "name": "python",
   "nbconvert_exporter": "python",
   "pygments_lexer": "ipython3",
   "version": "3.13.3"
  }
 },
 "nbformat": 4,
 "nbformat_minor": 0
}
