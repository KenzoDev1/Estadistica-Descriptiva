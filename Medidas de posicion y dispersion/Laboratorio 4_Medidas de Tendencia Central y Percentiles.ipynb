{
 "cells": [
  {
   "cell_type": "markdown",
   "metadata": {
    "id": "xAEkiV4ILRiC"
   },
   "source": [
    "# Medidas de Tendencia Central y Percentiles"
   ]
  },
  {
   "cell_type": "markdown",
   "metadata": {
    "id": "QNj511B_MZcq"
   },
   "source": [
    "## Objetivo:"
   ]
  },
  {
   "cell_type": "markdown",
   "metadata": {
    "id": "A0OCHa57MiDs"
   },
   "source": [
    "Aplicar las medidas de tendencia central (media, mediana y moda) y medidas de posición no central (percentiles) en el análisis de datos, utilizando Python como herramienta de apoyo."
   ]
  },
  {
   "cell_type": "markdown",
   "metadata": {
    "id": "_eTyyW3nMsa9"
   },
   "source": [
    "*Nota: Este laboratorio está diseñado para desarrollar razonamiento estadístico. Evita el uso de herramientas de IA para responder las preguntas a menos que esto sea explícitamente sugerido* 🤖. *En su lugar, enfócate en aplicar los conceptos revisados.*"
   ]
  },
  {
   "cell_type": "markdown",
   "metadata": {
    "id": "zAH3inNheoYF"
   },
   "source": [
    "## Actividad 1"
   ]
  },
  {
   "cell_type": "markdown",
   "metadata": {
    "id": "QAovxMozeqZG"
   },
   "source": [
    "Imagina que trabajas como analista de datos en una consultora de orientación vocacional que asesora a estudiantes de enseñanza media sobre qué carrera elegir. Recibes una base de datos con información de carreras técnicas y profesionales de distintas instituciones chilenas de los años 2024 y 2025. Tu misión es analizar los ingresos y empleabilidad de los titulados, y entregar conclusiones claras que ayuden a tomar decisiones.\n",
    "\n",
    "**Utiliza la siguiente base de datos para responder las actividades 1, 2 y 3.**\n",
    "\n",
    "Descarga la base de datos **<a href=\"https://docs.google.com/spreadsheets/d/1JmPTeHd5mzM4V8A2yLz0Jhwt6MDmmaxf/export?format=xlsx\n",
    "\">aquí</a>**."
   ]
  },
  {
   "cell_type": "markdown",
   "metadata": {
    "id": "KRK7q_aoe7s3"
   },
   "source": [
    "1. Identifica la población y muestra del estudio."
   ]
  },
  {
   "cell_type": "code",
   "execution_count": 1,
   "metadata": {},
   "outputs": [],
   "source": [
    "import pandas as pd\n",
    "C = pd.read_excel('Actividad_1_2_3.xlsx')"
   ]
  },
  {
   "cell_type": "markdown",
   "metadata": {
    "id": "pKhW1r5PhWJj"
   },
   "source": [
    "2. Clasifica las variables presentes en la base de datos."
   ]
  },
  {
   "cell_type": "code",
   "execution_count": null,
   "metadata": {},
   "outputs": [],
   "source": [
    "# Codigo: Es una variable cualitativa nominal ( Aunque sean numeros, actuan como etiquetas )\n",
    "# (Y no sigue ninguna jerarquia, por lo tanto es nominal, importante recordar eso con identificadores)\n",
    "# Tipo de institucion: Es una variable cualitativa nominal\n",
    "# Acreditacion institucion: Es una variable cuantitativa discreta\n",
    "# Area: Es una variable cualitativa nominal\n",
    "# Nombre de carrera generica: Es una variable cualitativa nominal\n",
    "# Duracion real (semestre): Es una variable cuantitativa continua\n",
    "# Empleabilidad 1er año(&): Es una variable cuantitativa continua\n",
    "# Ingreso al 4to año (pesos): Es una variable cuantitativa continua"
   ]
  },
  {
   "cell_type": "markdown",
   "metadata": {
    "id": "8tNyw-sClx2E"
   },
   "source": [
    "3. ¿Cuál es el ingreso promedio de los titulados? ¿Y la mediana? ¿Qué puedes concluir de la diferencia entre ambos?"
   ]
  },
  {
   "cell_type": "code",
   "execution_count": 61,
   "metadata": {},
   "outputs": [
    {
     "name": "stdout",
     "output_type": "stream",
     "text": [
      "El promedio aprox de los ingresos al 4to año es de  $1307481\n",
      "El 50% de los ingresos al 4to año son menores o iguales a $1150000.0\n"
     ]
    }
   ],
   "source": [
    "promedio = C['Ingreso al 4° año (pesos)'].mean() # Mean: Media = Promedio\n",
    "mediana=C['Ingreso al 4° año (pesos)'].median() # Median: Mediana\n",
    "\n",
    "print(f\"El promedio aprox de los ingresos al 4to año es de  ${round(promedio)}\")\n",
    "print(f\"El 50% de los ingresos al 4to año son menores o iguales a ${mediana}\")"
   ]
  },
  {
   "cell_type": "markdown",
   "metadata": {
    "id": "YOnsI5PxUUmd"
   },
   "source": [
    "4. ¿Cuál es la moda de los ingresos? Interprétala."
   ]
  },
  {
   "cell_type": "code",
   "execution_count": 9,
   "metadata": {},
   "outputs": [
    {
     "name": "stdout",
     "output_type": "stream",
     "text": [
      "La moda de los ingresos al 4to año es de $1050000\n"
     ]
    }
   ],
   "source": [
    "moda = C['Ingreso al 4° año (pesos)'].mode() # Mode: Moda\n",
    "print(f\"La moda de los ingresos al 4to año es de ${moda[0]}\")"
   ]
  },
  {
   "cell_type": "markdown",
   "metadata": {
    "id": "xGGch3VyYXw3"
   },
   "source": [
    "5. Calcula los percentiles 25, 50 y 75 del ingreso de los titulados e interprétalos."
   ]
  },
  {
   "cell_type": "code",
   "execution_count": 16,
   "metadata": {},
   "outputs": [
    {
     "name": "stdout",
     "output_type": "stream",
     "text": [
      "El 25% indica el sueldo maximo de los titulados con menores ingresos: $950000\n",
      "El 50% indica el sueldo maximo de los titulados con ingresos promedio: $1150000\n",
      "El 75% indica el sueldo maximo de los titulados con ingresos altos: $1550000\n"
     ]
    }
   ],
   "source": [
    "percentil_25 = C['Ingreso al 4° año (pesos)'].quantile(0.25)\n",
    "percentil_50 = C['Ingreso al 4° año (pesos)'].quantile(0.5)\n",
    "percentil_75 = C['Ingreso al 4° año (pesos)'].quantile(0.75)\n",
    "\n",
    "print(f\"El 25% indica el sueldo maximo de los titulados con menores ingresos: ${percentil_25:.0f}\")\n",
    "print(f\"El 50% indica el sueldo maximo de los titulados con ingresos promedio: ${percentil_50:.0f}\")\n",
    "print(f\"El 75% indica el sueldo maximo de los titulados con ingresos altos: ${percentil_75:.0f}\")\n"
   ]
  },
  {
   "cell_type": "code",
   "execution_count": null,
   "metadata": {},
   "outputs": [],
   "source": [
    "# Esto no tiene nada que ver, pero lo queria guardar como recordatorio, para agrupar datos\n",
    "# Promedios_tipo = df_SUELDOS.groupby('Tipo de contrato')['Sueldo mensual\\n empresa (m$)'].mean()\n",
    "# P_tipos=round(Promedios_tipo,3)\n",
    "# P_tipos\n",
    "\n",
    "# Para identificar rapidamente y correctamente los nombres de las columnas: print(df_1.columns)"
   ]
  },
  {
   "cell_type": "markdown",
   "metadata": {
    "id": "wqtdL2FeZ8Ia"
   },
   "source": [
    "6. Utiliza la función *describe()* de Pandas para validar tus resultados."
   ]
  },
  {
   "cell_type": "code",
   "execution_count": 12,
   "metadata": {},
   "outputs": [
    {
     "data": {
      "text/plain": [
       "count       1163.0\n",
       "mean     1307481.0\n",
       "std       506349.0\n",
       "min       550000.0\n",
       "25%       950000.0\n",
       "50%      1150000.0\n",
       "75%      1550000.0\n",
       "max      3000000.0\n",
       "Name: Ingreso al 4° año (pesos), dtype: float64"
      ]
     },
     "execution_count": 12,
     "metadata": {},
     "output_type": "execute_result"
    }
   ],
   "source": [
    "round(C['Ingreso al 4° año (pesos)'].describe())"
   ]
  },
  {
   "cell_type": "markdown",
   "metadata": {
    "id": "9L_sPHOXccC2"
   },
   "source": [
    "7. Considera que tres personas desean estudiar Técnico en enfermería, pero cada una valora cosas distintas:\n",
    "* Sofía busca maximizar su ingreso futuro.\n",
    "* Diego prioriza encontrar trabajo rápidamente.\n",
    "* Camila quiere un equilibrio entre ambas.\n",
    "\n",
    "$\\hspace{1cm}$Considerando la media como medida representativa, ¿qué tipo de institución recomendarías a cada uno y por qué?"
   ]
  },
  {
   "cell_type": "code",
   "execution_count": 58,
   "metadata": {},
   "outputs": [
    {
     "name": "stdout",
     "output_type": "stream",
     "text": [
      "Segun la tabla lo mas conveniente para Sofia es ir a la universidad\n",
      "Segun la tabla lo mas conveniente para Diego es ir a institutos profesionales\n",
      "Segun la tabla lo mas conveniente para Camila es ir a institutos profesionales o la universidad\n",
      "porue ambos tienen moda en empleabilidad y ingreso promedio, ademas de tener una diferencia muy pequeña\n",
      "sin duda lo menos recomendable es ir a los dentros de formacion tecnica\n"
     ]
    },
    {
     "data": {
      "text/html": [
       "<div>\n",
       "<style scoped>\n",
       "    .dataframe tbody tr th:only-of-type {\n",
       "        vertical-align: middle;\n",
       "    }\n",
       "\n",
       "    .dataframe tbody tr th {\n",
       "        vertical-align: top;\n",
       "    }\n",
       "\n",
       "    .dataframe thead th {\n",
       "        text-align: right;\n",
       "    }\n",
       "</style>\n",
       "<table border=\"1\" class=\"dataframe\">\n",
       "  <thead>\n",
       "    <tr style=\"text-align: right;\">\n",
       "      <th></th>\n",
       "      <th>Ingreso_promedio</th>\n",
       "      <th>Empleabilidad_promedio</th>\n",
       "    </tr>\n",
       "    <tr>\n",
       "      <th>Tipo de institución</th>\n",
       "      <th></th>\n",
       "      <th></th>\n",
       "    </tr>\n",
       "  </thead>\n",
       "  <tbody>\n",
       "    <tr>\n",
       "      <th>Centros de Formación Técnica</th>\n",
       "      <td>740909.0</td>\n",
       "      <td>63.98</td>\n",
       "    </tr>\n",
       "    <tr>\n",
       "      <th>Insitutos Profesionales</th>\n",
       "      <td>750000.0</td>\n",
       "      <td>66.85</td>\n",
       "    </tr>\n",
       "    <tr>\n",
       "      <th>Universidades</th>\n",
       "      <td>790000.0</td>\n",
       "      <td>65.05</td>\n",
       "    </tr>\n",
       "  </tbody>\n",
       "</table>\n",
       "</div>"
      ],
      "text/plain": [
       "                              Ingreso_promedio  Empleabilidad_promedio\n",
       "Tipo de institución                                                   \n",
       "Centros de Formación Técnica          740909.0                   63.98\n",
       "Insitutos Profesionales               750000.0                   66.85\n",
       "Universidades                         790000.0                   65.05"
      ]
     },
     "execution_count": 58,
     "metadata": {},
     "output_type": "execute_result"
    }
   ],
   "source": [
    "import pandas as pd\n",
    "# Crear una tabla restringida donde solo este la carrera de Técnico en Enfermería\n",
    "tabla_enfermeria = C[C['Nombre carrera genérica']=='Técnico en Enfermería']\n",
    "\n",
    "# Agrupar datos por instucion, en la tabla restringida de enfermeria\n",
    "# Esto porque la pregunta dice ¿Que institucion recomendarias a cada uno?\n",
    "# .agg() sirve para realizar distintos tipos de calculo de forma flexible\n",
    "tabla = tabla_enfermeria.groupby('Tipo de institución').agg(Ingreso_promedio=('Ingreso al 4° año (pesos)','mean'), Empleabilidad_promedio=('Empleabilidad 1er año (%)','mean'))\n",
    "# Redondeo\n",
    "tabla['Ingreso_promedio'] = tabla['Ingreso_promedio'].round(0)\n",
    "tabla['Empleabilidad_promedio'] = tabla['Empleabilidad_promedio'].round(2)\n",
    "# Mostrar\n",
    "print(f\"Segun la tabla lo mas conveniente para Sofia es ir a la universidad\")\n",
    "print(f\"Segun la tabla lo mas conveniente para Diego es ir a institutos profesionales\")\n",
    "print(f\"Segun la tabla lo mas conveniente para Camila es ir a institutos profesionales o la universidad\")\n",
    "print(\"porue ambos tienen moda en empleabilidad y ingreso promedio, ademas de tener una diferencia muy pequeña\")\n",
    "print(\"sin duda lo menos recomendable es ir a los dentros de formacion tecnica\")\n",
    "tabla"
   ]
  },
  {
   "cell_type": "markdown",
   "metadata": {
    "id": "2sRyMcRRhdn4"
   },
   "source": [
    "## Actividad 2"
   ]
  },
  {
   "cell_type": "markdown",
   "metadata": {
    "id": "0PIUaTCqjgvy"
   },
   "source": [
    "Un grupo de estudiantes está evaluando si el nivel de acreditación de una institución podría impactar sus resultados laborales. Para responder esta pregunta, realiza el siguiente análisis:\n",
    "\n",
    "**Utiliza la siguiente base de datos para responder las actividades 1, 2 y 3.**\n",
    "\n",
    "Descarga la base de datos **<a href=\"https://docs.google.com/spreadsheets/d/1JmPTeHd5mzM4V8A2yLz0Jhwt6MDmmaxf/export?format=xlsx\n",
    "\">aquí</a>**."
   ]
  },
  {
   "cell_type": "markdown",
   "metadata": {
    "id": "qjkaN7aSk7Mh"
   },
   "source": [
    "1. Agrupa los datos por años de acreditación y calcula la media y la mediana del ingreso al 4to año de cada grupo."
   ]
  },
  {
   "cell_type": "code",
   "execution_count": 66,
   "metadata": {},
   "outputs": [
    {
     "data": {
      "text/plain": [
       "Acreditación institución (años)\n",
       "0    1024667.0\n",
       "3    1313043.0\n",
       "4    1153020.0\n",
       "5    1192730.0\n",
       "6    1541260.0\n",
       "7    1421043.0\n",
       "Name: Ingreso al 4° año (pesos), dtype: float64"
      ]
     },
     "execution_count": 66,
     "metadata": {},
     "output_type": "execute_result"
    }
   ],
   "source": [
    "import pandas as pd\n",
    "C = pd.read_excel('Actividad_1_2_3.xlsx')\n",
    "\n",
    "tabla_media = C.groupby('Acreditación institución (años)')['Ingreso al 4° año (pesos)'].mean()\n",
    "round(tabla_media)"
   ]
  },
  {
   "cell_type": "code",
   "execution_count": 67,
   "metadata": {},
   "outputs": [
    {
     "data": {
      "text/plain": [
       "Acreditación institución (años)\n",
       "0     950000.0\n",
       "3    1150000.0\n",
       "4    1050000.0\n",
       "5    1050000.0\n",
       "6    1450000.0\n",
       "7    1250000.0\n",
       "Name: Ingreso al 4° año (pesos), dtype: float64"
      ]
     },
     "execution_count": 67,
     "metadata": {},
     "output_type": "execute_result"
    }
   ],
   "source": [
    "tabla_mediana = C.groupby('Acreditación institución (años)')['Ingreso al 4° año (pesos)'].median()\n",
    "round(tabla_mediana)"
   ]
  },
  {
   "cell_type": "markdown",
   "metadata": {
    "id": "j6rnKYndn6gd"
   },
   "source": [
    "2. ¿Existe una relación aparente entre la cantidad de años de acreditación y el ingreso promedio? ¿Qué patrón observas?"
   ]
  },
  {
   "cell_type": "code",
   "execution_count": null,
   "metadata": {},
   "outputs": [],
   "source": [
    "print(\"Se observa que por mas años de acreditacion mayor es el ingreso, aunque se ve que el ingreso mayor es la acreditacion de 6 años\")"
   ]
  },
  {
   "cell_type": "markdown",
   "metadata": {
    "id": "mTPVCp0EqpgU"
   },
   "source": [
    "3. ¿Se observa una tendencia similar al analizar la empleabilidad al primer año?"
   ]
  },
  {
   "cell_type": "code",
   "execution_count": null,
   "metadata": {},
   "outputs": [
    {
     "data": {
      "text/plain": [
       "Acreditación institución (años)\n",
       "0    64.0\n",
       "3    69.0\n",
       "4    63.0\n",
       "5    64.0\n",
       "6    71.0\n",
       "7    72.0\n",
       "Name: Empleabilidad 1er año (%), dtype: float64"
      ]
     },
     "execution_count": 68,
     "metadata": {},
     "output_type": "execute_result"
    }
   ],
   "source": [
    "tabla_media = C.groupby('Acreditación institución (años)')['Empleabilidad 1er año (%)'].mean()\n",
    "round(tabla_media)"
   ]
  },
  {
   "cell_type": "code",
   "execution_count": null,
   "metadata": {},
   "outputs": [
    {
     "data": {
      "text/plain": [
       "Acreditación institución (años)\n",
       "0    69.402985\n",
       "3    69.047619\n",
       "4    65.000000\n",
       "5    65.599385\n",
       "6    73.988343\n",
       "7    74.251565\n",
       "Name: Empleabilidad 1er año (%), dtype: float64"
      ]
     },
     "execution_count": 70,
     "metadata": {},
     "output_type": "execute_result"
    }
   ],
   "source": [
    "tabla_mediana = C.groupby('Acreditación institución (años)')['Empleabilidad 1er año (%)'].median()\n",
    "print(\"Se observa una tendencia similar\")\n",
    "tabla_mediana"
   ]
  },
  {
   "cell_type": "markdown",
   "metadata": {
    "id": "QRxVmKHxroxK"
   },
   "source": [
    "4. Comparando las variables ingreso y empleabilidad, analiza cómo varían la media y la mediana en cada caso. ¿Qué conclusiones generales puedes extraer sobre la representatividad de estas medidas?"
   ]
  },
  {
   "cell_type": "code",
   "execution_count": 91,
   "metadata": {},
   "outputs": [
    {
     "name": "stdout",
     "output_type": "stream",
     "text": [
      "El promedio del Ingreso al 4° año (pesos) es: 1307481\n",
      "La mediana del Ingreso al 4° año (pesos) es: 1150000\n",
      "El promedio de la Empleabilidad 1er año (%) es: 67\n",
      "La mediana de la Empleabilidad 1er año (%) es: 69\n",
      "Mi conclusion general es que hay un grupo reducido de personas con salarios excepcionalmente altos que están sumando al promedio.\n"
     ]
    }
   ],
   "source": [
    "tabla_ingreso_media = C['Ingreso al 4° año (pesos)'].mean()\n",
    "tabla_ingreso_mediana = C['Ingreso al 4° año (pesos)'].median()\n",
    "\n",
    "print(f\"El promedio del Ingreso al 4° año (pesos) es: {round(tabla_ingreso_media)}\")\n",
    "print(f\"La mediana del Ingreso al 4° año (pesos) es: {round(tabla_ingreso_mediana)}\")\n",
    "\n",
    "tabla_empleabilidad_media = C['Empleabilidad 1er año (%)'].mean()\n",
    "tabla_empleabilidad_mediana = C['Empleabilidad 1er año (%)'].median()\n",
    "\n",
    "\n",
    "print(f\"El promedio de la Empleabilidad 1er año (%) es: {round(tabla_empleabilidad_media)}\")\n",
    "print(f\"La mediana de la Empleabilidad 1er año (%) es: {round(tabla_empleabilidad_mediana)}\")\n",
    "\n",
    "print(\"Mi conclusion general es que hay un grupo reducido de personas con salarios excepcionalmente altos que están sumando al promedio.\")\n"
   ]
  },
  {
   "cell_type": "markdown",
   "metadata": {
    "id": "cWwt8PXeydRi"
   },
   "source": [
    "5. Teniendo en cuenta tu análisis sobre cómo varían los ingresos y la empleabilidad con los años de acreditación, ¿qué consejo le darías a un estudiante que va a elegir una institución basándose únicamente en el nivel de acreditación? Justifica tu recomendación."
   ]
  },
  {
   "cell_type": "code",
   "execution_count": null,
   "metadata": {},
   "outputs": [],
   "source": [
    "print(\"Le aconsejaria de escoger entre una institucion con 7 o 6 años de acreditacion, sobretodo una de 6 años\")"
   ]
  },
  {
   "cell_type": "markdown",
   "metadata": {
    "id": "en8y12lQSwlk"
   },
   "source": [
    "## Actividad 3"
   ]
  },
  {
   "cell_type": "markdown",
   "metadata": {
    "id": "akqhEUEwSyjz"
   },
   "source": [
    "Imagina que trabajas como analista del Ministerio de Educación. Te han solicitado caracterizar los resultados laborales de los titulados por área de formación utilizando una base de datos con información de carreras técnicas y profesionales de distintas instituciones chilenas de los años 2024 y 2025.\n",
    "\n",
    "**Utiliza la siguiente base de datos para responder las actividades 1, 2 y 3.**\n",
    "\n",
    "Descarga la base de datos **<a href=\"https://docs.google.com/spreadsheets/d/1JmPTeHd5mzM4V8A2yLz0Jhwt6MDmmaxf/export?format=xlsx\n",
    "\">aquí</a>**."
   ]
  },
  {
   "cell_type": "markdown",
   "metadata": {
    "id": "avMtjuUxyIMs"
   },
   "source": [
    "1. ¿Cuál Área se observa con mayor frecuencia entre los titulados?"
   ]
  },
  {
   "cell_type": "code",
   "execution_count": 94,
   "metadata": {},
   "outputs": [
    {
     "name": "stdout",
     "output_type": "stream",
     "text": [
      "El area mas frecuente entre los titulados es el area de Tecnología\n"
     ]
    }
   ],
   "source": [
    "import pandas as pd\n",
    "C = pd.read_excel('Actividad_1_2_3.xlsx')\n",
    "\n",
    "area_mas_frecuente = C['Área'].mode()[0]\n",
    "print(f\"El area mas frecuente entre los titulados es el area de {area_mas_frecuente}\")"
   ]
  },
  {
   "cell_type": "markdown",
   "metadata": {
    "id": "lEYcY6rqv4Ml"
   },
   "source": [
    "2. ¿Entre qué sueldos se encuentran los egresados del 10% más alto al 4to año de titulación?"
   ]
  },
  {
   "cell_type": "code",
   "execution_count": null,
   "metadata": {},
   "outputs": [
    {
     "name": "stdout",
     "output_type": "stream",
     "text": [
      "Los sueldos de los egresados del 10% mas alto del 4to año de titulacion deben entre $1950000.0 - $3000000\n"
     ]
    }
   ],
   "source": [
    "percentil_90 = C['Ingreso al 4° año (pesos)'].quantile(0.9)\n",
    "sueldo_max = C['Ingreso al 4° año (pesos)'].max()\n",
    "\n",
    "print(f\"Los sueldos de los egresados del 10% mas alto del 4to año de titulacion deben estar entre ${percentil_90} - ${sueldo_max}\")"
   ]
  },
  {
   "cell_type": "markdown",
   "metadata": {
    "id": "uB0TdjuExUI2"
   },
   "source": [
    "3. ¿Entre qué sueldos se encuentran los egresados del 17% más bajo al 4to año de titulación?"
   ]
  },
  {
   "cell_type": "code",
   "execution_count": 99,
   "metadata": {},
   "outputs": [
    {
     "name": "stdout",
     "output_type": "stream",
     "text": [
      "Los sueldos de los egresados del 10% mas alto del 4to año de titulacion deben estar entre $550000 - $950000.0\n"
     ]
    }
   ],
   "source": [
    "percentil_17 = C['Ingreso al 4° año (pesos)'].quantile(0.17)\n",
    "sueldo_min = C['Ingreso al 4° año (pesos)'].min()\n",
    "\n",
    "\n",
    "print(f\"Los sueldos de los egresados del 10% mas alto del 4to año de titulacion deben estar entre ${sueldo_min} - ${percentil_17}\")"
   ]
  },
  {
   "cell_type": "markdown",
   "metadata": {
    "id": "JAToWUPTTjDR"
   },
   "source": [
    "4. Agrupa los datos por Área y para cada grupo calcula las siguientes medidas del Ingreso al 4° año:\n",
    "* Media\n",
    "* Mediana\n",
    "* Percentil 25\n",
    "* Percentil 75\n",
    "\n",
    "$\\hspace{1cm}$Luego, construye un DataFrame que reúna estas cuatro columnas."
   ]
  },
  {
   "cell_type": "code",
   "execution_count": null,
   "metadata": {},
   "outputs": [
    {
     "data": {
      "text/html": [
       "<div>\n",
       "<style scoped>\n",
       "    .dataframe tbody tr th:only-of-type {\n",
       "        vertical-align: middle;\n",
       "    }\n",
       "\n",
       "    .dataframe tbody tr th {\n",
       "        vertical-align: top;\n",
       "    }\n",
       "\n",
       "    .dataframe thead th {\n",
       "        text-align: right;\n",
       "    }\n",
       "</style>\n",
       "<table border=\"1\" class=\"dataframe\">\n",
       "  <thead>\n",
       "    <tr style=\"text-align: right;\">\n",
       "      <th></th>\n",
       "      <th>Media</th>\n",
       "      <th>Mediana</th>\n",
       "      <th>Percentil 25</th>\n",
       "      <th>percentil_75</th>\n",
       "    </tr>\n",
       "    <tr>\n",
       "      <th>Área</th>\n",
       "      <th></th>\n",
       "      <th></th>\n",
       "      <th></th>\n",
       "      <th></th>\n",
       "    </tr>\n",
       "  </thead>\n",
       "  <tbody>\n",
       "    <tr>\n",
       "      <th>Administración y Comercio</th>\n",
       "      <td>1221930.0</td>\n",
       "      <td>1150000.0</td>\n",
       "      <td>950000.0</td>\n",
       "      <td>1450000.0</td>\n",
       "    </tr>\n",
       "    <tr>\n",
       "      <th>Agropecuaria</th>\n",
       "      <td>1176471.0</td>\n",
       "      <td>1250000.0</td>\n",
       "      <td>975000.0</td>\n",
       "      <td>1325000.0</td>\n",
       "    </tr>\n",
       "    <tr>\n",
       "      <th>Arte y Arquitectura</th>\n",
       "      <td>1079825.0</td>\n",
       "      <td>1050000.0</td>\n",
       "      <td>850000.0</td>\n",
       "      <td>1350000.0</td>\n",
       "    </tr>\n",
       "    <tr>\n",
       "      <th>Ciencias Básicas</th>\n",
       "      <td>1575000.0</td>\n",
       "      <td>1400000.0</td>\n",
       "      <td>1125000.0</td>\n",
       "      <td>2025000.0</td>\n",
       "    </tr>\n",
       "    <tr>\n",
       "      <th>Ciencias Sociales</th>\n",
       "      <td>1155042.0</td>\n",
       "      <td>1150000.0</td>\n",
       "      <td>1050000.0</td>\n",
       "      <td>1250000.0</td>\n",
       "    </tr>\n",
       "    <tr>\n",
       "      <th>Derecho</th>\n",
       "      <td>1561111.0</td>\n",
       "      <td>1550000.0</td>\n",
       "      <td>1400000.0</td>\n",
       "      <td>1800000.0</td>\n",
       "    </tr>\n",
       "    <tr>\n",
       "      <th>Educación</th>\n",
       "      <td>963990.0</td>\n",
       "      <td>950000.0</td>\n",
       "      <td>950000.0</td>\n",
       "      <td>1050000.0</td>\n",
       "    </tr>\n",
       "    <tr>\n",
       "      <th>Humanidades</th>\n",
       "      <td>870000.0</td>\n",
       "      <td>850000.0</td>\n",
       "      <td>850000.0</td>\n",
       "      <td>850000.0</td>\n",
       "    </tr>\n",
       "    <tr>\n",
       "      <th>Salud</th>\n",
       "      <td>1454510.0</td>\n",
       "      <td>1350000.0</td>\n",
       "      <td>950000.0</td>\n",
       "      <td>1750000.0</td>\n",
       "    </tr>\n",
       "    <tr>\n",
       "      <th>Tecnología</th>\n",
       "      <td>1552448.0</td>\n",
       "      <td>1450000.0</td>\n",
       "      <td>1050000.0</td>\n",
       "      <td>1925000.0</td>\n",
       "    </tr>\n",
       "  </tbody>\n",
       "</table>\n",
       "</div>"
      ],
      "text/plain": [
       "                               Media    Mediana  Percentil 25  percentil_75\n",
       "Área                                                                       \n",
       "Administración y Comercio  1221930.0  1150000.0      950000.0     1450000.0\n",
       "Agropecuaria               1176471.0  1250000.0      975000.0     1325000.0\n",
       "Arte y Arquitectura        1079825.0  1050000.0      850000.0     1350000.0\n",
       "Ciencias Básicas           1575000.0  1400000.0     1125000.0     2025000.0\n",
       "Ciencias Sociales          1155042.0  1150000.0     1050000.0     1250000.0\n",
       "Derecho                    1561111.0  1550000.0     1400000.0     1800000.0\n",
       "Educación                   963990.0   950000.0      950000.0     1050000.0\n",
       "Humanidades                 870000.0   850000.0      850000.0      850000.0\n",
       "Salud                      1454510.0  1350000.0      950000.0     1750000.0\n",
       "Tecnología                 1552448.0  1450000.0     1050000.0     1925000.0"
      ]
     },
     "execution_count": 118,
     "metadata": {},
     "output_type": "execute_result"
    }
   ],
   "source": [
    "# Calcular valores para el DataFrame\n",
    "media = round(C.groupby('Área')['Ingreso al 4° año (pesos)'].mean())\n",
    "mediana = C.groupby('Área')['Ingreso al 4° año (pesos)'].median()\n",
    "percentil_25 = C.groupby('Área')['Ingreso al 4° año (pesos)'].quantile(0.25)\n",
    "percentil_75 = C.groupby('Área')['Ingreso al 4° año (pesos)'].quantile(0.75)\n",
    "\n",
    "# Construir Dataframe\n",
    "tabla = pd.DataFrame({\n",
    "    \"Media\": media,\n",
    "    \"Mediana\": mediana,\n",
    "    \"Percentil 25\": percentil_25,\n",
    "    \"percentil_75\": percentil_75\n",
    "})\n",
    "tabla"
   ]
  },
  {
   "cell_type": "markdown",
   "metadata": {
    "id": "HsT5VXgLpJEF"
   },
   "source": [
    "5. Interpreta las medidas calculadas para el área de Agropecuaria y Tecnología."
   ]
  },
  {
   "cell_type": "code",
   "execution_count": null,
   "metadata": {},
   "outputs": [],
   "source": [
    "print(f\"Segun las medidas de Agropecuaria y Tecnologia, se puede hacer una comparacion, el ingreso es claramente mayor en Tecnologia\")\n",
    "# Son muchos datos para interpretar uno por uno con codigo usando .iloc[x] :v"
   ]
  },
  {
   "cell_type": "markdown",
   "metadata": {
    "id": "J0DE_7Xwsqgo"
   },
   "source": [
    "6. Considerando las medidas calculadas, para el análisis del Área de Salud, ¿qué medida considerarías más representativa? Comenta con tus compañeros."
   ]
  },
  {
   "cell_type": "code",
   "execution_count": null,
   "metadata": {},
   "outputs": [],
   "source": [
    "# Consideraria la mediana ya que esta no se ve afectada por los sueldos demasiado altos o demasiado bajos, y da una representacion mas exacta\n",
    "# o real sobre lo que uno puede obtener como sueldo"
   ]
  },
  {
   "cell_type": "markdown",
   "metadata": {
    "id": "0jTnsFYC1yh0"
   },
   "source": [
    "7. Compara la media del ingreso al 4to año de titulación, por Área y por Tipo de institución. ¿Qué conclusiones puedes extraer acerca del impacto del tipo de institución en el ingreso según área?\n",
    "\n",
    "*Sugerencia: Puedes crear una tabla bivariada utilizando la función crosstab() de Pandas*."
   ]
  },
  {
   "cell_type": "code",
   "execution_count": null,
   "metadata": {},
   "outputs": [
    {
     "data": {
      "text/html": [
       "<div>\n",
       "<style scoped>\n",
       "    .dataframe tbody tr th:only-of-type {\n",
       "        vertical-align: middle;\n",
       "    }\n",
       "\n",
       "    .dataframe tbody tr th {\n",
       "        vertical-align: top;\n",
       "    }\n",
       "\n",
       "    .dataframe thead th {\n",
       "        text-align: right;\n",
       "    }\n",
       "</style>\n",
       "<table border=\"1\" class=\"dataframe\">\n",
       "  <thead>\n",
       "    <tr style=\"text-align: right;\">\n",
       "      <th>Tipo de institución</th>\n",
       "      <th>Centros de Formación Técnica</th>\n",
       "      <th>Insitutos Profesionales</th>\n",
       "      <th>Universidades</th>\n",
       "    </tr>\n",
       "    <tr>\n",
       "      <th>Área</th>\n",
       "      <th></th>\n",
       "      <th></th>\n",
       "      <th></th>\n",
       "    </tr>\n",
       "  </thead>\n",
       "  <tbody>\n",
       "    <tr>\n",
       "      <th>Administración y Comercio</th>\n",
       "      <td>895455.0</td>\n",
       "      <td>1038525.0</td>\n",
       "      <td>1430682.0</td>\n",
       "    </tr>\n",
       "    <tr>\n",
       "      <th>Agropecuaria</th>\n",
       "      <td>870000.0</td>\n",
       "      <td>907143.0</td>\n",
       "      <td>1331818.0</td>\n",
       "    </tr>\n",
       "    <tr>\n",
       "      <th>Arte y Arquitectura</th>\n",
       "      <td>750000.0</td>\n",
       "      <td>854167.0</td>\n",
       "      <td>1259375.0</td>\n",
       "    </tr>\n",
       "    <tr>\n",
       "      <th>Ciencias Básicas</th>\n",
       "      <td>1050000.0</td>\n",
       "      <td>1150000.0</td>\n",
       "      <td>1795455.0</td>\n",
       "    </tr>\n",
       "    <tr>\n",
       "      <th>Ciencias Sociales</th>\n",
       "      <td>683333.0</td>\n",
       "      <td>1035714.0</td>\n",
       "      <td>1185294.0</td>\n",
       "    </tr>\n",
       "    <tr>\n",
       "      <th>Derecho</th>\n",
       "      <td>850000.0</td>\n",
       "      <td>850000.0</td>\n",
       "      <td>1618000.0</td>\n",
       "    </tr>\n",
       "    <tr>\n",
       "      <th>Educación</th>\n",
       "      <td>608333.0</td>\n",
       "      <td>673810.0</td>\n",
       "      <td>1028750.0</td>\n",
       "    </tr>\n",
       "    <tr>\n",
       "      <th>Humanidades</th>\n",
       "      <td>NaN</td>\n",
       "      <td>900000.0</td>\n",
       "      <td>850000.0</td>\n",
       "    </tr>\n",
       "    <tr>\n",
       "      <th>Salud</th>\n",
       "      <td>728261.0</td>\n",
       "      <td>780435.0</td>\n",
       "      <td>1608612.0</td>\n",
       "    </tr>\n",
       "    <tr>\n",
       "      <th>Tecnología</th>\n",
       "      <td>1084375.0</td>\n",
       "      <td>1110241.0</td>\n",
       "      <td>1854678.0</td>\n",
       "    </tr>\n",
       "  </tbody>\n",
       "</table>\n",
       "</div>"
      ],
      "text/plain": [
       "Tipo de institución        Centros de Formación Técnica  \\\n",
       "Área                                                      \n",
       "Administración y Comercio                      895455.0   \n",
       "Agropecuaria                                   870000.0   \n",
       "Arte y Arquitectura                            750000.0   \n",
       "Ciencias Básicas                              1050000.0   \n",
       "Ciencias Sociales                              683333.0   \n",
       "Derecho                                        850000.0   \n",
       "Educación                                      608333.0   \n",
       "Humanidades                                         NaN   \n",
       "Salud                                          728261.0   \n",
       "Tecnología                                    1084375.0   \n",
       "\n",
       "Tipo de institución        Insitutos Profesionales  Universidades  \n",
       "Área                                                               \n",
       "Administración y Comercio                1038525.0      1430682.0  \n",
       "Agropecuaria                              907143.0      1331818.0  \n",
       "Arte y Arquitectura                       854167.0      1259375.0  \n",
       "Ciencias Básicas                         1150000.0      1795455.0  \n",
       "Ciencias Sociales                        1035714.0      1185294.0  \n",
       "Derecho                                   850000.0      1618000.0  \n",
       "Educación                                 673810.0      1028750.0  \n",
       "Humanidades                               900000.0       850000.0  \n",
       "Salud                                     780435.0      1608612.0  \n",
       "Tecnología                               1110241.0      1854678.0  "
      ]
     },
     "execution_count": 120,
     "metadata": {},
     "output_type": "execute_result"
    }
   ],
   "source": [
    "tabla = pd.crosstab(C['Área'],C['Tipo de institución'],C['Ingreso al 4° año (pesos)'],aggfunc='mean')\n",
    "tabla = round(tabla)\n",
    "print(\"Que sin importar donde estudies, siempre las areas mejor pagadas seran Ciencias basicas y Tecnologia\")\n",
    "print(\"Aunque tambien el resto de Areas son bien pagadas si el tipo de institucion es la Universidad\")\n",
    "tabla"
   ]
  },
  {
   "cell_type": "markdown",
   "metadata": {
    "id": "7iYYoumKEuNS"
   },
   "source": [
    "## Actividad 4"
   ]
  },
  {
   "cell_type": "markdown",
   "metadata": {
    "id": "fR7z9FehEwr5"
   },
   "source": [
    "La siguiente base de datos posee los registros de todas las calificaciones obtenidas por los alumnos del segundo semestre del 2019, jornada diurna en la asignatura de Álgebra.\n",
    "\n",
    "Para responder las siguientes preguntas, descarga la base de datos **<a href=\"https://drive.google.com/uc?export=download&id=1cD6GAWUzR2G8eHEEnfPHIuzKIZtHcSf7\n",
    "\">aquí</a>**."
   ]
  },
  {
   "cell_type": "markdown",
   "metadata": {
    "id": "_Hbt3C-gF6sj"
   },
   "source": [
    "1. ¿Cuál es la población en estudio?"
   ]
  },
  {
   "cell_type": "code",
   "execution_count": null,
   "metadata": {},
   "outputs": [],
   "source": [
    "# La poblacion del estudio son las calificaciones de los alumnos del segundo semestre del 2019"
   ]
  },
  {
   "cell_type": "markdown",
   "metadata": {
    "id": "xoxT4IDXHBwY"
   },
   "source": [
    "2. ¿Cuál es la muestra en estudio?"
   ]
  },
  {
   "cell_type": "code",
   "execution_count": 2,
   "metadata": {},
   "outputs": [
    {
     "name": "stdout",
     "output_type": "stream",
     "text": [
      "La muestra del estudio son las 516 calificaciones de los alumnos del segundo semestre del 2019\n"
     ]
    }
   ],
   "source": [
    "import pandas as pd\n",
    "df = pd.read_csv('Actividad_4.csv')\n",
    "tamaño = df.shape[0]\n",
    "print(f\"La muestra del estudio son las {tamaño} calificaciones de los alumnos del segundo semestre del 2019\")"
   ]
  },
  {
   "cell_type": "markdown",
   "metadata": {
    "id": "2loaxPnTHOD-"
   },
   "source": [
    "3.  Identifique y clasifique las variables involucradas en el estudio."
   ]
  },
  {
   "cell_type": "code",
   "execution_count": null,
   "metadata": {},
   "outputs": [],
   "source": [
    "# ID alumno: es una variable cualitativa nominal (Porque es una etiqueta/identificador)\n",
    "# EL resto: son variables cuantitivas continuas"
   ]
  },
  {
   "cell_type": "markdown",
   "metadata": {
    "id": "OuVEOxKBHwAd"
   },
   "source": [
    "4. Calcule e interprete las medidas de tendencia central de las notas del examen."
   ]
  },
  {
   "cell_type": "code",
   "execution_count": 131,
   "metadata": {},
   "outputs": [
    {
     "name": "stdout",
     "output_type": "stream",
     "text": [
      "La media de las notas del examen es: 5.1\n",
      "La mediana de las notas del examen es: 5.2\n",
      "La moda de las notas del examen es: 5.3\n"
     ]
    }
   ],
   "source": [
    "# media, mediana y moda\n",
    "media = round(df['Nota Examen'].mean(),1)\n",
    "mediana = df['Nota Examen'].median()\n",
    "moda = df['Nota Examen'].mode()[0]\n",
    "print(f\"La media de las notas del examen es: {media}\")\n",
    "print(f\"La mediana de las notas del examen es: {mediana}\")\n",
    "print(f\"La moda de las notas del examen es: {moda}\")"
   ]
  },
  {
   "cell_type": "markdown",
   "metadata": {
    "id": "lBGfmlcSKHz6"
   },
   "source": [
    "5. ¿Entre qué valores se encuentra el 60% de las notas más bajas en la prueba 1?"
   ]
  },
  {
   "cell_type": "code",
   "execution_count": null,
   "metadata": {},
   "outputs": [
    {
     "name": "stdout",
     "output_type": "stream",
     "text": [
      "Los valores del 60% de las notas mas bajas se encuentran entre 1.6 - 5.7\n"
     ]
    }
   ],
   "source": [
    "percentil_60 = df['Prueba 1'].quantile(0.6)\n",
    "prueba_min = min(df['Prueba 1'])\n",
    "print(f\"Los valores del 60% de las notas mas bajas se encuentran entre: {prueba_min} - {percentil_60}\")"
   ]
  },
  {
   "cell_type": "markdown",
   "metadata": {
    "id": "2KLvEaBvLBoA"
   },
   "source": [
    "6.  La institución de educación creará cursos de reforzamiento para todos los estudiantes cuyas calificaciones en la Prueba 2, estén en el 25% más bajo. ¿Cuál es la nota más alta dentro de este grupo que va a reforzamiento?"
   ]
  },
  {
   "cell_type": "code",
   "execution_count": null,
   "metadata": {},
   "outputs": [
    {
     "name": "stdout",
     "output_type": "stream",
     "text": [
      "La nota mas alta dentro del grupo de reforzamiento es 4.4\n"
     ]
    }
   ],
   "source": [
    "percentil_25 = df['Prueba 2'].quantile(0.25)\n",
    "print(f\"La nota mas alta dentro del grupo de reforzamiento es: {percentil_25}\")"
   ]
  },
  {
   "cell_type": "markdown",
   "metadata": {
    "id": "X0V0gspsLsZf"
   },
   "source": [
    "7. ¿Cuál es la nota más baja entre el 30% de mejores notas del examen?"
   ]
  },
  {
   "cell_type": "code",
   "execution_count": 7,
   "metadata": {},
   "outputs": [
    {
     "name": "stdout",
     "output_type": "stream",
     "text": [
      "La nota mas baja entre el 30% de las mejores notas del examen es: 5.7\n"
     ]
    }
   ],
   "source": [
    "percentil_70 = df['Nota Examen'].quantile(0.7)\n",
    "print(f\"La nota mas baja entre el 30% de las mejores notas del examen es: {percentil_70}\")"
   ]
  },
  {
   "cell_type": "markdown",
   "metadata": {
    "id": "CObFwfk1MINR"
   },
   "source": [
    "8. Si se desea reevaluar al 10% más bajo en el examen, ¿cuál es rango de notas que se debe considerar?"
   ]
  },
  {
   "cell_type": "code",
   "execution_count": null,
   "metadata": {},
   "outputs": [
    {
     "name": "stdout",
     "output_type": "stream",
     "text": [
      "Debe considerar el rango entre: 3.5 - 7.0 de notas\n"
     ]
    }
   ],
   "source": [
    "percentil_10 = df['Nota Examen'].quantile(0.1)\n",
    "examen_max = df['Nota Examen'].max()\n",
    "\n",
    "print(f\"Debe considerar el rango entre: {percentil_10} - {examen_max} de notas\")"
   ]
  },
  {
   "cell_type": "markdown",
   "metadata": {
    "id": "K7yLMBBlNLls"
   },
   "source": [
    "9. Si la institución va a premiar al 5% de las mejores notas finales, ¿cuál es la nota más baja registrada por ese grupo?"
   ]
  },
  {
   "cell_type": "code",
   "execution_count": 9,
   "metadata": {},
   "outputs": [
    {
     "name": "stdout",
     "output_type": "stream",
     "text": [
      "La nota mas baja registrada del grupo del 5% con mejores notas finales es: 6.6\n"
     ]
    }
   ],
   "source": [
    "percentil_95 = df['Nota Examen'].quantile(0.95)\n",
    "print(f\"La nota mas baja registrada del grupo del 5% con mejores notas finales es: {percentil_95}\")"
   ]
  }
 ],
 "metadata": {
  "colab": {
   "authorship_tag": "ABX9TyN100w6Re0gNn3G28eHdlrf",
   "collapsed_sections": [
    "zAH3inNheoYF",
    "2sRyMcRRhdn4",
    "en8y12lQSwlk",
    "7iYYoumKEuNS"
   ],
   "provenance": [
    {
     "file_id": "1-J4Cltcp_QPaOzt0RCeBnZTdjOKAUMh2",
     "timestamp": 1749087731394
    }
   ],
   "toc_visible": true
  },
  "kernelspec": {
   "display_name": "Python 3",
   "name": "python3"
  },
  "language_info": {
   "codemirror_mode": {
    "name": "ipython",
    "version": 3
   },
   "file_extension": ".py",
   "mimetype": "text/x-python",
   "name": "python",
   "nbconvert_exporter": "python",
   "pygments_lexer": "ipython3",
   "version": "3.13.3"
  }
 },
 "nbformat": 4,
 "nbformat_minor": 0
}
