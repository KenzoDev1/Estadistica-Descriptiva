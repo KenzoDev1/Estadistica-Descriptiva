{
 "cells": [
  {
   "cell_type": "markdown",
   "metadata": {
    "id": "xAEkiV4ILRiC"
   },
   "source": [
    "# Medidas de Tendencia Central y Percentiles"
   ]
  },
  {
   "cell_type": "markdown",
   "metadata": {
    "id": "QNj511B_MZcq"
   },
   "source": [
    "## Objetivo:"
   ]
  },
  {
   "cell_type": "markdown",
   "metadata": {
    "id": "A0OCHa57MiDs"
   },
   "source": [
    "Aplicar las medidas de tendencia central (media, mediana y moda) y medidas de posición no central (percentiles) en el análisis de datos, utilizando Python como herramienta de apoyo."
   ]
  },
  {
   "cell_type": "markdown",
   "metadata": {
    "id": "_eTyyW3nMsa9"
   },
   "source": [
    "*Nota: Este laboratorio está diseñado para desarrollar razonamiento estadístico. Evita el uso de herramientas de IA para responder las preguntas a menos que esto sea explícitamente sugerido* 🤖. *En su lugar, enfócate en aplicar los conceptos revisados.*"
   ]
  },
  {
   "cell_type": "markdown",
   "metadata": {
    "id": "zAH3inNheoYF"
   },
   "source": [
    "## Actividad 1"
   ]
  },
  {
   "cell_type": "markdown",
   "metadata": {
    "id": "QAovxMozeqZG"
   },
   "source": [
    "Imagina que trabajas como analista de datos en una consultora de orientación vocacional que asesora a estudiantes de enseñanza media sobre qué carrera elegir. Recibes una base de datos con información de carreras técnicas y profesionales de distintas instituciones chilenas de los años 2024 y 2025. Tu misión es analizar los ingresos y empleabilidad de los titulados, y entregar conclusiones claras que ayuden a tomar decisiones.\n",
    "\n",
    "**Utiliza la siguiente base de datos para responder las actividades 1, 2 y 3.**\n",
    "\n",
    "Descarga la base de datos **<a href=\"https://docs.google.com/spreadsheets/d/1JmPTeHd5mzM4V8A2yLz0Jhwt6MDmmaxf/export?format=xlsx\n",
    "\">aquí</a>**."
   ]
  },
  {
   "cell_type": "markdown",
   "metadata": {
    "id": "KRK7q_aoe7s3"
   },
   "source": [
    "1. Identifica la población y muestra del estudio."
   ]
  },
  {
   "cell_type": "code",
   "execution_count": null,
   "metadata": {},
   "outputs": [],
   "source": [
    "import pandas as pd\n",
    "C = pd.read_excel('Actividad_1_2_3.xlsx')\n"
   ]
  },
  {
   "cell_type": "markdown",
   "metadata": {
    "id": "pKhW1r5PhWJj"
   },
   "source": [
    "2. Clasifica las variables presentes en la base de datos."
   ]
  },
  {
   "cell_type": "markdown",
   "metadata": {
    "id": "8tNyw-sClx2E"
   },
   "source": [
    "3. ¿Cuál es el ingreso promedio de los titulados? ¿Y la mediana? ¿Qué puedes concluir de la diferencia entre ambos?"
   ]
  },
  {
   "cell_type": "code",
   "execution_count": null,
   "metadata": {},
   "outputs": [],
   "source": [
    "promedio = C['Ingreso al 4° año (pesos)'].mean()\n",
    "mediana=C['Ingreso al 4° año (pesos)'].median()\n",
    "\n",
    "print(f\"El promedio aprox de los ingresos al 4to año es de  ${round(promedio)}\")\n",
    "print(f\"El 50% de los ingresos al 4to año son menores o iguales a ${mediana}\")\n",
    "\n",
    "print('''\n",
    "La mediana no alcanza al valor promedio de los ingresos al 4to año,\n",
    "esto quiere decir que existe datos extremos (altos ingresos) que influyen en el calculo de la media,\n",
    "lo cual no permite que sea el mejor representante de los datos.\n",
    "''')"
   ]
  },
  {
   "cell_type": "markdown",
   "metadata": {
    "id": "YOnsI5PxUUmd"
   },
   "source": [
    "4. ¿Cuál es la moda de los ingresos? Interprétala."
   ]
  },
  {
   "cell_type": "code",
   "execution_count": null,
   "metadata": {},
   "outputs": [],
   "source": []
  },
  {
   "cell_type": "markdown",
   "metadata": {
    "id": "xGGch3VyYXw3"
   },
   "source": [
    "5. Calcula los percentiles 25, 50 y 75 del ingreso de los titulados e interprétalos."
   ]
  },
  {
   "cell_type": "code",
   "execution_count": null,
   "metadata": {},
   "outputs": [],
   "source": [
    "round(C['Ingreso al 4° año (pesos)'].describe())"
   ]
  },
  {
   "cell_type": "markdown",
   "metadata": {
    "id": "wqtdL2FeZ8Ia"
   },
   "source": [
    "6. Utiliza la función *describe()* de Pandas para validar tus resultados."
   ]
  },
  {
   "cell_type": "markdown",
   "metadata": {
    "id": "9L_sPHOXccC2"
   },
   "source": [
    "7. Considera que tres personas desean estudiar Técnico en enfermería, pero cada una valora cosas distintas:\n",
    "* Sofía busca maximizar su ingreso futuro.\n",
    "* Diego prioriza encontrar trabajo rápidamente.\n",
    "* Camila quiere un equilibrio entre ambas.\n",
    "\n",
    "$\\hspace{1cm}$Considerando la media como medida representativa, ¿qué tipo de institución recomendarías a cada uno y por qué?"
   ]
  },
  {
   "cell_type": "code",
   "execution_count": null,
   "metadata": {},
   "outputs": [],
   "source": [
    "Enf=C[C['']]"
   ]
  },
  {
   "cell_type": "markdown",
   "metadata": {
    "id": "2sRyMcRRhdn4"
   },
   "source": [
    "## Actividad 2"
   ]
  },
  {
   "cell_type": "markdown",
   "metadata": {
    "id": "0PIUaTCqjgvy"
   },
   "source": [
    "Un grupo de estudiantes está evaluando si el nivel de acreditación de una institución podría impactar sus resultados laborales. Para responder esta pregunta, realiza el siguiente análisis:\n",
    "\n",
    "**Utiliza la siguiente base de datos para responder las actividades 1, 2 y 3.**\n",
    "\n",
    "Descarga la base de datos **<a href=\"https://docs.google.com/spreadsheets/d/1JmPTeHd5mzM4V8A2yLz0Jhwt6MDmmaxf/export?format=xlsx\n",
    "\">aquí</a>**."
   ]
  },
  {
   "cell_type": "markdown",
   "metadata": {
    "id": "qjkaN7aSk7Mh"
   },
   "source": [
    "1. Agrupa los datos por años de acreditación y calcula la media y la mediana del ingreso al 4to año de cada grupo."
   ]
  },
  {
   "cell_type": "markdown",
   "metadata": {
    "id": "j6rnKYndn6gd"
   },
   "source": [
    "2. ¿Existe una relación aparente entre la cantidad de años de acreditación y el ingreso promedio? ¿Qué patrón observas?"
   ]
  },
  {
   "cell_type": "markdown",
   "metadata": {
    "id": "mTPVCp0EqpgU"
   },
   "source": [
    "3. ¿Se observa una tendencia similar al analizar la empleabilidad al primer año?"
   ]
  },
  {
   "cell_type": "markdown",
   "metadata": {
    "id": "QRxVmKHxroxK"
   },
   "source": [
    "4. Comparando las variables ingreso y empleabilidad, analiza cómo varían la media y la mediana en cada caso. ¿Qué conclusiones generales puedes extraer sobre la representatividad de estas medidas?"
   ]
  },
  {
   "cell_type": "markdown",
   "metadata": {
    "id": "cWwt8PXeydRi"
   },
   "source": [
    "5. Teniendo en cuenta tu análisis sobre cómo varían los ingresos y la empleabilidad con los años de acreditación, ¿qué consejo le darías a un estudiante que va a elegir una institución basándose únicamente en el nivel de acreditación? Justifica tu recomendación."
   ]
  },
  {
   "cell_type": "markdown",
   "metadata": {
    "id": "en8y12lQSwlk"
   },
   "source": [
    "## Actividad 3"
   ]
  },
  {
   "cell_type": "markdown",
   "metadata": {
    "id": "akqhEUEwSyjz"
   },
   "source": [
    "Imagina que trabajas como analista del Ministerio de Educación. Te han solicitado caracterizar los resultados laborales de los titulados por área de formación utilizando una base de datos con información de carreras técnicas y profesionales de distintas instituciones chilenas de los años 2024 y 2025.\n",
    "\n",
    "**Utiliza la siguiente base de datos para responder las actividades 1, 2 y 3.**\n",
    "\n",
    "Descarga la base de datos **<a href=\"https://docs.google.com/spreadsheets/d/1JmPTeHd5mzM4V8A2yLz0Jhwt6MDmmaxf/export?format=xlsx\n",
    "\">aquí</a>**."
   ]
  },
  {
   "cell_type": "markdown",
   "metadata": {
    "id": "avMtjuUxyIMs"
   },
   "source": [
    "1. ¿Cuál Área se observa con mayor frecuencia entre los titulados?"
   ]
  },
  {
   "cell_type": "markdown",
   "metadata": {
    "id": "lEYcY6rqv4Ml"
   },
   "source": [
    "2. ¿Entre qué sueldos se encuentran los egresados del 10% más alto al 4to año de titulación?"
   ]
  },
  {
   "cell_type": "markdown",
   "metadata": {
    "id": "uB0TdjuExUI2"
   },
   "source": [
    "3. ¿Entre qué sueldos se encuentran los egresados del 17% más bajo al 4to año de titulación?"
   ]
  },
  {
   "cell_type": "markdown",
   "metadata": {
    "id": "JAToWUPTTjDR"
   },
   "source": [
    "4. Agrupa los datos por Área y para cada grupo calcula las siguientes medidas del Ingreso al 4° año:\n",
    "* Media\n",
    "* Mediana\n",
    "* Percentil 25\n",
    "* Percentil 75\n",
    "\n",
    "$\\hspace{1cm}$Luego, construye un DataFrame que reúna estas cuatro columnas."
   ]
  },
  {
   "cell_type": "markdown",
   "metadata": {
    "id": "HsT5VXgLpJEF"
   },
   "source": [
    "5. Interpreta las medidas calculadas para el área de Agropecuaria y Tecnología."
   ]
  },
  {
   "cell_type": "markdown",
   "metadata": {
    "id": "J0DE_7Xwsqgo"
   },
   "source": [
    "6. Considerando las medidas calculadas, para el análisis del Área de Salud, ¿qué medida considerarías más representativa? Comenta con tus compañeros."
   ]
  },
  {
   "cell_type": "markdown",
   "metadata": {
    "id": "0jTnsFYC1yh0"
   },
   "source": [
    "7. Compara la media del ingreso al 4to año de titulación, por Área y por Tipo de institución. ¿Qué conclusiones puedes extraer acerca del impacto del tipo de institución en el ingreso según área?\n",
    "\n",
    "*Sugerencia: Puedes crear una tabla bivariada utilizando la función crosstab() de Pandas*."
   ]
  },
  {
   "cell_type": "markdown",
   "metadata": {
    "id": "7iYYoumKEuNS"
   },
   "source": [
    "## Actividad 4"
   ]
  },
  {
   "cell_type": "markdown",
   "metadata": {
    "id": "fR7z9FehEwr5"
   },
   "source": [
    "La siguiente base de datos posee los registros de todas las calificaciones obtenidas por los alumnos del segundo semestre del 2019, jornada diurna en la asignatura de Álgebra.\n",
    "\n",
    "Para responder las siguientes preguntas, descarga la base de datos **<a href=\"https://drive.google.com/uc?export=download&id=1cD6GAWUzR2G8eHEEnfPHIuzKIZtHcSf7\n",
    "\">aquí</a>**."
   ]
  },
  {
   "cell_type": "markdown",
   "metadata": {
    "id": "_Hbt3C-gF6sj"
   },
   "source": [
    "1. ¿Cuál es la población en estudio?"
   ]
  },
  {
   "cell_type": "markdown",
   "metadata": {
    "id": "xoxT4IDXHBwY"
   },
   "source": [
    "2. ¿Cuál es la muestra en estudio?"
   ]
  },
  {
   "cell_type": "markdown",
   "metadata": {
    "id": "2loaxPnTHOD-"
   },
   "source": [
    "3.  Identifique y clasifique las variables involucradas en el estudio."
   ]
  },
  {
   "cell_type": "markdown",
   "metadata": {
    "id": "OuVEOxKBHwAd"
   },
   "source": [
    "4. Calcule e interprete las medidas de tendencia central de las notas del examen."
   ]
  },
  {
   "cell_type": "markdown",
   "metadata": {
    "id": "lBGfmlcSKHz6"
   },
   "source": [
    "5. ¿Entre qué valores se encuentra el 60% de las notas más bajas en la prueba 1?"
   ]
  },
  {
   "cell_type": "markdown",
   "metadata": {
    "id": "2KLvEaBvLBoA"
   },
   "source": [
    "6.  La institución de educación creará cursos de reforzamiento para todos los estudiantes cuyas calificaciones en la Prueba 2, estén en el 25% más bajo. ¿Cuál es la nota más alta dentro de este grupo que va a reforzamiento?"
   ]
  },
  {
   "cell_type": "markdown",
   "metadata": {
    "id": "X0V0gspsLsZf"
   },
   "source": [
    "7. ¿Cuál es la nota más baja entre el 30% de mejores notas del examen?"
   ]
  },
  {
   "cell_type": "markdown",
   "metadata": {
    "id": "CObFwfk1MINR"
   },
   "source": [
    "8. Si se desea reevaluar al 10% más bajo en el examen, ¿cuál es rango de notas que se debe considerar?"
   ]
  },
  {
   "cell_type": "markdown",
   "metadata": {
    "id": "K7yLMBBlNLls"
   },
   "source": [
    "9. Si la institución va a premiar al 5% de las mejores notas finales, ¿cuál es la nota más baja registrada por ese grupo?"
   ]
  }
 ],
 "metadata": {
  "colab": {
   "authorship_tag": "ABX9TyN100w6Re0gNn3G28eHdlrf",
   "collapsed_sections": [
    "zAH3inNheoYF",
    "2sRyMcRRhdn4",
    "en8y12lQSwlk",
    "7iYYoumKEuNS"
   ],
   "provenance": [
    {
     "file_id": "1-J4Cltcp_QPaOzt0RCeBnZTdjOKAUMh2",
     "timestamp": 1749087731394
    }
   ],
   "toc_visible": true
  },
  "kernelspec": {
   "display_name": "Python 3",
   "name": "python3"
  },
  "language_info": {
   "name": "python",
   "version": "3.13.3"
  }
 },
 "nbformat": 4,
 "nbformat_minor": 0
}
